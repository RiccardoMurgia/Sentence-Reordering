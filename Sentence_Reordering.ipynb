{
  "cells": [
    {
      "cell_type": "markdown",
      "source": [
        "\n",
        "\n",
        "1.   Murgia Riccardo\n",
        "2.   0001083930\n",
        "3.   riccardo.murgia2@studio.unibo.it \n",
        "\n"
      ],
      "metadata": {
        "id": "PpSS4ajMNINK"
      }
    },
    {
      "cell_type": "markdown",
      "metadata": {
        "id": "ElNaMbLnRdHR"
      },
      "source": [
        "# Sentence Reconstruction"
      ]
    },
    {
      "cell_type": "markdown",
      "metadata": {
        "id": "oXr4iGUGRms8"
      },
      "source": [
        "The purpose of this project is to take in input a sequence of words corresponding to a random permutation of a given english sentence, and reconstruct the original sentence. \n",
        "\n",
        "The otuput can be either produced in a single shot, or through an iterative (autoregressive) loop generating a single token at a time.\n",
        "\n",
        "CONSTRAINTS:\n",
        "* No pretrained model can be used.\n",
        "* The neural network models should have less the 20M parameters.\n"
      ]
    },
    {
      "cell_type": "markdown",
      "metadata": {
        "id": "iQ8k-L-WUK7l"
      },
      "source": [
        "# Dataset\n",
        "\n",
        "The dataset is composed by a snapshot of wikipedia. We restricted the vocabolary to the 10K most frequent words, and only took sentences making use of this vocabulary. In addition, we restricted to sequences with a length between 3 and 30 words.\n",
        "\n",
        "(Ignore the error, if any) "
      ]
    },
    {
      "cell_type": "code",
      "execution_count": 64,
      "metadata": {
        "colab": {
          "base_uri": "https://localhost:8080/",
          "height": 1000
        },
        "id": "0xmXLLfaUKA6",
        "outputId": "0bbd628b-8224-4d2e-ecfd-e86314229746"
      },
      "outputs": [
        {
          "output_type": "stream",
          "name": "stdout",
          "text": [
            "Looking in indexes: https://pypi.org/simple, https://us-python.pkg.dev/colab-wheels/public/simple/\n",
            "Requirement already satisfied: datasets in /usr/local/lib/python3.10/dist-packages (2.12.0)\n",
            "Requirement already satisfied: numpy>=1.17 in /usr/local/lib/python3.10/dist-packages (from datasets) (1.22.4)\n",
            "Requirement already satisfied: pyarrow>=8.0.0 in /usr/local/lib/python3.10/dist-packages (from datasets) (9.0.0)\n",
            "Requirement already satisfied: dill<0.3.7,>=0.3.0 in /usr/local/lib/python3.10/dist-packages (from datasets) (0.3.1.1)\n",
            "Requirement already satisfied: pandas in /usr/local/lib/python3.10/dist-packages (from datasets) (1.5.3)\n",
            "Requirement already satisfied: requests>=2.19.0 in /usr/local/lib/python3.10/dist-packages (from datasets) (2.27.1)\n",
            "Requirement already satisfied: tqdm>=4.62.1 in /usr/local/lib/python3.10/dist-packages (from datasets) (4.65.0)\n",
            "Requirement already satisfied: xxhash in /usr/local/lib/python3.10/dist-packages (from datasets) (3.2.0)\n",
            "Requirement already satisfied: multiprocess in /usr/local/lib/python3.10/dist-packages (from datasets) (0.70.14)\n",
            "Requirement already satisfied: fsspec[http]>=2021.11.1 in /usr/local/lib/python3.10/dist-packages (from datasets) (2023.4.0)\n",
            "Requirement already satisfied: aiohttp in /usr/local/lib/python3.10/dist-packages (from datasets) (3.8.4)\n",
            "Requirement already satisfied: huggingface-hub<1.0.0,>=0.11.0 in /usr/local/lib/python3.10/dist-packages (from datasets) (0.15.1)\n",
            "Requirement already satisfied: packaging in /usr/local/lib/python3.10/dist-packages (from datasets) (23.1)\n",
            "Requirement already satisfied: responses<0.19 in /usr/local/lib/python3.10/dist-packages (from datasets) (0.18.0)\n",
            "Requirement already satisfied: pyyaml>=5.1 in /usr/local/lib/python3.10/dist-packages (from datasets) (6.0)\n",
            "Requirement already satisfied: attrs>=17.3.0 in /usr/local/lib/python3.10/dist-packages (from aiohttp->datasets) (23.1.0)\n",
            "Requirement already satisfied: charset-normalizer<4.0,>=2.0 in /usr/local/lib/python3.10/dist-packages (from aiohttp->datasets) (2.0.12)\n",
            "Requirement already satisfied: multidict<7.0,>=4.5 in /usr/local/lib/python3.10/dist-packages (from aiohttp->datasets) (6.0.4)\n",
            "Requirement already satisfied: async-timeout<5.0,>=4.0.0a3 in /usr/local/lib/python3.10/dist-packages (from aiohttp->datasets) (4.0.2)\n",
            "Requirement already satisfied: yarl<2.0,>=1.0 in /usr/local/lib/python3.10/dist-packages (from aiohttp->datasets) (1.9.2)\n",
            "Requirement already satisfied: frozenlist>=1.1.1 in /usr/local/lib/python3.10/dist-packages (from aiohttp->datasets) (1.3.3)\n",
            "Requirement already satisfied: aiosignal>=1.1.2 in /usr/local/lib/python3.10/dist-packages (from aiohttp->datasets) (1.3.1)\n",
            "Requirement already satisfied: filelock in /usr/local/lib/python3.10/dist-packages (from huggingface-hub<1.0.0,>=0.11.0->datasets) (3.12.0)\n",
            "Requirement already satisfied: typing-extensions>=3.7.4.3 in /usr/local/lib/python3.10/dist-packages (from huggingface-hub<1.0.0,>=0.11.0->datasets) (4.5.0)\n",
            "Requirement already satisfied: urllib3<1.27,>=1.21.1 in /usr/local/lib/python3.10/dist-packages (from requests>=2.19.0->datasets) (1.26.15)\n",
            "Requirement already satisfied: certifi>=2017.4.17 in /usr/local/lib/python3.10/dist-packages (from requests>=2.19.0->datasets) (2022.12.7)\n",
            "Requirement already satisfied: idna<4,>=2.5 in /usr/local/lib/python3.10/dist-packages (from requests>=2.19.0->datasets) (3.4)\n",
            "Collecting dill<0.3.7,>=0.3.0 (from datasets)\n",
            "  Using cached dill-0.3.6-py3-none-any.whl (110 kB)\n",
            "Requirement already satisfied: python-dateutil>=2.8.1 in /usr/local/lib/python3.10/dist-packages (from pandas->datasets) (2.8.2)\n",
            "Requirement already satisfied: pytz>=2020.1 in /usr/local/lib/python3.10/dist-packages (from pandas->datasets) (2022.7.1)\n",
            "Requirement already satisfied: six>=1.5 in /usr/local/lib/python3.10/dist-packages (from python-dateutil>=2.8.1->pandas->datasets) (1.16.0)\n",
            "Installing collected packages: dill\n",
            "  Attempting uninstall: dill\n",
            "    Found existing installation: dill 0.3.1.1\n",
            "    Uninstalling dill-0.3.1.1:\n",
            "      Successfully uninstalled dill-0.3.1.1\n",
            "\u001b[31mERROR: pip's dependency resolver does not currently take into account all the packages that are installed. This behaviour is the source of the following dependency conflicts.\n",
            "apache-beam 2.48.0 requires dill<0.3.2,>=0.3.1.1, but you have dill 0.3.6 which is incompatible.\u001b[0m\u001b[31m\n",
            "\u001b[0mSuccessfully installed dill-0.3.6\n"
          ]
        },
        {
          "output_type": "display_data",
          "data": {
            "application/vnd.colab-display-data+json": {
              "pip_warning": {
                "packages": [
                  "dill"
                ]
              }
            }
          },
          "metadata": {}
        },
        {
          "output_type": "stream",
          "name": "stdout",
          "text": [
            "Looking in indexes: https://pypi.org/simple, https://us-python.pkg.dev/colab-wheels/public/simple/\n",
            "Requirement already satisfied: apache-beam in /usr/local/lib/python3.10/dist-packages (2.48.0)\n",
            "Requirement already satisfied: crcmod<2.0,>=1.7 in /usr/local/lib/python3.10/dist-packages (from apache-beam) (1.7)\n",
            "Requirement already satisfied: orjson<4.0 in /usr/local/lib/python3.10/dist-packages (from apache-beam) (3.9.1)\n",
            "Collecting dill<0.3.2,>=0.3.1.1 (from apache-beam)\n",
            "  Using cached dill-0.3.1.1-py3-none-any.whl\n",
            "Requirement already satisfied: cloudpickle~=2.2.1 in /usr/local/lib/python3.10/dist-packages (from apache-beam) (2.2.1)\n",
            "Requirement already satisfied: fastavro<2,>=0.23.6 in /usr/local/lib/python3.10/dist-packages (from apache-beam) (1.7.4)\n",
            "Requirement already satisfied: fasteners<1.0,>=0.3 in /usr/local/lib/python3.10/dist-packages (from apache-beam) (0.18)\n",
            "Requirement already satisfied: grpcio!=1.48.0,<2,>=1.33.1 in /usr/local/lib/python3.10/dist-packages (from apache-beam) (1.54.0)\n",
            "Requirement already satisfied: hdfs<3.0.0,>=2.1.0 in /usr/local/lib/python3.10/dist-packages (from apache-beam) (2.7.0)\n",
            "Requirement already satisfied: httplib2<0.23.0,>=0.8 in /usr/local/lib/python3.10/dist-packages (from apache-beam) (0.21.0)\n",
            "Requirement already satisfied: numpy<1.25.0,>=1.14.3 in /usr/local/lib/python3.10/dist-packages (from apache-beam) (1.22.4)\n",
            "Requirement already satisfied: objsize<0.7.0,>=0.6.1 in /usr/local/lib/python3.10/dist-packages (from apache-beam) (0.6.1)\n",
            "Requirement already satisfied: pymongo<5.0.0,>=3.8.0 in /usr/local/lib/python3.10/dist-packages (from apache-beam) (4.3.3)\n",
            "Requirement already satisfied: proto-plus<2,>=1.7.1 in /usr/local/lib/python3.10/dist-packages (from apache-beam) (1.22.2)\n",
            "Requirement already satisfied: protobuf<4.24.0,>=3.20.3 in /usr/local/lib/python3.10/dist-packages (from apache-beam) (3.20.3)\n",
            "Requirement already satisfied: pydot<2,>=1.2.0 in /usr/local/lib/python3.10/dist-packages (from apache-beam) (1.4.2)\n",
            "Requirement already satisfied: python-dateutil<3,>=2.8.0 in /usr/local/lib/python3.10/dist-packages (from apache-beam) (2.8.2)\n",
            "Requirement already satisfied: pytz>=2018.3 in /usr/local/lib/python3.10/dist-packages (from apache-beam) (2022.7.1)\n",
            "Requirement already satisfied: regex>=2020.6.8 in /usr/local/lib/python3.10/dist-packages (from apache-beam) (2022.10.31)\n",
            "Requirement already satisfied: requests<3.0.0,>=2.24.0 in /usr/local/lib/python3.10/dist-packages (from apache-beam) (2.27.1)\n",
            "Requirement already satisfied: typing-extensions>=3.7.0 in /usr/local/lib/python3.10/dist-packages (from apache-beam) (4.5.0)\n",
            "Requirement already satisfied: zstandard<1,>=0.18.0 in /usr/local/lib/python3.10/dist-packages (from apache-beam) (0.21.0)\n",
            "Requirement already satisfied: pyarrow<12.0.0,>=3.0.0 in /usr/local/lib/python3.10/dist-packages (from apache-beam) (9.0.0)\n",
            "Requirement already satisfied: docopt in /usr/local/lib/python3.10/dist-packages (from hdfs<3.0.0,>=2.1.0->apache-beam) (0.6.2)\n",
            "Requirement already satisfied: six>=1.9.0 in /usr/local/lib/python3.10/dist-packages (from hdfs<3.0.0,>=2.1.0->apache-beam) (1.16.0)\n",
            "Requirement already satisfied: pyparsing!=3.0.0,!=3.0.1,!=3.0.2,!=3.0.3,<4,>=2.4.2 in /usr/local/lib/python3.10/dist-packages (from httplib2<0.23.0,>=0.8->apache-beam) (3.0.9)\n",
            "Requirement already satisfied: dnspython<3.0.0,>=1.16.0 in /usr/local/lib/python3.10/dist-packages (from pymongo<5.0.0,>=3.8.0->apache-beam) (2.3.0)\n",
            "Requirement already satisfied: urllib3<1.27,>=1.21.1 in /usr/local/lib/python3.10/dist-packages (from requests<3.0.0,>=2.24.0->apache-beam) (1.26.15)\n",
            "Requirement already satisfied: certifi>=2017.4.17 in /usr/local/lib/python3.10/dist-packages (from requests<3.0.0,>=2.24.0->apache-beam) (2022.12.7)\n",
            "Requirement already satisfied: charset-normalizer~=2.0.0 in /usr/local/lib/python3.10/dist-packages (from requests<3.0.0,>=2.24.0->apache-beam) (2.0.12)\n",
            "Requirement already satisfied: idna<4,>=2.5 in /usr/local/lib/python3.10/dist-packages (from requests<3.0.0,>=2.24.0->apache-beam) (3.4)\n",
            "Installing collected packages: dill\n",
            "  Attempting uninstall: dill\n",
            "    Found existing installation: dill 0.3.6\n",
            "    Uninstalling dill-0.3.6:\n",
            "      Successfully uninstalled dill-0.3.6\n",
            "\u001b[31mERROR: pip's dependency resolver does not currently take into account all the packages that are installed. This behaviour is the source of the following dependency conflicts.\n",
            "multiprocess 0.70.14 requires dill>=0.3.6, but you have dill 0.3.1.1 which is incompatible.\u001b[0m\u001b[31m\n",
            "\u001b[0mSuccessfully installed dill-0.3.1.1\n"
          ]
        },
        {
          "output_type": "display_data",
          "data": {
            "application/vnd.colab-display-data+json": {
              "pip_warning": {
                "packages": [
                  "dill"
                ]
              }
            }
          },
          "metadata": {}
        }
      ],
      "source": [
        "!pip install datasets\n",
        "!pip3 install apache-beam"
      ]
    },
    {
      "cell_type": "code",
      "execution_count": null,
      "metadata": {
        "id": "INZIMG8itLHh"
      },
      "outputs": [],
      "source": [
        "from random import Random\n",
        "\n",
        "# Instantiate the Random instance with random seed = 42 to ensure reproducibility\n",
        "randomizer = Random(42)"
      ]
    },
    {
      "cell_type": "code",
      "execution_count": null,
      "metadata": {
        "id": "jRVmQCKdRb54"
      },
      "outputs": [],
      "source": [
        "from keras.preprocessing.text import Tokenizer\n",
        "from keras.utils import to_categorical, pad_sequences\n",
        "import numpy as np \n",
        "import pickle\n",
        "import gdown\n",
        "import random\n"
      ]
    },
    {
      "cell_type": "code",
      "execution_count": null,
      "metadata": {
        "colab": {
          "base_uri": "https://localhost:8080/",
          "height": 266,
          "referenced_widgets": [
            "8ec8110a85e64740bf52350382764346",
            "c1ca9866e2a44d7aaf83e647567ddf73",
            "416fd5817636466890ef87c18bc85f68",
            "4653b208012942589b058d9c72fe5320",
            "399e8ef5b571430d80c2c6be0f6cf23b",
            "0dfafc53e8c34eef893bf650d13cced8",
            "39b440d801bf49b597ae75475bf1b476",
            "c7353950f6f24747b9c65ec6e3c76f15",
            "2a2a3f7828f3471296840471e41ac33a",
            "160c09e5bb304287be8815b4f22dd7b3",
            "fc8be19784b042029933243ada04232c",
            "c792a7a3c7bd4bbdbb4e4bb80e6926f9",
            "45754d6979e34851b0e6a8c08146b482",
            "4905be1ac4c64212b6cd50bc666f3968",
            "445c437b77674fec85a0a999096d5462",
            "438fda23132044a1a20943b22edc5e9a",
            "59c0a4d92f4f47529f858140740f204a",
            "8f160cbb5f81440fa702f714f3e5a947",
            "8b96ac0e907f4b9686d8d6def915821d",
            "16e7c2df22524066aef8ea644c9b00c1",
            "0bdc12ce0caa4ae880f0dd4a86058593",
            "4c2b157c339c496ab1e43f143c26f495",
            "008093d8a2ca4cb4bdcfb89c63a00220",
            "cb1428c06e1b4ae6885293f06689ad91",
            "9bae2fdd6a1e43f5be7a7d91dfdbdb05",
            "02243f5d61d245ca9c250673c5f8810d",
            "a8d038a5a2684188b41d4ff12991ed2e",
            "b4391ffeddaa4f26a75c0ded1bc97557",
            "a2f626ff59cc4bc8b0667f87fdf47361",
            "819ba38504ed4fab87241d101b67a072",
            "40c9de498d384a76881e5d756c18b570",
            "5f5b76361ccd4590a8f3e8933d6f04d8",
            "e5adea08ae164c07a05baca09dbfaa24",
            "47d4bff634494a1e8264ae535705d6af",
            "39bbfb0de15441ff90aa752491984612",
            "ea6b975022ea46b4ade37124c91ac4b8",
            "3b46e417fec3436ab68e5f8766bfecff",
            "8c2e7fff2ab84b0ca7825e36eafeeca9",
            "cc499af6385e485e844b445f70b075ef",
            "07a0b6ed0a16401b8b86a9f4d96a355d",
            "8618bcfb56124d17b2b47ad4e00279c9",
            "9f5c282034fc4f3a9ea0fa6c4a4b4d5a",
            "fec11180f4234433895d4c22dcde8ef1",
            "8403e652c24e46429f91695e40f95af5",
            "9078c263aef94895bf305805904c45e2",
            "8e3b2fc68660420f80fd47ae34a5b652",
            "61f205d709c344d5ac8577b9bc10dbca",
            "cdcbe2369ffc4efb81c29d65aefcf750",
            "c3efd31f50cc4e2b947a233c4c384481",
            "b49c246e6d2944369211c87943cac330",
            "7a0da45539834b1f9044bd5f80e32134",
            "44a3b2cb7ec5471f9aab308cce9287bd",
            "c717d0126cd2476d953e3330cf9c5796",
            "468c634fab084d39997d24b66776c542",
            "1679a606ed9e439da0d6dcd36e79c17d",
            "e8ae32688c3442cb85855d0b4d377da2",
            "dba890458b414da49381f2abc448040b",
            "b02ebfabe98a4a029e6c68a530449993",
            "a21fe62f6ed64a1f8b3ccd1d42b58cca",
            "ab11494703ec4d6295ac7ed2f7431aca",
            "b0342aeb8ee94002ab77bd238ecb9564",
            "955eb3b981af4f8e9c06a37e03433750",
            "b57a14dc5d7a4e08bd7e413a69a321b8",
            "3a8a558acf7d4b049a448e5f69bd3133",
            "e685f9dec1c84253943295ca5c9d2beb",
            "093269ffceb54140be02605e4d716151"
          ]
        },
        "id": "AoeyVDv9uDwx",
        "outputId": "b98ec684-6b19-4f97-ccc2-cf6237f27ede"
      },
      "outputs": [
        {
          "output_type": "display_data",
          "data": {
            "text/plain": [
              "Downloading builder script:   0%|          | 0.00/35.9k [00:00<?, ?B/s]"
            ],
            "application/vnd.jupyter.widget-view+json": {
              "version_major": 2,
              "version_minor": 0,
              "model_id": "8ec8110a85e64740bf52350382764346"
            }
          },
          "metadata": {}
        },
        {
          "output_type": "display_data",
          "data": {
            "text/plain": [
              "Downloading metadata:   0%|          | 0.00/30.4k [00:00<?, ?B/s]"
            ],
            "application/vnd.jupyter.widget-view+json": {
              "version_major": 2,
              "version_minor": 0,
              "model_id": "c792a7a3c7bd4bbdbb4e4bb80e6926f9"
            }
          },
          "metadata": {}
        },
        {
          "output_type": "display_data",
          "data": {
            "text/plain": [
              "Downloading readme:   0%|          | 0.00/16.3k [00:00<?, ?B/s]"
            ],
            "application/vnd.jupyter.widget-view+json": {
              "version_major": 2,
              "version_minor": 0,
              "model_id": "008093d8a2ca4cb4bdcfb89c63a00220"
            }
          },
          "metadata": {}
        },
        {
          "output_type": "stream",
          "name": "stdout",
          "text": [
            "Downloading and preparing dataset wikipedia/20220301.simple to /root/.cache/huggingface/datasets/wikipedia/20220301.simple/2.0.0/aa542ed919df55cc5d3347f42dd4521d05ca68751f50dbc32bae2a7f1e167559...\n"
          ]
        },
        {
          "output_type": "display_data",
          "data": {
            "text/plain": [
              "Downloading:   0%|          | 0.00/1.66k [00:00<?, ?B/s]"
            ],
            "application/vnd.jupyter.widget-view+json": {
              "version_major": 2,
              "version_minor": 0,
              "model_id": "47d4bff634494a1e8264ae535705d6af"
            }
          },
          "metadata": {}
        },
        {
          "output_type": "display_data",
          "data": {
            "text/plain": [
              "Downloading:   0%|          | 0.00/235M [00:00<?, ?B/s]"
            ],
            "application/vnd.jupyter.widget-view+json": {
              "version_major": 2,
              "version_minor": 0,
              "model_id": "9078c263aef94895bf305805904c45e2"
            }
          },
          "metadata": {}
        },
        {
          "output_type": "stream",
          "name": "stdout",
          "text": [
            "Dataset wikipedia downloaded and prepared to /root/.cache/huggingface/datasets/wikipedia/20220301.simple/2.0.0/aa542ed919df55cc5d3347f42dd4521d05ca68751f50dbc32bae2a7f1e167559. Subsequent calls will reuse this data.\n"
          ]
        },
        {
          "output_type": "display_data",
          "data": {
            "text/plain": [
              "  0%|          | 0/1 [00:00<?, ?it/s]"
            ],
            "application/vnd.jupyter.widget-view+json": {
              "version_major": 2,
              "version_minor": 0,
              "model_id": "e8ae32688c3442cb85855d0b4d377da2"
            }
          },
          "metadata": {}
        }
      ],
      "source": [
        "from datasets import load_dataset\n",
        "\n",
        "dataset = load_dataset(\"wikipedia\", \"20220301.simple\")\n",
        "\n",
        "data = dataset['train'][:20000]['text']"
      ]
    },
    {
      "cell_type": "code",
      "execution_count": null,
      "metadata": {
        "colab": {
          "base_uri": "https://localhost:8080/"
        },
        "id": "OzcYlWm8trh9",
        "outputId": "fc1dca90-3c28-49f5-ea4f-d5cf3331a2a4"
      },
      "outputs": [
        {
          "output_type": "stream",
          "name": "stdout",
          "text": [
            "corpus dim:  510023\n",
            "filtered sentences:  137301\n"
          ]
        }
      ],
      "source": [
        "#run this cell only the first time to create and save the tokenizer and the date\n",
        "dump = True\n",
        "\n",
        "tokenizer = Tokenizer(split=' ', filters='!\"#$%&()*+,-./:;=?@[\\\\]^_`{|}~\\t\\n', num_words=10000, oov_token='<unk>')\n",
        "\n",
        "corpus = []\n",
        "\n",
        "# Split of each piece of text into sentences\n",
        "for elem in data:\n",
        "  corpus += elem.lower().replace(\"\\n\", \"\").split(\".\")[:]\n",
        "\n",
        "print(\"corpus dim: \",len(corpus))\n",
        "\n",
        "#add a start and an end token\n",
        "corpus = ['<start> '+s+' <end>' for s in corpus]\n",
        "\n",
        "\n",
        "# Tokenization  \n",
        "tokenizer.fit_on_texts(corpus)\n",
        "#print(tokenizer.word_index['<unk>'])\n",
        "\n",
        "if dump:\n",
        "    with open('tokenizer.pickle', 'wb') as handle:\n",
        "        pickle.dump(tokenizer, handle, protocol=pickle.HIGHEST_PROTOCOL)\n",
        "\n",
        "original_data = [sen for sen in tokenizer.texts_to_sequences(corpus) if (len(sen) <= 32 and len(sen)>4 and not(1 in sen))]\n",
        "\n",
        "if dump:\n",
        "    with open('original.pickle', 'wb') as handle:\n",
        "        pickle.dump(original_data, handle, protocol=pickle.HIGHEST_PROTOCOL)\n",
        "\n",
        "print (\"filtered sentences: \",len(original_data))\n",
        "\n",
        "sos = tokenizer.word_index['<start>']\n",
        "eos = tokenizer.word_index['<end>']\n",
        "#print(eos)\n",
        "#print(tokenizer.index_word[sos])\n",
        "\n",
        "tokenizer.word_index['<pad>'] = 0\n",
        "tokenizer.index_word[0] = '<pad>'"
      ]
    },
    {
      "cell_type": "markdown",
      "metadata": {
        "id": "K1woGS7a4Ez4"
      },
      "source": [
        "We now create two additional datasets. \n",
        "* shuffled_data contains scrumbled sequences, and will be the input to the model. \n",
        "* target_data is the same as original data but offset by one timestep.\n",
        "It is only useful if you plan to do some language modeling with a teacher forcing technique. You might decide to ignore it.\n"
      ]
    },
    {
      "cell_type": "code",
      "execution_count": null,
      "metadata": {
        "id": "rs4cerfa4D15"
      },
      "outputs": [],
      "source": [
        "shuffled_data = [random.sample(s[1:-1],len(s)-2) for s in original_data]\n",
        "shuffled_data = [[sos]+s+[eos] for s in shuffled_data]\n",
        "target_data = [s[1:] for s in original_data]\n"
      ]
    },
    {
      "cell_type": "markdown",
      "metadata": {
        "id": "mGNwATns6hQ0"
      },
      "source": [
        "Let us look at some examples:"
      ]
    },
    {
      "cell_type": "code",
      "execution_count": null,
      "metadata": {
        "colab": {
          "base_uri": "https://localhost:8080/"
        },
        "id": "ChbvR6ue6lpj",
        "outputId": "6cd66cad-29d3-4088-d81a-91655ba12b20"
      },
      "outputs": [
        {
          "output_type": "stream",
          "name": "stdout",
          "text": [
            "original sentence:  [2, 26, 1316, 2103, 32, 8, 878, 23, 228, 3]\n",
            "shuffled sentecen:  [2, 228, 32, 1316, 878, 23, 8, 26, 2103, 3]\n"
          ]
        }
      ],
      "source": [
        "i = np.random.randint(len(original_data))\n",
        "print(\"original sentence: \",original_data[i])\n",
        "print(\"shuffled sentecen: \",shuffled_data[i])"
      ]
    },
    {
      "cell_type": "markdown",
      "metadata": {
        "id": "er0FoTdc8sLq"
      },
      "source": [
        "Let us look at detokenized data:"
      ]
    },
    {
      "cell_type": "code",
      "execution_count": null,
      "metadata": {
        "colab": {
          "base_uri": "https://localhost:8080/"
        },
        "id": "OMKM9B1w8yWX",
        "outputId": "4215b84e-c452-44e5-af47-6207f2b6ba3a"
      },
      "outputs": [
        {
          "output_type": "stream",
          "name": "stdout",
          "text": [
            "original sentence:  <start> 3 spaghetti n <end>\n",
            "shuffled sentence:  <start> spaghetti n 3 <end>\n"
          ]
        }
      ],
      "source": [
        "i = np.random.randint(len(original_data))\n",
        "print(\"original sentence: \",tokenizer.sequences_to_texts([original_data[i]])[0])\n",
        "print(\"shuffled sentence: \",tokenizer.sequences_to_texts([shuffled_data[i]])[0])"
      ]
    },
    {
      "cell_type": "markdown",
      "metadata": {
        "id": "Kja87gEg9Rje"
      },
      "source": [
        "You goal is to reconstruct the original sentence out of the shuffled one."
      ]
    },
    {
      "cell_type": "markdown",
      "metadata": {
        "id": "s6pe2f8h9gmG"
      },
      "source": [
        "# Additional material"
      ]
    },
    {
      "cell_type": "markdown",
      "metadata": {
        "id": "EA6su74d9o7v"
      },
      "source": [
        "Here we provide a few additional functions that could be useful to you."
      ]
    },
    {
      "cell_type": "markdown",
      "metadata": {
        "id": "MhD75oyt-AO8"
      },
      "source": [
        "As usual, you are supposed to divide your data in training and test set. Reserve at least 30% of data for testing.\n",
        "\n",
        "You are likely to need a validation set too."
      ]
    },
    {
      "cell_type": "code",
      "execution_count": 65,
      "metadata": {
        "id": "dIDuV_Sj9oZo"
      },
      "outputs": [],
      "source": [
        "from sklearn.model_selection import train_test_split\n",
        "\n",
        "x_train, x_test, c_train, c_test, y_train, y_test = train_test_split(original_data, shuffled_data, target_data, test_size = 0.3, random_state = 42)\n"
      ]
    },
    {
      "cell_type": "markdown",
      "metadata": {
        "id": "wHKv6UVz2QGN"
      },
      "source": [
        "## Data agumentation"
      ]
    },
    {
      "cell_type": "code",
      "execution_count": 66,
      "metadata": {
        "id": "X1xKidFZ2Ngo"
      },
      "outputs": [],
      "source": [
        "def agumented_data(c_train, x_train, y_train, n):\n",
        "      orifinal_x = x_train.copy()\n",
        "      original_y = y_train.copy()\n",
        "\n",
        "      for _ in range(n):\n",
        "        c_train_agumented = [random.sample(s[1:-1],len(s)-2) for s in orifinal_x]\n",
        "        c_train_agumented = [[sos]+s+[eos] for s in c_train_agumented]\n",
        "        c_train = c_train + c_train_agumented\n",
        "        x_train = x_train + orifinal_x\n",
        "        y_train = y_train + original_y\n",
        "      return c_train, x_train, y_train\n",
        "\n",
        "c_train, x_train, y_train = agumented_data(c_train, x_train, y_train, n = 2)\n"
      ]
    },
    {
      "cell_type": "markdown",
      "metadata": {
        "id": "eOjaBx8d-lEw"
      },
      "source": [
        "Depending from the model you plan to build, you might require padding the input sequence"
      ]
    },
    {
      "cell_type": "code",
      "execution_count": 67,
      "metadata": {
        "id": "cbZ1tSFN-kWj"
      },
      "outputs": [],
      "source": [
        "max_sequence_len = max([len(x) for x in original_data])\n",
        "\n",
        "x_train = pad_sequences(x_train, maxlen=max_sequence_len, padding='post')\n",
        "x_test = pad_sequences(x_test, maxlen=max_sequence_len, padding='post')\n",
        "c_train = pad_sequences(c_train, maxlen=max_sequence_len, padding='post')\n",
        "c_test = pad_sequences(c_test, maxlen=max_sequence_len, padding='post')\n",
        "y_train = pad_sequences(y_train, maxlen=max_sequence_len, padding='post')\n",
        "y_test = pad_sequences(y_test, maxlen=max_sequence_len, padding='post')\n"
      ]
    },
    {
      "cell_type": "code",
      "execution_count": 68,
      "metadata": {
        "colab": {
          "base_uri": "https://localhost:8080/"
        },
        "id": "2PVzEwm8-8Yj",
        "outputId": "12e53960-4bfe-4359-c984-adde2a5dac7f"
      },
      "outputs": [
        {
          "output_type": "stream",
          "name": "stdout",
          "text": [
            "x_train size: 288330\n"
          ]
        }
      ],
      "source": [
        "print(\"x_train size:\", len(x_train)) \n",
        "assert(len(x_train)==len(c_train)==len(y_train))\n"
      ]
    },
    {
      "cell_type": "markdown",
      "metadata": {
        "id": "4jrATEiF_mMo"
      },
      "source": [
        "Let us finally have a look at the distribution of data w.r.t. their lenght."
      ]
    },
    {
      "cell_type": "code",
      "execution_count": null,
      "metadata": {
        "colab": {
          "base_uri": "https://localhost:8080/",
          "height": 578
        },
        "id": "KmzOMET9_jxp",
        "outputId": "a28ca7f0-1b6e-4ee9-ce63-574ddf6dc7e1"
      },
      "outputs": [
        {
          "output_type": "execute_result",
          "data": {
            "text/plain": [
              "(array([ 3897.,  5516.,  6180.,  7633., 10474., 11260., 11167., 10501.,\n",
              "         9768.,  8942.,  7828.,  7010.,  6126.,  5236.,  4551.,  3922.,\n",
              "         3260.,  2695.,  2306.,  1922.,  1611.,  1299.,  1126.,   827.,\n",
              "          773.,   586.,   885.]),\n",
              " array([ 3.,  4.,  5.,  6.,  7.,  8.,  9., 10., 11., 12., 13., 14., 15.,\n",
              "        16., 17., 18., 19., 20., 21., 22., 23., 24., 25., 26., 27., 28.,\n",
              "        29., 30.]),\n",
              " <BarContainer object of 27 artists>)"
            ]
          },
          "metadata": {},
          "execution_count": 15
        },
        {
          "output_type": "display_data",
          "data": {
            "text/plain": [
              "<Figure size 640x480 with 1 Axes>"
            ],
            "image/png": "[encoded data removed]"
          },
          "metadata": {}
        }
      ],
      "source": [
        "import matplotlib.pyplot as plt\n",
        "plt.hist([len(x)-2 for x in original_data],27)"
      ]
    },
    {
      "cell_type": "markdown",
      "metadata": {
        "id": "Fo8MazCGBTv3"
      },
      "source": [
        "# Metrics"
      ]
    },
    {
      "cell_type": "markdown",
      "metadata": {
        "id": "G0NOkuO0CfPo"
      },
      "source": [
        "Let s be the source string and p your prediction. The quality of the results will be measured according to the following metric:\n",
        "\n",
        "1.  look for the longest substring w between s and p\n",
        "2.  compute |w|/|s|\n",
        "\n",
        "If the match is exact, the score is 1. \n",
        "\n",
        "When computing the score, you should NON consider the start and end tokens.\n",
        "\n"
      ]
    },
    {
      "cell_type": "markdown",
      "metadata": {
        "id": "a-aUrdlXDdVf"
      },
      "source": [
        "The longest common substring can be computed with the SequenceMatcher function of difflib, that allows a simple definition of our metric."
      ]
    },
    {
      "cell_type": "code",
      "execution_count": null,
      "metadata": {
        "id": "ulpTRdrF_huh"
      },
      "outputs": [],
      "source": [
        "from difflib import SequenceMatcher\n",
        "\n",
        "def score(s,p): #original, predicted\n",
        "  match = SequenceMatcher(None, s, p).find_longest_match()\n",
        "  #print(match.size)\n",
        "  return (match.size/max(len(p),len(s)))"
      ]
    },
    {
      "cell_type": "markdown",
      "metadata": {
        "id": "RB2YfjXNExM-"
      },
      "source": [
        "Let's do an example."
      ]
    },
    {
      "cell_type": "code",
      "execution_count": null,
      "metadata": {
        "colab": {
          "base_uri": "https://localhost:8080/"
        },
        "id": "h17C8bVjEwur",
        "outputId": "7ee439e1-d4c5-458c-f30b-34aa34e7a3c4"
      },
      "outputs": [
        {
          "output_type": "stream",
          "name": "stdout",
          "text": [
            "your score is  0.5423728813559322\n"
          ]
        }
      ],
      "source": [
        "original = \"at first henry wanted to be friends with the king of france\"\n",
        "generated = \"henry wanted to be friends with king of france at the first\"\n",
        "\n",
        "print(\"your score is \",score(original,generated))"
      ]
    },
    {
      "cell_type": "markdown",
      "metadata": {
        "id": "BET8GqBvFugR"
      },
      "source": [
        "The score must be computed as an average of at least 10K random examples taken form the test set."
      ]
    },
    {
      "cell_type": "markdown",
      "metadata": {
        "id": "4fwo7xj4GBW1"
      },
      "source": [
        "# What to deliver"
      ]
    },
    {
      "cell_type": "markdown",
      "metadata": {
        "id": "i6uITuxOGHfJ"
      },
      "source": [
        "You are supposed to deliver a single notebook, suitably commented. \n",
        "The notebook should describe a single model, although you may briefly discuss additional attempts you did.\n",
        "\n",
        "The notebook should contain a full trace of the training. \n",
        "Weights should be made available on request.\n",
        "\n",
        "You must also give a clear assesment of the performance of the model, computed with the metric that has been given to you.\n",
        "\n",
        "# Good work!"
      ]
    },
    {
      "cell_type": "code",
      "source": [
        "from google.colab import drive\n",
        "drive.mount('/content/gdrive')"
      ],
      "metadata": {
        "id": "1KY1FtmHBr9B",
        "colab": {
          "base_uri": "https://localhost:8080/"
        },
        "outputId": "85b34f49-3164-4291-ad2c-e1649d9fb5ca"
      },
      "execution_count": null,
      "outputs": [
        {
          "output_type": "stream",
          "name": "stdout",
          "text": [
            "Mounted at /content/gdrive\n"
          ]
        }
      ]
    },
    {
      "cell_type": "markdown",
      "source": [
        "Reading some papers and doing some research on the web led me to the creation of several models.\n",
        "Several architectures widely used in text translation were then tested.\n",
        "\n",
        "- **Encoder/Decoder model based on LSTM** with attention mechanism and teacher forcing technique as presented in the paper [Effective Approaches to Attention-based Neural Machine Translation](https://arxiv.org/abs/1508.04025)\n",
        "\n",
        "- **Transformer** made based on the architecture presented within the iconic paper [Attention Is All You Need](https://arxiv.org/abs/1706.03762)\n",
        "\n",
        "- **DoubleTransformer** a customized variant composed of two single transformers to which modifications have been made.\n",
        "\n",
        "The last one was the model used for this assignement."
      ],
      "metadata": {
        "id": "Uqcn12JK1e1Q"
      }
    },
    {
      "cell_type": "markdown",
      "source": [
        "## Imports"
      ],
      "metadata": {
        "id": "o2Obv3TddKSJ"
      }
    },
    {
      "cell_type": "code",
      "execution_count": null,
      "metadata": {
        "id": "OYSQrL2XNuUz"
      },
      "outputs": [],
      "source": [
        "import tensorflow as tf\n",
        "from tensorflow import keras\n",
        "from tensorflow.keras import layers\n",
        "\n",
        "from tensorflow.keras.callbacks import ModelCheckpoint, EarlyStopping\n",
        "\n",
        "import matplotlib.pyplot as plt\n",
        "import os\n",
        "from tqdm import tqdm\n"
      ]
    },
    {
      "cell_type": "markdown",
      "source": [
        "## Hyperparameter"
      ],
      "metadata": {
        "id": "pGGTQ9wtdOpS"
      }
    },
    {
      "cell_type": "markdown",
      "source": [
        "\n",
        "During the model realization, in order to perform hyper-parameter tuning exhaustively, the two transformers were given the freedom to be different by defining a set of hyperparameters for each of them.\n",
        "In testing, it was then realized that the best results were obtained by setting the two Transformers in a specular manner.  \n"
      ],
      "metadata": {
        "id": "W2c88a09765W"
      }
    },
    {
      "cell_type": "code",
      "execution_count": 69,
      "metadata": {
        "id": "7fPLNmbrXHed"
      },
      "outputs": [],
      "source": [
        "VOCABOLARY_SIZE = 10000 \n",
        "\n",
        "# Training Parameter\n",
        "N_EPOCHS = 35\n",
        "BATCH_SIZE= 128\n",
        "VALIDATION_SPLIT = .2\n",
        "\n",
        "# Beam serch parameter\n",
        "BEAM_SIZE = 5\n",
        "\n",
        "\n",
        "# Model Parameter\n",
        "transformer_1_params = {\n",
        "    \"num_layers\" : 4,\n",
        "    \"d_model\" : 128,\n",
        "    \"num_heads\" : 7,\n",
        "    \"dff\" : 254,\n",
        "    \"input_vocab_size\" : VOCABOLARY_SIZE,\n",
        "    \"output_vocab_size\" : VOCABOLARY_SIZE,\n",
        "    \"dropout_rate\" : 0.15,\n",
        "    \"encoder_type\" : 'not-positional'\n",
        "}\n",
        "\n",
        "transformer_2_params = {\n",
        "    \"num_layers\" : 4,\n",
        "    \"d_model\" : 128,\n",
        "    \"num_heads\" : 7,\n",
        "    \"dff\" : 254,\n",
        "    \"input_vocab_size\" : VOCABOLARY_SIZE,\n",
        "    \"output_vocab_size\" : VOCABOLARY_SIZE,\n",
        "    \"dropout_rate\" : 0.15,\n",
        "    \"encoder_type\" : 'not-positional'\n",
        "}\n",
        "\n"
      ]
    },
    {
      "cell_type": "markdown",
      "source": [
        "## Model Definition"
      ],
      "metadata": {
        "id": "TRlaQsAbiY0c"
      }
    },
    {
      "cell_type": "markdown",
      "source": [
        "As mentioned earlier, the proposed model consists of two Transformers.\n",
        "\n",
        "This idea was born thinking that the model could perform better by training the two transformers on two different shuffles of the same sentence and combining the results through a linear operation. This aspect then made it necessary to perform a data augmentation operation that for each original sentence would generate two different shufles.\n",
        "\n",
        "\n",
        "The second insight that led to the realization of this architecture is that the model does not need to give importance to the order of the shuffled sentences during encoding. It was therefore chosen to deprive the Encoders within each Transformer of Positional Embedding.\n",
        "\n",
        "\n",
        "\n"
      ],
      "metadata": {
        "id": "BPQ_3WOYF3_d"
      }
    },
    {
      "cell_type": "markdown",
      "source": [
        "### Positional Embedding"
      ],
      "metadata": {
        "id": "pbB_GoF3eDlj"
      }
    },
    {
      "cell_type": "code",
      "source": [
        "# Define the encodings\n",
        "\n",
        "def positional_encoding(length, depth):\n",
        "  depth = depth/2\n",
        "\n",
        "  positions = np.arange(length)[:, np.newaxis]    \n",
        "  depths = np.arange(depth)[np.newaxis, :]/depth   \n",
        "      \n",
        "  angle_rates = 1 / (10000**depths)         \n",
        "  angle_rads = positions * angle_rates     \n",
        "\n",
        "  pos_encoding = np.concatenate([np.sin(angle_rads), np.cos(angle_rads)], \n",
        "                                axis=-1) \n",
        "\n",
        "  return tf.cast(pos_encoding, dtype=tf.float32)\n",
        "\n",
        "\n",
        "class PositionalEmbedding(tf.keras.layers.Layer):\n",
        "  def __init__(self, vocab_size, d_model):\n",
        "    super().__init__()\n",
        "    self.d_model = d_model\n",
        "    self.embedding = tf.keras.layers.Embedding(vocab_size,\n",
        "                                               d_model, \n",
        "                                               mask_zero=True) \n",
        "    \n",
        "    self.pos_encoding = positional_encoding(length=2048, \n",
        "                                            depth=d_model)\n",
        "\n",
        "\n",
        "  def compute_mask(self, *args, **kwargs):\n",
        "    return self.embedding.compute_mask(*args, **kwargs)\n",
        "\n",
        "  def call(self, x):\n",
        "    length = tf.shape(x)[1]\n",
        "    x = self.embedding(x)\n",
        "    x *= tf.math.sqrt(tf.cast(self.d_model, tf.float32))                \n",
        "    x = x + self.pos_encoding[tf.newaxis, :length, :]\n",
        "    return x\n",
        "\n",
        "\n",
        "class ClassicalEmbedding(tf.keras.layers.Layer):\n",
        "  def __init__(self, vocab_size, d_model):\n",
        "    super().__init__()\n",
        "    self.d_model = d_model\n",
        "    self.embedding = tf.keras.layers.Embedding(vocab_size,\n",
        "                                               d_model, \n",
        "                                               mask_zero=True) \n",
        "\n",
        "\n",
        "  def call(self, x):\n",
        "    x = self.embedding(x)\n",
        "    x *= tf.math.sqrt(tf.cast(self.d_model, tf.float32))              \n",
        "\n",
        "    return x"
      ],
      "metadata": {
        "id": "mQA0E21NeDSX"
      },
      "execution_count": 70,
      "outputs": []
    },
    {
      "cell_type": "markdown",
      "source": [
        "### Attention Block\n",
        "\n",
        "\n"
      ],
      "metadata": {
        "id": "rJQWIyXiebc-"
      }
    },
    {
      "cell_type": "code",
      "source": [
        "# define the Attention \n",
        "class Attention(layers.Layer):\n",
        "  def __init__(self, num_heads, key_dim, dropout_rate):\n",
        "        super().__init__()\n",
        "        self.mha = layers.MultiHeadAttention(num_heads=num_heads, key_dim=key_dim)\n",
        "        self.normalization = layers.LayerNormalization(epsilon=1e-6)\n",
        "        self.dropout = layers.Dropout(dropout_rate)\n",
        "\n",
        "  def call(self, query, value, key, casual_mask=False, training=True):\n",
        "        attn_output = self.mha(query=query, value=value, key=key, use_causal_mask=casual_mask, training=training)\n",
        "        attn_output = self.dropout(attn_output, training=training)\n",
        "        out = self.normalization(query + attn_output)\n",
        "        return out\n",
        "        "
      ],
      "metadata": {
        "id": "A_BldcGxebKf"
      },
      "execution_count": 71,
      "outputs": []
    },
    {
      "cell_type": "markdown",
      "source": [
        "### Feed Forward Block"
      ],
      "metadata": {
        "id": "NOENwf5vessD"
      }
    },
    {
      "cell_type": "code",
      "source": [
        "# Define the Feed Forword\n",
        "class FeedForward(layers.Layer):\n",
        "  def __init__(self, d_model, dff, dropout_rate):\n",
        "        super().__init__()\n",
        "        self.first_dense = layers.Dense(dff, activation='relu')\n",
        "        self.second_dense = layers.Dense(d_model, activation='relu')\n",
        "        self.norm = layers.LayerNormalization(epsilon=1e-6)\n",
        "        self.dropout = layers.Dropout(dropout_rate)\n",
        "\n",
        "  def call(self, x, training=True):\n",
        "        fd = self.first_dense(x)\n",
        "        sd = self.second_dense(fd)\n",
        "        output = self.dropout(sd, training=training)\n",
        "        output = self.norm(x + output)\n",
        "        return output\n",
        "\n"
      ],
      "metadata": {
        "id": "L1BpcVVuesd_"
      },
      "execution_count": 72,
      "outputs": []
    },
    {
      "cell_type": "markdown",
      "source": [
        "### Encoder Layer"
      ],
      "metadata": {
        "id": "CfB26Wr3faox"
      }
    },
    {
      "cell_type": "code",
      "source": [
        "# Define the Encoder layer\n",
        "class EncoderLayer(layers.Layer):\n",
        "    \n",
        "    def __init__(self, d_model, num_heads, dff, dropout_rate):\n",
        "        super().__init__()\n",
        "        self.self_attetion = Attention(num_heads=num_heads, key_dim=d_model, dropout_rate=dropout_rate)\n",
        "        self.feed_forward = FeedForward(d_model, dff, dropout_rate)\n",
        "    \n",
        "    def call(self, x, training=True):\n",
        "        attn_output = self.self_attetion(query=x, value=x, key=x, training=training)\n",
        "        ffn_output = self.feed_forward(attn_output)\n",
        "        return ffn_output\n",
        "  "
      ],
      "metadata": {
        "id": "zEc1h_GPfabx"
      },
      "execution_count": 73,
      "outputs": []
    },
    {
      "cell_type": "markdown",
      "source": [
        "### Encoder Block"
      ],
      "metadata": {
        "id": "q5ZLTtcvfkYr"
      }
    },
    {
      "cell_type": "code",
      "source": [
        "# Define the Encoder\n",
        "class Encoder(layers.Layer):\n",
        "    def __init__(self, num_layers, d_model, num_heads, dff, input_vocab_size, dropout_rate, embedding_type):\n",
        "        super().__init__()\n",
        "        self.d_model = d_model\n",
        "        self.num_layers = num_layers\n",
        "\n",
        "        if embedding_type == 'positional':\n",
        "          self.embedding = PositionalEmbedding(input_vocab_size, d_model)\n",
        "        else:\n",
        "           self.embedding =  ClassicalEmbedding(input_vocab_size, d_model)\n",
        "\n",
        "        self.enc_layers = [EncoderLayer(d_model, num_heads, dff, dropout_rate) for _ in range(num_layers)]\n",
        "        self.dropout = layers.Dropout(dropout_rate)\n",
        "\n",
        "    def call(self, x, training=True):\n",
        "        x = self.embedding(x)\n",
        "        x = self.dropout(x, training=training)\n",
        "\n",
        "        for i in range(self.num_layers):\n",
        "            x = self.enc_layers[i](x, training=training)\n",
        "\n",
        "        return x\n"
      ],
      "metadata": {
        "id": "IyP_K9hPfkJw"
      },
      "execution_count": 74,
      "outputs": []
    },
    {
      "cell_type": "markdown",
      "source": [
        "### Decoder Layer"
      ],
      "metadata": {
        "id": "b9liRSJef39z"
      }
    },
    {
      "cell_type": "code",
      "source": [
        "# Define the Decoder layer\n",
        "class DecoderLayer(layers.Layer):\n",
        "    \n",
        "    def __init__(self, d_model, num_heads, dff, dropout_rate):\n",
        "        super(DecoderLayer, self).__init__()\n",
        "        self.self_attetion = Attention(num_heads=num_heads, key_dim=d_model, dropout_rate=dropout_rate)\n",
        "        self.mha = Attention(num_heads=num_heads, key_dim=d_model, dropout_rate=dropout_rate)\n",
        "        self.feed_forward = FeedForward(d_model, dff, dropout_rate)\n",
        "\n",
        "\n",
        "    def call(self, x, enc_output, training=True):\n",
        "        self_attention = self.self_attetion(query=x, value=x, key=x, casual_mask=True, training=training)\n",
        "        multi_head_attention = self.mha(query=self_attention, value=enc_output, key=enc_output, training=training)\n",
        "        ffn_output = self.feed_forward(multi_head_attention)\n",
        "\n",
        "        return ffn_output"
      ],
      "metadata": {
        "id": "UjNbL871f4Kf"
      },
      "execution_count": 75,
      "outputs": []
    },
    {
      "cell_type": "markdown",
      "source": [
        "### Decoder Block"
      ],
      "metadata": {
        "id": "uSpaMNSQgBpu"
      }
    },
    {
      "cell_type": "code",
      "source": [
        "# Define the Decoder\n",
        "class Decoder(layers.Layer):\n",
        "    def __init__(self, num_layers, d_model, num_heads, dff, target_vocab_size, dropout_rate):\n",
        "        super(Decoder, self).__init__()\n",
        "        self.d_model = d_model\n",
        "        self.num_layers = num_layers\n",
        "\n",
        "        self.pos_encoding = PositionalEmbedding(target_vocab_size, d_model)\n",
        "        self.dropout = layers.Dropout(dropout_rate)\n",
        "\n",
        "        self.dec_layers = [DecoderLayer(d_model, num_heads, dff, dropout_rate) for _ in range(num_layers)]\n",
        "\n",
        "    def call(self, x, enc_output, training=True):\n",
        "\n",
        "        x = self.pos_encoding(x)\n",
        "        x = self.dropout(x, training=training)\n",
        "        for i in range(self.num_layers):\n",
        "            x = self.dec_layers[i](x, enc_output, training=training)\n",
        "\n",
        "        return x"
      ],
      "metadata": {
        "id": "htMIZzqjgBXj"
      },
      "execution_count": 76,
      "outputs": []
    },
    {
      "cell_type": "markdown",
      "source": [
        "### Metrics"
      ],
      "metadata": {
        "id": "vONLIIixd_fW"
      }
    },
    {
      "cell_type": "code",
      "execution_count": 77,
      "metadata": {
        "id": "Y4mySDETMe8n"
      },
      "outputs": [],
      "source": [
        "class CustomSchedule(tf.keras.optimizers.schedules.LearningRateSchedule):\n",
        "  def __init__(self, d_model, warmup_steps=4000):\n",
        "    super().__init__()\n",
        "\n",
        "    self.d_model = d_model\n",
        "    self.d_model = tf.cast(self.d_model, tf.float32)\n",
        "\n",
        "    self.warmup_steps = warmup_steps\n",
        "    \n",
        "\n",
        "  def __call__(self, step):\n",
        "    step = tf.cast(step, dtype=tf.float32)\n",
        "    arg1 = tf.math.rsqrt(step)\n",
        "    arg2 = step * (self.warmup_steps ** -1.5)\n",
        "\n",
        "    return tf.math.rsqrt(self.d_model) * tf.math.minimum(arg1, arg2)\n",
        "\n",
        "def masked_loss(label, pred):\n",
        "  mask = label != 0\n",
        "  loss_object = tf.keras.losses.SparseCategoricalCrossentropy(\n",
        "    from_logits=False, reduction='none')\n",
        "  loss = loss_object(label, pred)\n",
        "\n",
        "  mask = tf.cast(mask, dtype=loss.dtype)\n",
        "  loss *= mask\n",
        "\n",
        "  loss = tf.reduce_sum(loss)/tf.reduce_sum(mask)\n",
        "  return loss\n",
        "\n",
        "\n",
        "def masked_accuracy(label, pred):\n",
        "  pred = tf.argmax(pred, axis=2)\n",
        "  label = tf.cast(label, pred.dtype)\n",
        "  match = label == pred\n",
        "\n",
        "  mask = label != 0\n",
        "\n",
        "  match = match & mask\n",
        "\n",
        "  match = tf.cast(match, dtype=tf.float32)\n",
        "  mask = tf.cast(mask, dtype=tf.float32)\n",
        "  return tf.reduce_sum(match)/tf.reduce_sum(mask)\n"
      ]
    },
    {
      "cell_type": "markdown",
      "source": [
        "### Single Transformer"
      ],
      "metadata": {
        "id": "gviJ5EydgeBB"
      }
    },
    {
      "cell_type": "code",
      "execution_count": 78,
      "metadata": {
        "id": "oZo3aF6tDKrw"
      },
      "outputs": [],
      "source": [
        "class Transformer(keras.Model):\n",
        "    def __init__(self, num_layers, d_model, num_heads, dff, input_vocab_size, output_vocab_size, dropout_rate, encoder_type):\n",
        "        super(Transformer, self).__init__()\n",
        "        self.encoder = Encoder(num_layers, d_model, num_heads, dff, input_vocab_size, dropout_rate, encoder_type)\n",
        "        self.decoder = Decoder(num_layers, d_model, num_heads, dff, output_vocab_size, dropout_rate)\n",
        "        self.final_layer = layers.Dense(output_vocab_size, activation='softmax')                                                    \n",
        "\n",
        "    def call(self, input, training=True):\n",
        "        context, input_sentence = input\n",
        "        encoder_output = self.encoder(context, training=training)\n",
        "        decoder_output = self.decoder(input_sentence, encoder_output, training=training)\n",
        "        final_output = self.final_layer(decoder_output)\n",
        "        try:\n",
        "          del final_output._keras_mask\n",
        "        except AttributeError:\n",
        "          pass\n",
        "\n",
        "        return final_output\n"
      ]
    },
    {
      "cell_type": "markdown",
      "source": [
        "### Double transformer"
      ],
      "metadata": {
        "id": "vmcwrpwNgqfd"
      }
    },
    {
      "cell_type": "markdown",
      "source": [
        "This block consists of two Transformers that working in parallel cooperate to efficiently reorder the input sentences.\n",
        "During the various stages of testing a few different types of optimizer were tried, however, it was found that Adam was the most effective."
      ],
      "metadata": {
        "id": "paT1ArB-3gKM"
      }
    },
    {
      "cell_type": "code",
      "source": [
        "class DoubleTransformer(keras.Model):\n",
        "  def __init__(self, transformer_1_params, transformer_2_params, output_shape):\n",
        "    super().__init__()\n",
        "    self.transformer_1 = Transformer(**transformer_1_params)\n",
        "    self.transformer_2 = Transformer(**transformer_2_params)\n",
        "\n",
        "  def call(self, input, training=True):\n",
        "    output_model_1 = self.transformer_1(input, training)\n",
        "    output_model_2 = self.transformer_2(input, training)\n",
        "    return output_model_1 + output_model_2                                                              \n",
        "\n",
        "  def compile(self, lr_1, lr_2):\n",
        "    learning_rate_1 = CustomSchedule(lr_1)\n",
        "    learning_rate_2 = CustomSchedule(lr_2)\n",
        "\n",
        "    optimizer_1 = tf.keras.optimizers.Adam(learning_rate_1, beta_1=0.9, beta_2=0.98, epsilon=1e-9)\n",
        "    optimizer_2 = tf.keras.optimizers.Adam(learning_rate_2, beta_1=0.9, beta_2=0.98, epsilon=1e-9)\n",
        "\n",
        "    self.transformer_1.compile(loss=masked_loss,\n",
        "                               optimizer=optimizer_1,\n",
        "                               metrics=[masked_accuracy])\n",
        "    \n",
        "    self.transformer_2.compile(loss=masked_loss,\n",
        "                               optimizer=optimizer_2,\n",
        "                               metrics=[masked_accuracy])\n",
        "    \n",
        "  \n",
        "  def save(self, path1, path2):\n",
        "    self.transformer_1.save_weights(path1)\n",
        "    self.transformer_2.save_weights(path2)\n",
        "\n",
        "  def load(self, path1, path2):\n",
        "    self.transformer_1.load_weights(path1)\n",
        "    self.transformer_2.load_weights(path2)\n",
        "\n",
        "  # A customized training method that makes the two transformers train separately  \n",
        "  def fit(self, x, y, validation_split = .1, epochs=6, batch_size=256, callbacks_1=[], callbacks_2=[]):\n",
        "    x1, x2 = x\n",
        "    data_size = x1.shape[0]\n",
        "    \n",
        "    print('-'*200)\n",
        "    print(\"training transformer 1:\")\n",
        "    print('-' * 200)\n",
        "    history1 = self.transformer_1.fit([x1[:data_size//2], \n",
        "                                      x2[:data_size//2]], \n",
        "                                      y[:data_size//2],\n",
        "                                      epochs=epochs, \n",
        "                                      batch_size=batch_size, \n",
        "                                      validation_split=validation_split, \n",
        "                                      callbacks=callbacks_1\n",
        "                                      )\n",
        "    print('-'*200)\n",
        "    print(\"training transformer 2:\")\n",
        "    print('-' * 200)\n",
        "    history2 = self.transformer_2.fit([x1[data_size//2:],\n",
        "                                       x2[data_size//2:]], \n",
        "                                       y[data_size//2:],\n",
        "                                       epochs=epochs, \n",
        "                                       batch_size=batch_size, \n",
        "                                       validation_split=validation_split,\n",
        "                                       callbacks=callbacks_2\n",
        "                                      )\n",
        "    \n",
        "    return history1, history2\n"
      ],
      "metadata": {
        "id": "IzGrfTSlgqTX"
      },
      "execution_count": 79,
      "outputs": []
    },
    {
      "cell_type": "markdown",
      "source": [
        "## Model Creation"
      ],
      "metadata": {
        "id": "-ZHrCH2Yiyh3"
      }
    },
    {
      "cell_type": "code",
      "execution_count": 80,
      "metadata": {
        "id": "AVQ4W8NXLwFi"
      },
      "outputs": [],
      "source": [
        "my_d_t = DoubleTransformer(transformer_1_params, transformer_2_params, VOCABOLARY_SIZE)\n",
        "my_d_t([c_train[:1], x_train[:1]])\n",
        "my_d_t.compile(254, 254)                                                                 \n"
      ]
    },
    {
      "cell_type": "code",
      "source": [
        "my_d_t.summary()"
      ],
      "metadata": {
        "id": "tugoy53n2--o",
        "colab": {
          "base_uri": "https://localhost:8080/"
        },
        "outputId": "333285bc-bfe5-493a-8d2f-570cfe704260"
      },
      "execution_count": 81,
      "outputs": [
        {
          "output_type": "stream",
          "name": "stdout",
          "text": [
            "Model: \"double_transformer_1\"\n",
            "_________________________________________________________________\n",
            " Layer (type)                Output Shape              Param #   \n",
            "=================================================================\n",
            " transformer_2 (Transformer)  multiple                 9917184   \n",
            "                                                                 \n",
            " transformer_3 (Transformer)  multiple                 9917184   \n",
            "                                                                 \n",
            "=================================================================\n",
            "Total params: 19,834,368\n",
            "Trainable params: 19,834,368\n",
            "Non-trainable params: 0\n",
            "_________________________________________________________________\n"
          ]
        }
      ]
    },
    {
      "cell_type": "markdown",
      "source": [
        "## Fitting the model "
      ],
      "metadata": {
        "id": "4BD9mLJDiT4B"
      }
    },
    {
      "cell_type": "code",
      "execution_count": null,
      "metadata": {
        "id": "1TSir9G3Mts7",
        "colab": {
          "base_uri": "https://localhost:8080/"
        },
        "outputId": "b1e911ff-26f8-4e0b-ddb5-540cffd4274c"
      },
      "outputs": [
        {
          "output_type": "stream",
          "name": "stdout",
          "text": [
            "--------------------------------------------------------------------------------------------------------------------------------------------------------------------------------------------------------\n",
            "training transformer 1:\n",
            "--------------------------------------------------------------------------------------------------------------------------------------------------------------------------------------------------------\n",
            "Epoch 1/35\n",
            "902/902 [==============================] - ETA: 0s - loss: 7.1796 - masked_accuracy: 0.1522\n",
            "Epoch 1: val_loss improved from inf to 5.39163, saving model to /content/gdrive/MyDrive/Colab Notebooks/Deep Learning/Transformer/double_transformer/weights/best_weights_35_epochs_t1.h5\n",
            "902/902 [==============================] - 137s 111ms/step - loss: 7.1796 - masked_accuracy: 0.1522 - val_loss: 5.3916 - val_masked_accuracy: 0.2911\n",
            "Epoch 2/35\n",
            "902/902 [==============================] - ETA: 0s - loss: 4.5140 - masked_accuracy: 0.3749\n",
            "Epoch 2: val_loss improved from 5.39163 to 3.65759, saving model to /content/gdrive/MyDrive/Colab Notebooks/Deep Learning/Transformer/double_transformer/weights/best_weights_35_epochs_t1.h5\n",
            "902/902 [==============================] - 58s 64ms/step - loss: 4.5140 - masked_accuracy: 0.3749 - val_loss: 3.6576 - val_masked_accuracy: 0.4602\n",
            "Epoch 3/35\n",
            "902/902 [==============================] - ETA: 0s - loss: 3.0541 - masked_accuracy: 0.5113\n",
            "Epoch 3: val_loss improved from 3.65759 to 2.25867, saving model to /content/gdrive/MyDrive/Colab Notebooks/Deep Learning/Transformer/double_transformer/weights/best_weights_35_epochs_t1.h5\n",
            "902/902 [==============================] - 57s 63ms/step - loss: 3.0541 - masked_accuracy: 0.5113 - val_loss: 2.2587 - val_masked_accuracy: 0.5918\n",
            "Epoch 4/35\n",
            "902/902 [==============================] - ETA: 0s - loss: 2.1322 - masked_accuracy: 0.5947\n",
            "Epoch 4: val_loss improved from 2.25867 to 1.85993, saving model to /content/gdrive/MyDrive/Colab Notebooks/Deep Learning/Transformer/double_transformer/weights/best_weights_35_epochs_t1.h5\n",
            "902/902 [==============================] - 55s 61ms/step - loss: 2.1322 - masked_accuracy: 0.5947 - val_loss: 1.8599 - val_masked_accuracy: 0.6097\n",
            "Epoch 5/35\n",
            "902/902 [==============================] - ETA: 0s - loss: 1.6568 - masked_accuracy: 0.6428\n",
            "Epoch 5: val_loss improved from 1.85993 to 1.24688, saving model to /content/gdrive/MyDrive/Colab Notebooks/Deep Learning/Transformer/double_transformer/weights/best_weights_35_epochs_t1.h5\n",
            "902/902 [==============================] - 55s 61ms/step - loss: 1.6568 - masked_accuracy: 0.6428 - val_loss: 1.2469 - val_masked_accuracy: 0.6993\n",
            "Epoch 6/35\n",
            "902/902 [==============================] - ETA: 0s - loss: 1.3523 - masked_accuracy: 0.6837\n",
            "Epoch 6: val_loss improved from 1.24688 to 1.01093, saving model to /content/gdrive/MyDrive/Colab Notebooks/Deep Learning/Transformer/double_transformer/weights/best_weights_35_epochs_t1.h5\n",
            "902/902 [==============================] - 56s 62ms/step - loss: 1.3523 - masked_accuracy: 0.6837 - val_loss: 1.0109 - val_masked_accuracy: 0.7409\n",
            "Epoch 7/35\n",
            "902/902 [==============================] - ETA: 0s - loss: 1.1613 - masked_accuracy: 0.7140\n",
            "Epoch 7: val_loss improved from 1.01093 to 0.86577, saving model to /content/gdrive/MyDrive/Colab Notebooks/Deep Learning/Transformer/double_transformer/weights/best_weights_35_epochs_t1.h5\n",
            "902/902 [==============================] - 55s 61ms/step - loss: 1.1613 - masked_accuracy: 0.7140 - val_loss: 0.8658 - val_masked_accuracy: 0.7683\n",
            "Epoch 8/35\n",
            "901/902 [============================>.] - ETA: 0s - loss: 1.0289 - masked_accuracy: 0.7375\n",
            "Epoch 8: val_loss improved from 0.86577 to 0.78023, saving model to /content/gdrive/MyDrive/Colab Notebooks/Deep Learning/Transformer/double_transformer/weights/best_weights_35_epochs_t1.h5\n",
            "902/902 [==============================] - 54s 60ms/step - loss: 1.0289 - masked_accuracy: 0.7374 - val_loss: 0.7802 - val_masked_accuracy: 0.7825\n",
            "Epoch 9/35\n",
            "902/902 [==============================] - ETA: 0s - loss: 0.9315 - masked_accuracy: 0.7561\n",
            "Epoch 9: val_loss improved from 0.78023 to 0.68311, saving model to /content/gdrive/MyDrive/Colab Notebooks/Deep Learning/Transformer/double_transformer/weights/best_weights_35_epochs_t1.h5\n",
            "902/902 [==============================] - 54s 60ms/step - loss: 0.9315 - masked_accuracy: 0.7561 - val_loss: 0.6831 - val_masked_accuracy: 0.8049\n",
            "Epoch 10/35\n",
            "902/902 [==============================] - ETA: 0s - loss: 0.8529 - masked_accuracy: 0.7719\n",
            "Epoch 10: val_loss improved from 0.68311 to 0.61532, saving model to /content/gdrive/MyDrive/Colab Notebooks/Deep Learning/Transformer/double_transformer/weights/best_weights_35_epochs_t1.h5\n",
            "902/902 [==============================] - 54s 60ms/step - loss: 0.8529 - masked_accuracy: 0.7719 - val_loss: 0.6153 - val_masked_accuracy: 0.8220\n",
            "Epoch 11/35\n",
            "901/902 [============================>.] - ETA: 0s - loss: 0.7892 - masked_accuracy: 0.7855\n",
            "Epoch 11: val_loss improved from 0.61532 to 0.55511, saving model to /content/gdrive/MyDrive/Colab Notebooks/Deep Learning/Transformer/double_transformer/weights/best_weights_35_epochs_t1.h5\n",
            "902/902 [==============================] - 54s 60ms/step - loss: 0.7892 - masked_accuracy: 0.7854 - val_loss: 0.5551 - val_masked_accuracy: 0.8352\n",
            "Epoch 12/35\n",
            "902/902 [==============================] - ETA: 0s - loss: 0.7347 - masked_accuracy: 0.7975\n",
            "Epoch 12: val_loss improved from 0.55511 to 0.52363, saving model to /content/gdrive/MyDrive/Colab Notebooks/Deep Learning/Transformer/double_transformer/weights/best_weights_35_epochs_t1.h5\n",
            "902/902 [==============================] - 54s 60ms/step - loss: 0.7347 - masked_accuracy: 0.7975 - val_loss: 0.5236 - val_masked_accuracy: 0.8423\n",
            "Epoch 13/35\n",
            "902/902 [==============================] - ETA: 0s - loss: 0.6901 - masked_accuracy: 0.8074\n",
            "Epoch 13: val_loss improved from 0.52363 to 0.48199, saving model to /content/gdrive/MyDrive/Colab Notebooks/Deep Learning/Transformer/double_transformer/weights/best_weights_35_epochs_t1.h5\n",
            "902/902 [==============================] - 54s 60ms/step - loss: 0.6901 - masked_accuracy: 0.8074 - val_loss: 0.4820 - val_masked_accuracy: 0.8536\n",
            "Epoch 14/35\n",
            "902/902 [==============================] - ETA: 0s - loss: 0.6498 - masked_accuracy: 0.8172\n",
            "Epoch 14: val_loss improved from 0.48199 to 0.44089, saving model to /content/gdrive/MyDrive/Colab Notebooks/Deep Learning/Transformer/double_transformer/weights/best_weights_35_epochs_t1.h5\n",
            "902/902 [==============================] - 54s 60ms/step - loss: 0.6498 - masked_accuracy: 0.8172 - val_loss: 0.4409 - val_masked_accuracy: 0.8643\n",
            "Epoch 15/35\n",
            "901/902 [============================>.] - ETA: 0s - loss: 0.6153 - masked_accuracy: 0.8249\n",
            "Epoch 15: val_loss improved from 0.44089 to 0.40971, saving model to /content/gdrive/MyDrive/Colab Notebooks/Deep Learning/Transformer/double_transformer/weights/best_weights_35_epochs_t1.h5\n",
            "902/902 [==============================] - 53s 59ms/step - loss: 0.6153 - masked_accuracy: 0.8249 - val_loss: 0.4097 - val_masked_accuracy: 0.8728\n",
            "Epoch 16/35\n",
            "902/902 [==============================] - ETA: 0s - loss: 0.5831 - masked_accuracy: 0.8330\n",
            "Epoch 16: val_loss improved from 0.40971 to 0.38491, saving model to /content/gdrive/MyDrive/Colab Notebooks/Deep Learning/Transformer/double_transformer/weights/best_weights_35_epochs_t1.h5\n",
            "902/902 [==============================] - 54s 60ms/step - loss: 0.5831 - masked_accuracy: 0.8330 - val_loss: 0.3849 - val_masked_accuracy: 0.8794\n",
            "Epoch 17/35\n",
            "902/902 [==============================] - ETA: 0s - loss: 0.5578 - masked_accuracy: 0.8390\n",
            "Epoch 17: val_loss improved from 0.38491 to 0.35599, saving model to /content/gdrive/MyDrive/Colab Notebooks/Deep Learning/Transformer/double_transformer/weights/best_weights_35_epochs_t1.h5\n",
            "902/902 [==============================] - 54s 60ms/step - loss: 0.5578 - masked_accuracy: 0.8390 - val_loss: 0.3560 - val_masked_accuracy: 0.8870\n",
            "Epoch 18/35\n",
            "901/902 [============================>.] - ETA: 0s - loss: 0.5322 - masked_accuracy: 0.8457\n",
            "Epoch 18: val_loss improved from 0.35599 to 0.33861, saving model to /content/gdrive/MyDrive/Colab Notebooks/Deep Learning/Transformer/double_transformer/weights/best_weights_35_epochs_t1.h5\n",
            "902/902 [==============================] - 54s 60ms/step - loss: 0.5322 - masked_accuracy: 0.8458 - val_loss: 0.3386 - val_masked_accuracy: 0.8922\n",
            "Epoch 19/35\n",
            "902/902 [==============================] - ETA: 0s - loss: 0.5104 - masked_accuracy: 0.8512\n",
            "Epoch 19: val_loss improved from 0.33861 to 0.31175, saving model to /content/gdrive/MyDrive/Colab Notebooks/Deep Learning/Transformer/double_transformer/weights/best_weights_35_epochs_t1.h5\n",
            "902/902 [==============================] - 55s 60ms/step - loss: 0.5104 - masked_accuracy: 0.8512 - val_loss: 0.3118 - val_masked_accuracy: 0.8995\n",
            "Epoch 20/35\n",
            "901/902 [============================>.] - ETA: 0s - loss: 0.4885 - masked_accuracy: 0.8568\n",
            "Epoch 20: val_loss improved from 0.31175 to 0.29376, saving model to /content/gdrive/MyDrive/Colab Notebooks/Deep Learning/Transformer/double_transformer/weights/best_weights_35_epochs_t1.h5\n",
            "902/902 [==============================] - 54s 60ms/step - loss: 0.4885 - masked_accuracy: 0.8567 - val_loss: 0.2938 - val_masked_accuracy: 0.9045\n",
            "Epoch 21/35\n",
            "901/902 [============================>.] - ETA: 0s - loss: 0.4701 - masked_accuracy: 0.8613\n",
            "Epoch 21: val_loss improved from 0.29376 to 0.27949, saving model to /content/gdrive/MyDrive/Colab Notebooks/Deep Learning/Transformer/double_transformer/weights/best_weights_35_epochs_t1.h5\n",
            "902/902 [==============================] - 55s 61ms/step - loss: 0.4701 - masked_accuracy: 0.8613 - val_loss: 0.2795 - val_masked_accuracy: 0.9092\n",
            "Epoch 22/35\n",
            "902/902 [==============================] - ETA: 0s - loss: 0.4513 - masked_accuracy: 0.8663\n",
            "Epoch 22: val_loss improved from 0.27949 to 0.26430, saving model to /content/gdrive/MyDrive/Colab Notebooks/Deep Learning/Transformer/double_transformer/weights/best_weights_35_epochs_t1.h5\n",
            "902/902 [==============================] - 54s 60ms/step - loss: 0.4513 - masked_accuracy: 0.8663 - val_loss: 0.2643 - val_masked_accuracy: 0.9139\n",
            "Epoch 23/35\n",
            "902/902 [==============================] - ETA: 0s - loss: 0.4363 - masked_accuracy: 0.8703\n",
            "Epoch 23: val_loss improved from 0.26430 to 0.25129, saving model to /content/gdrive/MyDrive/Colab Notebooks/Deep Learning/Transformer/double_transformer/weights/best_weights_35_epochs_t1.h5\n",
            "902/902 [==============================] - 54s 60ms/step - loss: 0.4363 - masked_accuracy: 0.8703 - val_loss: 0.2513 - val_masked_accuracy: 0.9176\n",
            "Epoch 24/35\n",
            "901/902 [============================>.] - ETA: 0s - loss: 0.4226 - masked_accuracy: 0.8741\n",
            "Epoch 24: val_loss improved from 0.25129 to 0.23506, saving model to /content/gdrive/MyDrive/Colab Notebooks/Deep Learning/Transformer/double_transformer/weights/best_weights_35_epochs_t1.h5\n",
            "902/902 [==============================] - 53s 59ms/step - loss: 0.4226 - masked_accuracy: 0.8741 - val_loss: 0.2351 - val_masked_accuracy: 0.9229\n",
            "Epoch 25/35\n",
            "902/902 [==============================] - ETA: 0s - loss: 0.4078 - masked_accuracy: 0.8782\n",
            "Epoch 25: val_loss improved from 0.23506 to 0.23302, saving model to /content/gdrive/MyDrive/Colab Notebooks/Deep Learning/Transformer/double_transformer/weights/best_weights_35_epochs_t1.h5\n",
            "902/902 [==============================] - 55s 61ms/step - loss: 0.4078 - masked_accuracy: 0.8782 - val_loss: 0.2330 - val_masked_accuracy: 0.9238\n",
            "Epoch 26/35\n",
            "902/902 [==============================] - ETA: 0s - loss: 0.3961 - masked_accuracy: 0.8813\n",
            "Epoch 26: val_loss improved from 0.23302 to 0.21459, saving model to /content/gdrive/MyDrive/Colab Notebooks/Deep Learning/Transformer/double_transformer/weights/best_weights_35_epochs_t1.h5\n",
            "902/902 [==============================] - 54s 60ms/step - loss: 0.3961 - masked_accuracy: 0.8813 - val_loss: 0.2146 - val_masked_accuracy: 0.9287\n",
            "Epoch 27/35\n",
            "902/902 [==============================] - ETA: 0s - loss: 0.3842 - masked_accuracy: 0.8844\n",
            "Epoch 27: val_loss improved from 0.21459 to 0.20207, saving model to /content/gdrive/MyDrive/Colab Notebooks/Deep Learning/Transformer/double_transformer/weights/best_weights_35_epochs_t1.h5\n",
            "902/902 [==============================] - 54s 60ms/step - loss: 0.3842 - masked_accuracy: 0.8844 - val_loss: 0.2021 - val_masked_accuracy: 0.9333\n",
            "Epoch 28/35\n",
            "902/902 [==============================] - ETA: 0s - loss: 0.3730 - masked_accuracy: 0.8877\n",
            "Epoch 28: val_loss improved from 0.20207 to 0.19163, saving model to /content/gdrive/MyDrive/Colab Notebooks/Deep Learning/Transformer/double_transformer/weights/best_weights_35_epochs_t1.h5\n",
            "902/902 [==============================] - 54s 60ms/step - loss: 0.3730 - masked_accuracy: 0.8877 - val_loss: 0.1916 - val_masked_accuracy: 0.9361\n",
            "Epoch 29/35\n",
            "901/902 [============================>.] - ETA: 0s - loss: 0.3631 - masked_accuracy: 0.8898\n",
            "Epoch 29: val_loss improved from 0.19163 to 0.18093, saving model to /content/gdrive/MyDrive/Colab Notebooks/Deep Learning/Transformer/double_transformer/weights/best_weights_35_epochs_t1.h5\n",
            "902/902 [==============================] - 53s 59ms/step - loss: 0.3631 - masked_accuracy: 0.8898 - val_loss: 0.1809 - val_masked_accuracy: 0.9399\n",
            "Epoch 30/35\n",
            "902/902 [==============================] - ETA: 0s - loss: 0.3541 - masked_accuracy: 0.8929\n",
            "Epoch 30: val_loss improved from 0.18093 to 0.17444, saving model to /content/gdrive/MyDrive/Colab Notebooks/Deep Learning/Transformer/double_transformer/weights/best_weights_35_epochs_t1.h5\n",
            "902/902 [==============================] - 54s 60ms/step - loss: 0.3541 - masked_accuracy: 0.8929 - val_loss: 0.1744 - val_masked_accuracy: 0.9417\n",
            "Epoch 31/35\n",
            "901/902 [============================>.] - ETA: 0s - loss: 0.3452 - masked_accuracy: 0.8952\n",
            "Epoch 31: val_loss improved from 0.17444 to 0.16890, saving model to /content/gdrive/MyDrive/Colab Notebooks/Deep Learning/Transformer/double_transformer/weights/best_weights_35_epochs_t1.h5\n",
            "902/902 [==============================] - 54s 60ms/step - loss: 0.3452 - masked_accuracy: 0.8952 - val_loss: 0.1689 - val_masked_accuracy: 0.9438\n",
            "Epoch 32/35\n",
            "902/902 [==============================] - ETA: 0s - loss: 0.3355 - masked_accuracy: 0.8985\n",
            "Epoch 32: val_loss improved from 0.16890 to 0.15835, saving model to /content/gdrive/MyDrive/Colab Notebooks/Deep Learning/Transformer/double_transformer/weights/best_weights_35_epochs_t1.h5\n",
            "902/902 [==============================] - 54s 59ms/step - loss: 0.3355 - masked_accuracy: 0.8985 - val_loss: 0.1584 - val_masked_accuracy: 0.9470\n",
            "Epoch 33/35\n",
            "902/902 [==============================] - ETA: 0s - loss: 0.3282 - masked_accuracy: 0.9002\n",
            "Epoch 33: val_loss improved from 0.15835 to 0.15405, saving model to /content/gdrive/MyDrive/Colab Notebooks/Deep Learning/Transformer/double_transformer/weights/best_weights_35_epochs_t1.h5\n",
            "902/902 [==============================] - 54s 60ms/step - loss: 0.3282 - masked_accuracy: 0.9002 - val_loss: 0.1540 - val_masked_accuracy: 0.9489\n",
            "Epoch 34/35\n",
            "902/902 [==============================] - ETA: 0s - loss: 0.3197 - masked_accuracy: 0.9028\n",
            "Epoch 34: val_loss improved from 0.15405 to 0.14775, saving model to /content/gdrive/MyDrive/Colab Notebooks/Deep Learning/Transformer/double_transformer/weights/best_weights_35_epochs_t1.h5\n",
            "902/902 [==============================] - 54s 60ms/step - loss: 0.3197 - masked_accuracy: 0.9028 - val_loss: 0.1477 - val_masked_accuracy: 0.9506\n",
            "Epoch 35/35\n",
            "901/902 [============================>.] - ETA: 0s - loss: 0.3118 - masked_accuracy: 0.9051\n",
            "Epoch 35: val_loss improved from 0.14775 to 0.13856, saving model to /content/gdrive/MyDrive/Colab Notebooks/Deep Learning/Transformer/double_transformer/weights/best_weights_35_epochs_t1.h5\n",
            "902/902 [==============================] - 54s 60ms/step - loss: 0.3118 - masked_accuracy: 0.9050 - val_loss: 0.1386 - val_masked_accuracy: 0.9535\n",
            "--------------------------------------------------------------------------------------------------------------------------------------------------------------------------------------------------------\n",
            "training transformer 2:\n",
            "--------------------------------------------------------------------------------------------------------------------------------------------------------------------------------------------------------\n",
            "Epoch 1/35\n",
            "902/902 [==============================] - ETA: 0s - loss: 7.1456 - masked_accuracy: 0.1589\n",
            "Epoch 1: val_loss improved from inf to 5.29532, saving model to /content/gdrive/MyDrive/Colab Notebooks/Deep Learning/Transformer/double_transformer/weights/best_weights_35_epochs_t2.h5\n",
            "902/902 [==============================] - 126s 102ms/step - loss: 7.1456 - masked_accuracy: 0.1589 - val_loss: 5.2953 - val_masked_accuracy: 0.3063\n",
            "Epoch 2/35\n",
            "902/902 [==============================] - ETA: 0s - loss: 4.4058 - masked_accuracy: 0.3879\n",
            "Epoch 2: val_loss improved from 5.29532 to 3.48284, saving model to /content/gdrive/MyDrive/Colab Notebooks/Deep Learning/Transformer/double_transformer/weights/best_weights_35_epochs_t2.h5\n",
            "902/902 [==============================] - 57s 63ms/step - loss: 4.4058 - masked_accuracy: 0.3879 - val_loss: 3.4828 - val_masked_accuracy: 0.4759\n",
            "Epoch 3/35\n",
            "902/902 [==============================] - ETA: 0s - loss: 2.8850 - masked_accuracy: 0.5313\n",
            "Epoch 3: val_loss improved from 3.48284 to 2.32797, saving model to /content/gdrive/MyDrive/Colab Notebooks/Deep Learning/Transformer/double_transformer/weights/best_weights_35_epochs_t2.h5\n",
            "902/902 [==============================] - 57s 63ms/step - loss: 2.8850 - masked_accuracy: 0.5313 - val_loss: 2.3280 - val_masked_accuracy: 0.5784\n",
            "Epoch 4/35\n",
            "901/902 [============================>.] - ETA: 0s - loss: 1.9741 - masked_accuracy: 0.6131\n",
            "Epoch 4: val_loss improved from 2.32797 to 1.62725, saving model to /content/gdrive/MyDrive/Colab Notebooks/Deep Learning/Transformer/double_transformer/weights/best_weights_35_epochs_t2.h5\n",
            "902/902 [==============================] - 56s 62ms/step - loss: 1.9741 - masked_accuracy: 0.6131 - val_loss: 1.6272 - val_masked_accuracy: 0.6438\n",
            "Epoch 5/35\n",
            "902/902 [==============================] - ETA: 0s - loss: 1.5265 - masked_accuracy: 0.6590\n",
            "Epoch 5: val_loss improved from 1.62725 to 1.18599, saving model to /content/gdrive/MyDrive/Colab Notebooks/Deep Learning/Transformer/double_transformer/weights/best_weights_35_epochs_t2.h5\n",
            "902/902 [==============================] - 55s 61ms/step - loss: 1.5265 - masked_accuracy: 0.6590 - val_loss: 1.1860 - val_masked_accuracy: 0.7102\n",
            "Epoch 6/35\n",
            "902/902 [==============================] - ETA: 0s - loss: 1.2341 - masked_accuracy: 0.7010\n",
            "Epoch 6: val_loss improved from 1.18599 to 0.96944, saving model to /content/gdrive/MyDrive/Colab Notebooks/Deep Learning/Transformer/double_transformer/weights/best_weights_35_epochs_t2.h5\n",
            "902/902 [==============================] - 54s 60ms/step - loss: 1.2341 - masked_accuracy: 0.7010 - val_loss: 0.9694 - val_masked_accuracy: 0.7450\n",
            "Epoch 7/35\n",
            "902/902 [==============================] - ETA: 0s - loss: 1.0447 - masked_accuracy: 0.7332\n",
            "Epoch 7: val_loss improved from 0.96944 to 0.80190, saving model to /content/gdrive/MyDrive/Colab Notebooks/Deep Learning/Transformer/double_transformer/weights/best_weights_35_epochs_t2.h5\n",
            "902/902 [==============================] - 55s 60ms/step - loss: 1.0447 - masked_accuracy: 0.7332 - val_loss: 0.8019 - val_masked_accuracy: 0.7765\n",
            "Epoch 8/35\n",
            "902/902 [==============================] - ETA: 0s - loss: 0.9136 - masked_accuracy: 0.7581\n",
            "Epoch 8: val_loss improved from 0.80190 to 0.69870, saving model to /content/gdrive/MyDrive/Colab Notebooks/Deep Learning/Transformer/double_transformer/weights/best_weights_35_epochs_t2.h5\n",
            "902/902 [==============================] - 55s 60ms/step - loss: 0.9136 - masked_accuracy: 0.7581 - val_loss: 0.6987 - val_masked_accuracy: 0.7987\n",
            "Epoch 9/35\n",
            "902/902 [==============================] - ETA: 0s - loss: 0.8153 - masked_accuracy: 0.7786\n",
            "Epoch 9: val_loss improved from 0.69870 to 0.63090, saving model to /content/gdrive/MyDrive/Colab Notebooks/Deep Learning/Transformer/double_transformer/weights/best_weights_35_epochs_t2.h5\n",
            "902/902 [==============================] - 54s 60ms/step - loss: 0.8153 - masked_accuracy: 0.7786 - val_loss: 0.6309 - val_masked_accuracy: 0.8173\n",
            "Epoch 10/35\n",
            "902/902 [==============================] - ETA: 0s - loss: 0.7377 - masked_accuracy: 0.7957\n",
            "Epoch 10: val_loss improved from 0.63090 to 0.55092, saving model to /content/gdrive/MyDrive/Colab Notebooks/Deep Learning/Transformer/double_transformer/weights/best_weights_35_epochs_t2.h5\n",
            "902/902 [==============================] - 54s 60ms/step - loss: 0.7377 - masked_accuracy: 0.7957 - val_loss: 0.5509 - val_masked_accuracy: 0.8356\n",
            "Epoch 11/35\n",
            "902/902 [==============================] - ETA: 0s - loss: 0.6735 - masked_accuracy: 0.8097\n",
            "Epoch 11: val_loss improved from 0.55092 to 0.49786, saving model to /content/gdrive/MyDrive/Colab Notebooks/Deep Learning/Transformer/double_transformer/weights/best_weights_35_epochs_t2.h5\n",
            "902/902 [==============================] - 54s 59ms/step - loss: 0.6735 - masked_accuracy: 0.8097 - val_loss: 0.4979 - val_masked_accuracy: 0.8491\n",
            "Epoch 12/35\n",
            "902/902 [==============================] - ETA: 0s - loss: 0.6191 - masked_accuracy: 0.8226\n",
            "Epoch 12: val_loss improved from 0.49786 to 0.44435, saving model to /content/gdrive/MyDrive/Colab Notebooks/Deep Learning/Transformer/double_transformer/weights/best_weights_35_epochs_t2.h5\n",
            "902/902 [==============================] - 54s 60ms/step - loss: 0.6191 - masked_accuracy: 0.8226 - val_loss: 0.4444 - val_masked_accuracy: 0.8636\n",
            "Epoch 13/35\n",
            "902/902 [==============================] - ETA: 0s - loss: 0.5717 - masked_accuracy: 0.8345\n",
            "Epoch 13: val_loss improved from 0.44435 to 0.40544, saving model to /content/gdrive/MyDrive/Colab Notebooks/Deep Learning/Transformer/double_transformer/weights/best_weights_35_epochs_t2.h5\n",
            "902/902 [==============================] - 54s 60ms/step - loss: 0.5717 - masked_accuracy: 0.8345 - val_loss: 0.4054 - val_masked_accuracy: 0.8737\n",
            "Epoch 14/35\n",
            "902/902 [==============================] - ETA: 0s - loss: 0.5334 - masked_accuracy: 0.8437\n",
            "Epoch 14: val_loss improved from 0.40544 to 0.35710, saving model to /content/gdrive/MyDrive/Colab Notebooks/Deep Learning/Transformer/double_transformer/weights/best_weights_35_epochs_t2.h5\n",
            "902/902 [==============================] - 54s 60ms/step - loss: 0.5334 - masked_accuracy: 0.8437 - val_loss: 0.3571 - val_masked_accuracy: 0.8867\n",
            "Epoch 15/35\n",
            "901/902 [============================>.] - ETA: 0s - loss: 0.4988 - masked_accuracy: 0.8529\n",
            "Epoch 15: val_loss improved from 0.35710 to 0.33521, saving model to /content/gdrive/MyDrive/Colab Notebooks/Deep Learning/Transformer/double_transformer/weights/best_weights_35_epochs_t2.h5\n",
            "902/902 [==============================] - 54s 60ms/step - loss: 0.4988 - masked_accuracy: 0.8529 - val_loss: 0.3352 - val_masked_accuracy: 0.8930\n",
            "Epoch 16/35\n",
            "902/902 [==============================] - ETA: 0s - loss: 0.4684 - masked_accuracy: 0.8606\n",
            "Epoch 16: val_loss improved from 0.33521 to 0.30000, saving model to /content/gdrive/MyDrive/Colab Notebooks/Deep Learning/Transformer/double_transformer/weights/best_weights_35_epochs_t2.h5\n",
            "902/902 [==============================] - 54s 59ms/step - loss: 0.4684 - masked_accuracy: 0.8606 - val_loss: 0.3000 - val_masked_accuracy: 0.9037\n",
            "Epoch 17/35\n",
            "902/902 [==============================] - ETA: 0s - loss: 0.4411 - masked_accuracy: 0.8676\n",
            "Epoch 17: val_loss improved from 0.30000 to 0.27465, saving model to /content/gdrive/MyDrive/Colab Notebooks/Deep Learning/Transformer/double_transformer/weights/best_weights_35_epochs_t2.h5\n",
            "902/902 [==============================] - 54s 60ms/step - loss: 0.4411 - masked_accuracy: 0.8676 - val_loss: 0.2746 - val_masked_accuracy: 0.9113\n",
            "Epoch 18/35\n",
            "901/902 [============================>.] - ETA: 0s - loss: 0.4158 - masked_accuracy: 0.8746\n",
            "Epoch 18: val_loss improved from 0.27465 to 0.26119, saving model to /content/gdrive/MyDrive/Colab Notebooks/Deep Learning/Transformer/double_transformer/weights/best_weights_35_epochs_t2.h5\n",
            "902/902 [==============================] - 54s 60ms/step - loss: 0.4158 - masked_accuracy: 0.8747 - val_loss: 0.2612 - val_masked_accuracy: 0.9153\n",
            "Epoch 19/35\n",
            "902/902 [==============================] - ETA: 0s - loss: 0.3952 - masked_accuracy: 0.8803\n",
            "Epoch 19: val_loss improved from 0.26119 to 0.23417, saving model to /content/gdrive/MyDrive/Colab Notebooks/Deep Learning/Transformer/double_transformer/weights/best_weights_35_epochs_t2.h5\n",
            "902/902 [==============================] - 55s 61ms/step - loss: 0.3952 - masked_accuracy: 0.8803 - val_loss: 0.2342 - val_masked_accuracy: 0.9236\n",
            "Epoch 20/35\n",
            "901/902 [============================>.] - ETA: 0s - loss: 0.3758 - masked_accuracy: 0.8859\n",
            "Epoch 20: val_loss improved from 0.23417 to 0.21408, saving model to /content/gdrive/MyDrive/Colab Notebooks/Deep Learning/Transformer/double_transformer/weights/best_weights_35_epochs_t2.h5\n",
            "902/902 [==============================] - 54s 59ms/step - loss: 0.3758 - masked_accuracy: 0.8859 - val_loss: 0.2141 - val_masked_accuracy: 0.9302\n",
            "Epoch 21/35\n",
            "902/902 [==============================] - ETA: 0s - loss: 0.3580 - masked_accuracy: 0.8908\n",
            "Epoch 21: val_loss improved from 0.21408 to 0.20499, saving model to /content/gdrive/MyDrive/Colab Notebooks/Deep Learning/Transformer/double_transformer/weights/best_weights_35_epochs_t2.h5\n",
            "902/902 [==============================] - 55s 60ms/step - loss: 0.3580 - masked_accuracy: 0.8908 - val_loss: 0.2050 - val_masked_accuracy: 0.9328\n",
            "Epoch 22/35\n",
            "902/902 [==============================] - ETA: 0s - loss: 0.3408 - masked_accuracy: 0.8956\n",
            "Epoch 22: val_loss improved from 0.20499 to 0.18727, saving model to /content/gdrive/MyDrive/Colab Notebooks/Deep Learning/Transformer/double_transformer/weights/best_weights_35_epochs_t2.h5\n",
            "902/902 [==============================] - 54s 60ms/step - loss: 0.3408 - masked_accuracy: 0.8956 - val_loss: 0.1873 - val_masked_accuracy: 0.9388\n",
            "Epoch 23/35\n",
            "901/902 [============================>.] - ETA: 0s - loss: 0.3265 - masked_accuracy: 0.8995\n",
            "Epoch 23: val_loss improved from 0.18727 to 0.16979, saving model to /content/gdrive/MyDrive/Colab Notebooks/Deep Learning/Transformer/double_transformer/weights/best_weights_35_epochs_t2.h5\n",
            "902/902 [==============================] - 55s 61ms/step - loss: 0.3265 - masked_accuracy: 0.8994 - val_loss: 0.1698 - val_masked_accuracy: 0.9445\n",
            "Epoch 24/35\n",
            "902/902 [==============================] - ETA: 0s - loss: 0.3124 - masked_accuracy: 0.9037\n",
            "Epoch 24: val_loss improved from 0.16979 to 0.16412, saving model to /content/gdrive/MyDrive/Colab Notebooks/Deep Learning/Transformer/double_transformer/weights/best_weights_35_epochs_t2.h5\n",
            "902/902 [==============================] - 55s 61ms/step - loss: 0.3124 - masked_accuracy: 0.9037 - val_loss: 0.1641 - val_masked_accuracy: 0.9462\n",
            "Epoch 25/35\n",
            "901/902 [============================>.] - ETA: 0s - loss: 0.3004 - masked_accuracy: 0.9073\n",
            "Epoch 25: val_loss improved from 0.16412 to 0.15423, saving model to /content/gdrive/MyDrive/Colab Notebooks/Deep Learning/Transformer/double_transformer/weights/best_weights_35_epochs_t2.h5\n",
            "902/902 [==============================] - 54s 60ms/step - loss: 0.3004 - masked_accuracy: 0.9073 - val_loss: 0.1542 - val_masked_accuracy: 0.9493\n",
            "Epoch 26/35\n",
            "902/902 [==============================] - ETA: 0s - loss: 0.2887 - masked_accuracy: 0.9106\n",
            "Epoch 26: val_loss improved from 0.15423 to 0.13942, saving model to /content/gdrive/MyDrive/Colab Notebooks/Deep Learning/Transformer/double_transformer/weights/best_weights_35_epochs_t2.h5\n",
            "902/902 [==============================] - 54s 60ms/step - loss: 0.2887 - masked_accuracy: 0.9106 - val_loss: 0.1394 - val_masked_accuracy: 0.9540\n",
            "Epoch 27/35\n",
            "901/902 [============================>.] - ETA: 0s - loss: 0.2775 - masked_accuracy: 0.9138\n",
            "Epoch 27: val_loss improved from 0.13942 to 0.13389, saving model to /content/gdrive/MyDrive/Colab Notebooks/Deep Learning/Transformer/double_transformer/weights/best_weights_35_epochs_t2.h5\n",
            "902/902 [==============================] - 53s 59ms/step - loss: 0.2775 - masked_accuracy: 0.9138 - val_loss: 0.1339 - val_masked_accuracy: 0.9560\n",
            "Epoch 28/35\n",
            "901/902 [============================>.] - ETA: 0s - loss: 0.2684 - masked_accuracy: 0.9165\n",
            "Epoch 28: val_loss improved from 0.13389 to 0.12414, saving model to /content/gdrive/MyDrive/Colab Notebooks/Deep Learning/Transformer/double_transformer/weights/best_weights_35_epochs_t2.h5\n",
            "902/902 [==============================] - 54s 59ms/step - loss: 0.2684 - masked_accuracy: 0.9166 - val_loss: 0.1241 - val_masked_accuracy: 0.9594\n",
            "Epoch 29/35\n",
            "901/902 [============================>.] - ETA: 0s - loss: 0.2580 - masked_accuracy: 0.9198\n",
            "Epoch 29: val_loss improved from 0.12414 to 0.11540, saving model to /content/gdrive/MyDrive/Colab Notebooks/Deep Learning/Transformer/double_transformer/weights/best_weights_35_epochs_t2.h5\n",
            "902/902 [==============================] - 54s 60ms/step - loss: 0.2580 - masked_accuracy: 0.9198 - val_loss: 0.1154 - val_masked_accuracy: 0.9626\n",
            "Epoch 30/35\n",
            "901/902 [============================>.] - ETA: 0s - loss: 0.2505 - masked_accuracy: 0.9221\n",
            "Epoch 30: val_loss improved from 0.11540 to 0.10528, saving model to /content/gdrive/MyDrive/Colab Notebooks/Deep Learning/Transformer/double_transformer/weights/best_weights_35_epochs_t2.h5\n",
            "902/902 [==============================] - 54s 60ms/step - loss: 0.2505 - masked_accuracy: 0.9222 - val_loss: 0.1053 - val_masked_accuracy: 0.9660\n",
            "Epoch 31/35\n",
            "902/902 [==============================] - ETA: 0s - loss: 0.2422 - masked_accuracy: 0.9245\n",
            "Epoch 31: val_loss improved from 0.10528 to 0.10173, saving model to /content/gdrive/MyDrive/Colab Notebooks/Deep Learning/Transformer/double_transformer/weights/best_weights_35_epochs_t2.h5\n",
            "902/902 [==============================] - 54s 59ms/step - loss: 0.2422 - masked_accuracy: 0.9245 - val_loss: 0.1017 - val_masked_accuracy: 0.9671\n",
            "Epoch 32/35\n",
            "901/902 [============================>.] - ETA: 0s - loss: 0.2333 - masked_accuracy: 0.9271\n",
            "Epoch 32: val_loss improved from 0.10173 to 0.09737, saving model to /content/gdrive/MyDrive/Colab Notebooks/Deep Learning/Transformer/double_transformer/weights/best_weights_35_epochs_t2.h5\n",
            "902/902 [==============================] - 54s 60ms/step - loss: 0.2333 - masked_accuracy: 0.9271 - val_loss: 0.0974 - val_masked_accuracy: 0.9684\n",
            "Epoch 33/35\n",
            "901/902 [============================>.] - ETA: 0s - loss: 0.2277 - masked_accuracy: 0.9289\n",
            "Epoch 33: val_loss improved from 0.09737 to 0.09263, saving model to /content/gdrive/MyDrive/Colab Notebooks/Deep Learning/Transformer/double_transformer/weights/best_weights_35_epochs_t2.h5\n",
            "902/902 [==============================] - 54s 60ms/step - loss: 0.2277 - masked_accuracy: 0.9289 - val_loss: 0.0926 - val_masked_accuracy: 0.9700\n",
            "Epoch 34/35\n",
            "902/902 [==============================] - ETA: 0s - loss: 0.2206 - masked_accuracy: 0.9310\n",
            "Epoch 34: val_loss improved from 0.09263 to 0.08663, saving model to /content/gdrive/MyDrive/Colab Notebooks/Deep Learning/Transformer/double_transformer/weights/best_weights_35_epochs_t2.h5\n",
            "902/902 [==============================] - 54s 59ms/step - loss: 0.2206 - masked_accuracy: 0.9310 - val_loss: 0.0866 - val_masked_accuracy: 0.9718\n",
            "Epoch 35/35\n",
            "901/902 [============================>.] - ETA: 0s - loss: 0.2133 - masked_accuracy: 0.9332\n",
            "Epoch 35: val_loss improved from 0.08663 to 0.07696, saving model to /content/gdrive/MyDrive/Colab Notebooks/Deep Learning/Transformer/double_transformer/weights/best_weights_35_epochs_t2.h5\n",
            "902/902 [==============================] - 54s 59ms/step - loss: 0.2133 - masked_accuracy: 0.9333 - val_loss: 0.0770 - val_masked_accuracy: 0.9758\n"
          ]
        }
      ],
      "source": [
        "train = True\n",
        "\n",
        "path_folder = '/content/gdrive/MyDrive/Colab Notebooks/Deep Learning/Transformer/double_transformer/weights'\n",
        "\n",
        "path_weigth1 = os.path.join(path_folder, 'best_weights_35_epochs_t1.h5')\n",
        "path_weigth2 = os.path.join(path_folder, 'best_weights_35_epochs_t2.h5')\n",
        "\n",
        "if train:\n",
        "  # Definition of the callbacks that save the best weigths\n",
        "  \n",
        "  checkpoint_callback_1 = ModelCheckpoint(filepath=path_weigth1,\n",
        "                                          monitor='val_loss',\n",
        "                                          save_best_only=True,\n",
        "                                          save_weights_only=True,\n",
        "                                          mode='min',\n",
        "                                          verbose=1\n",
        "                                        )\n",
        "\n",
        "  checkpoint_callback_2 = ModelCheckpoint(filepath=path_weigth2,\n",
        "                                          monitor='val_loss',\n",
        "                                          save_best_only=True,\n",
        "                                          save_weights_only=True,\n",
        "                                          mode='min',\n",
        "                                          verbose=1\n",
        "                                        )\n",
        "\n",
        "\n",
        "  # Definition of the callbacks that stop the trainin process if  for 5 epochs the  val_loss dont decreas at last of 0.0009\n",
        "\n",
        "  early_stopping_1 = EarlyStopping(monitor='val_loss',           # Metric to monitor \n",
        "                                patience=5,                      # Number of consecutive epochs without improvement\n",
        "                                restore_best_weights=True,       # Restore weights of the best epoch \n",
        "                                mode='min',                      # minimizing \n",
        "                                min_delta=0.001,                 # minimum change between two epochs\n",
        "                                verbose=1\n",
        "                                )\n",
        "\n",
        "  early_stopping_2 = EarlyStopping(monitor='val_loss',           # Metric to monitor \n",
        "                                patience=5,                      # Number of consecutive epochs without improvement\n",
        "                                restore_best_weights=True,       # Restore weights of the best epoch\n",
        "                                mode='min',                      # minimizing\n",
        "                                min_delta=0.001,                 # minimum change between two epochs\n",
        "                                verbose=1\n",
        "                                )\n",
        "\n",
        "\n",
        "\n",
        "  history_1, history_2 = my_d_t.fit([c_train, x_train],\n",
        "                                    y_train, \n",
        "                                    epochs=N_EPOCHS, \n",
        "                                    batch_size=BATCH_SIZE, \n",
        "                                    validation_split = VALIDATION_SPLIT,\n",
        "                                    callbacks_1=[early_stopping_1, checkpoint_callback_1],\n",
        "                                    callbacks_2=[early_stopping_2, checkpoint_callback_2]\n",
        "                                   )\n",
        "else:\n",
        "  my_d_t.load('/content/gdrive/MyDrive/Colab Notebooks/Deep Learning/Transformer/double_transformer/weights/best_weights_35_epochs_t1.h5', \n",
        "              '/content/gdrive/MyDrive/Colab Notebooks/Deep Learning/Transformer/double_transformer/weights/best_weights_35_epochs_t2.h5')\n",
        "\n"
      ]
    },
    {
      "cell_type": "markdown",
      "source": [
        "## Plotting the training process"
      ],
      "metadata": {
        "id": "klW-jl3-wMjC"
      }
    },
    {
      "cell_type": "code",
      "source": [
        "def display_history(model_fit, model_name):\n",
        "    print(model_fit)\n",
        "    mse_training = model_fit.history['loss']\n",
        "    acc_training = model_fit.history['masked_accuracy']\n",
        "\n",
        "    mse_val = model_fit.history['val_loss']\n",
        "    acc_val = model_fit.history['val_masked_accuracy']\n",
        "\n",
        "    fig, axs = plt.subplots(1, 2, figsize=(15, 4))  \n",
        "\n",
        "    axs[0].plot(mse_training)\n",
        "    axs[0].plot(mse_val)\n",
        "    axs[0].grid()\n",
        "    axs[0].set_title('Loss during training')\n",
        "    axs[0].set_xlabel('Epoch')\n",
        "    axs[0].legend(['Training', 'Validation'])\n",
        "\n",
        "    axs[1].plot(acc_training)\n",
        "    axs[1].plot(acc_val)\n",
        "    axs[1].grid()\n",
        "    axs[1].set_title('Accuracy during training')\n",
        "    axs[1].set_xlabel('Epoch')\n",
        "    axs[1].legend(['Training', 'Validation'])\n",
        "\n",
        "    fig.text(0.5, 0.95, 'Training History ' + model_name, ha='center', va='top', fontsize=16)\n",
        "    fig.subplots_adjust(top=0.75)\n",
        "\n",
        "    plt.show()\n",
        "\n",
        "\n",
        "display_history(history_1, 'Transformer_1');\n",
        "display_history(history_2, 'Transformer_2');                                                                    \n"
      ],
      "metadata": {
        "colab": {
          "base_uri": "https://localhost:8080/",
          "height": 852
        },
        "id": "c7O41a3pwMNs",
        "outputId": "00d2b2c9-a6b5-4393-9ae2-a98d4869fb08"
      },
      "execution_count": null,
      "outputs": [
        {
          "output_type": "stream",
          "name": "stdout",
          "text": [
            "<keras.callbacks.History object at 0x7f6ffc1ebd00>\n"
          ]
        },
        {
          "output_type": "display_data",
          "data": {
            "text/plain": [
              "<Figure size 1500x400 with 2 Axes>"
            ],
            "image/png": "[encoded data removed]"
          },
          "metadata": {}
        },
        {
          "output_type": "stream",
          "name": "stdout",
          "text": [
            "<keras.callbacks.History object at 0x7f6f41795a80>\n"
          ]
        },
        {
          "output_type": "display_data",
          "data": {
            "text/plain": [
              "<Figure size 1500x400 with 2 Axes>"
            ],
            "image/png": "[encoded data removed]"
          },
          "metadata": {}
        }
      ]
    },
    {
      "cell_type": "markdown",
      "source": [
        "As can be seen from the graphs above the training process does not characterize any symptoms of overfitting"
      ],
      "metadata": {
        "id": "1MP0dpb3WH6b"
      }
    },
    {
      "cell_type": "markdown",
      "source": [
        "## Test the Model"
      ],
      "metadata": {
        "id": "-2_dqc5RwAG4"
      }
    },
    {
      "cell_type": "markdown",
      "source": [
        "The realized model generates sentences one token at a time by basing the generation of a new token on the previous one.\n",
        "The choice of this token can be made through several strategies \n",
        "\n",
        "- **GreedySearch**: simpler implementation and higher performance from the point of view of computational complexity \n",
        "- **BeamSearch**: despite the increased computational complexity the implementation could lead to impruvemnt. ([More info](https://towardsdatascience.com/foundations-of-nlp-explained-visually-beam-search-how-it-works-1586b9849a2))\n",
        "\n",
        "The first technique generates each token by extracting the one with the highest probability of being associated with the previous token.\n",
        "While the Beam Search goes to consider a number n of tokens with maximum probability and from each of them tries to generate a new token proceeding so iteratively until it produces a number n of sentences from which it then extrapolates the most probable one associating to the probability of the sentence the joint probability of each token.\n",
        "\n"
      ],
      "metadata": {
        "id": "GTRJ4ul7wONj"
      }
    },
    {
      "cell_type": "markdown",
      "source": [
        "### Gready Search  Definition"
      ],
      "metadata": {
        "id": "3YMCHmUtjMxL"
      }
    },
    {
      "cell_type": "code",
      "execution_count": null,
      "metadata": {
        "id": "Jr6Imz7RW_su"
      },
      "outputs": [],
      "source": [
        "def greedySearch(input_sequence, masking=True):\n",
        "    output_array = tf.TensorArray(dtype=tf.int64, size=0, dynamic_size=True)\n",
        "    output_array = output_array.write(0, sos)\n",
        "    stop_condition = False\n",
        "\n",
        "    for i in range(32):\n",
        "      output = tf.transpose(output_array.stack())\n",
        "      output = output.numpy().reshape((1,output.shape[0]))\n",
        "      predictions = my_d_t([input_sequence, output], training=False)\n",
        "      predictions = predictions[0, -1:, :]\n",
        "      predictions = predictions.numpy()\n",
        "      predicted_id = tf.argmax(predictions, axis=-1)\n",
        "      output_array = output_array.write(i+1, predicted_id[0])\n",
        "\n",
        "      if predicted_id == eos:\n",
        "        break\n",
        "\n",
        "    output = tf.transpose(output_array.stack())\n",
        "    return output.numpy()\n"
      ]
    },
    {
      "cell_type": "markdown",
      "source": [
        "### My Beam search "
      ],
      "metadata": {
        "id": "_Izg8HNlkAlQ"
      }
    },
    {
      "cell_type": "code",
      "execution_count": null,
      "metadata": {
        "id": "ky30jjECx6PA"
      },
      "outputs": [],
      "source": [
        "BEAM_SIZE = 5\n",
        "\n",
        "def convert_sequence(input_sequence): \n",
        "  mask = [0, 1, 2, 3]\n",
        "  input_sequence = np.array(input_sequence)\n",
        "  input_sequence = input_sequence[~np.isin(input_sequence, mask)]\n",
        "  input_sequence = tokenizer.sequences_to_texts([input_sequence])\n",
        "  return input_sequence\n",
        "\n",
        "\n",
        "def predict(input_tokens, sequence):\n",
        "  sequence = sequence.reshape(1,32)\n",
        "\n",
        "  output_array = tf.TensorArray(dtype=tf.int64, size=0, dynamic_size=True)\n",
        "  output_array = output_array.write(0, input_tokens)\n",
        "  output = tf.transpose(output_array.stack())\n",
        "  output = output.numpy().reshape((1, output.shape[0]))\n",
        "\n",
        "  output_probs = my_d_t([sequence, output], training=False)\n",
        "  return output_probs[0, -1, :].numpy()\n",
        "\n",
        "def beam_engine(candidates_sentences,candidates_probabilities, sequence, \n",
        "               beam_size, mask):\n",
        "  \n",
        "    actual_tokens = []\n",
        "    actual_probabilities = []\n",
        "\n",
        "    for i in range(beam_size):\n",
        "        new_logits = predict(candidates_sentences[i], sequence) \n",
        "        new_logits[mask] = float('-inf')\n",
        "        new_tokens = np.argpartition(new_logits, -beam_size)[-beam_size:].tolist()\n",
        "        \n",
        "        new_probabilities = new_logits[new_tokens]\n",
        "\n",
        "        for element in new_tokens:      \n",
        "          actual_tokens.append(candidates_sentences[i] + [element])\n",
        "\n",
        "        actual_probabilities = np.append(actual_probabilities,\n",
        "                                         new_probabilities * candidates_probabilities[i])\n",
        "\n",
        "    proposed_sequences = np.argpartition(actual_probabilities, -beam_size)[-beam_size:]\n",
        "\n",
        "    candidates_sentences = [actual_tokens[i] for i in proposed_sequences]\n",
        "    candidates_probabilities = [actual_probabilities[i] for i in proposed_sequences]\n",
        "     \n",
        "    return candidates_sentences, candidates_probabilities\n",
        "\n",
        "\n",
        "def beam_search(sequence, vocabulary_dim, beam_size):\n",
        "    mask = np.full(vocabulary_dim, True, dtype=bool)\n",
        "    mask[sequence] = False\n",
        "\n",
        "    sos_token = np.zeros((1, 1))\n",
        "    sos_token[0, 0] = sos\n",
        "\n",
        "    sos_logits = predict(sos_token, sequence)\n",
        "    sos_logits[mask] = float('-inf')\n",
        "    sos_tokens = np.argpartition(sos_logits, -beam_size)[-beam_size:].tolist()\n",
        "    candidates_probabilities = sos_logits[sos_tokens].tolist()\n",
        "\n",
        "    candidates_sentences = []\n",
        "    for i in range(beam_size):\n",
        "       candidates_sentences.append([sos,sos_tokens[i]])\n",
        "\n",
        "    for i in range(len(sequence) - 1):\n",
        "      candidates_sentences, candidates_probabilities = beam_engine(candidates_sentences,\n",
        "                                                                  candidates_probabilities,\n",
        "                                                                  sequence,beam_size,mask)\n",
        "      if candidates_sentences[0][-1] == eos:\n",
        "          break\n",
        "  \n",
        "    return candidates_sentences[np.argmax(candidates_probabilities)]\n"
      ]
    },
    {
      "cell_type": "markdown",
      "source": [
        "### Comparison between GreedySearch and BeamSearch"
      ],
      "metadata": {
        "id": "OXLGf6_kl8w4"
      }
    },
    {
      "cell_type": "markdown",
      "source": [
        "An initial test case was chosen by going to consider a small set of number of items so that the quality of sentence reconstruction through the two techniques could be verified visually.\n",
        "\n",
        "\n"
      ],
      "metadata": {
        "id": "zpV7DfirXi0g"
      }
    },
    {
      "cell_type": "code",
      "source": [
        "nbr_sents_2_test = 50\n",
        "\n",
        "scores_vector_beam_seach = []\n",
        "scores_vector_arg_max = []\n",
        "\n",
        "for i in range(nbr_sents_2_test):\n",
        "  print('-'*200)\n",
        "  print(i, \"/\", nbr_sents_2_test)\n",
        "\n",
        "  print('Index phrase:', i)\n",
        "  s = convert_sequence(y_test[i])[0]\n",
        "  p = convert_sequence(beam_search(c_test[i], VOCABOLARY_SIZE, BEAM_SIZE))[0]\n",
        "\n",
        "  print(\"Correct sequence     :\", s)\n",
        "  print(\"Predict sequence beam:\", p)\n",
        "\n",
        "  sco_beam = score(p,s)\n",
        " \n",
        "  p = convert_sequence(greedySearch(c_test[i].reshape(1,32), VOCABOLARY_SIZE))[0]\n",
        "  print(\"Predict sequence arg :\", p)\n",
        "  sco_argmax = score(p,s)\n",
        "  \n",
        "  print(\"Score with Beam search:\", sco_beam)\n",
        "  print(\"Score with arg max:    \", sco_argmax) \n",
        "\n",
        "  scores_vector_beam_seach.append(sco_beam)\n",
        "  scores_vector_arg_max.append(sco_argmax)\n",
        "\n",
        "\n",
        "my_score_beam = np.mean(scores_vector_beam_seach)\n",
        "my_score_argmax = np.mean(scores_vector_arg_max)\n",
        "\n",
        "print('=' * 200)\n",
        "print(\"Final Score beam: \", my_score_beam)\n",
        "print(\"Final Score armax:\", my_score_argmax)\n"
      ],
      "metadata": {
        "colab": {
          "base_uri": "https://localhost:8080/"
        },
        "id": "sMcu9YFuvH0d",
        "outputId": "51a05c8a-4632-4789-a6cf-fb228a84192a"
      },
      "execution_count": null,
      "outputs": [
        {
          "output_type": "stream",
          "name": "stdout",
          "text": [
            "--------------------------------------------------------------------------------------------------------------------------------------------------------------------------------------------------------\n",
            "0 / 50\n",
            "Index phrase: 0\n",
            "Correct sequence     : in pittsburgh pennsylvania on august 6 1928\n",
            "Predict sequence beam: on august 6 1928 in pittsburgh pennsylvania\n",
            "Predict sequence arg : on 6 august 1928 in pittsburgh pennsylvania\n",
            "Score with Beam search: 0.6046511627906976\n",
            "Score with arg max:     0.6046511627906976\n",
            "--------------------------------------------------------------------------------------------------------------------------------------------------------------------------------------------------------\n",
            "1 / 50\n",
            "Index phrase: 1\n",
            "Correct sequence     : its area is\n",
            "Predict sequence beam: its area is\n",
            "Predict sequence arg : its area is\n",
            "Score with Beam search: 1.0\n",
            "Score with arg max:     1.0\n",
            "--------------------------------------------------------------------------------------------------------------------------------------------------------------------------------------------------------\n",
            "2 / 50\n",
            "Index phrase: 2\n",
            "Correct sequence     : in 2011 british historians released a survey to rate american presidents\n",
            "Predict sequence beam: in 2011 american historians released a survey rate to british presidents\n",
            "Predict sequence arg : in 2011 american presidents released to a survey rate british presidents\n",
            "Score with Beam search: 0.4166666666666667\n",
            "Score with arg max:     0.2777777777777778\n",
            "--------------------------------------------------------------------------------------------------------------------------------------------------------------------------------------------------------\n",
            "3 / 50\n",
            "Index phrase: 3\n",
            "Correct sequence     : 1937 2017 tim hague canadian mixed martial artist b\n",
            "Predict sequence beam: 1937 2017 tim mixed martial canadian artist b\n",
            "Predict sequence arg : 1937 2017 tim mixed canadian martial artist b\n",
            "Score with Beam search: 0.29411764705882354\n",
            "Score with arg max:     0.3333333333333333\n",
            "--------------------------------------------------------------------------------------------------------------------------------------------------------------------------------------------------------\n",
            "4 / 50\n",
            "Index phrase: 4\n",
            "Correct sequence     : presidential line of succession behind the vice president and the speaker of the house\n",
            "Predict sequence beam: behind the speaker of the house line and vice president of the presidential succession\n",
            "Predict sequence arg : the vice president of the speaker of the house line behind and presidential succession\n",
            "Score with Beam search: 0.313953488372093\n",
            "Score with arg max:     0.29069767441860467\n",
            "--------------------------------------------------------------------------------------------------------------------------------------------------------------------------------------------------------\n",
            "5 / 50\n",
            "Index phrase: 5\n",
            "Correct sequence     : the jubilee line is a line on the london underground\n",
            "Predict sequence beam: the jubilee line on the london underground is a line\n",
            "Predict sequence arg : the jubilee line on the london underground is a line\n",
            "Score with Beam search: 0.5961538461538461\n",
            "Score with arg max:     0.5961538461538461\n",
            "--------------------------------------------------------------------------------------------------------------------------------------------------------------------------------------------------------\n",
            "6 / 50\n",
            "Index phrase: 6\n",
            "Correct sequence     : this is not the view of the u\n",
            "Predict sequence beam: this is not the view of the u\n",
            "Predict sequence arg : this is not the view of the u\n",
            "Score with Beam search: 1.0\n",
            "Score with arg max:     1.0\n",
            "--------------------------------------------------------------------------------------------------------------------------------------------------------------------------------------------------------\n",
            "7 / 50\n",
            "Index phrase: 7\n",
            "Correct sequence     : it was her most successful album\n",
            "Predict sequence beam: it was her most successful album\n",
            "Predict sequence arg : it was her most successful album\n",
            "Score with Beam search: 1.0\n",
            "Score with arg max:     1.0\n",
            "--------------------------------------------------------------------------------------------------------------------------------------------------------------------------------------------------------\n",
            "8 / 50\n",
            "Index phrase: 8\n",
            "Correct sequence     : in the sun but not all stars the change which takes place is the production of helium with minute very small amounts of heavier elements\n",
            "Predict sequence beam: the production of the sun is very small amounts of helium which takes place with all elements heavier but not change in the minute stars\n",
            "Predict sequence arg : the production of all elements heavier with very small amounts of stars which change is not in the sun but the minute takes place\n",
            "Score with Beam search: 0.18382352941176472\n",
            "Score with arg max:     0.16911764705882354\n",
            "--------------------------------------------------------------------------------------------------------------------------------------------------------------------------------------------------------\n",
            "9 / 50\n",
            "Index phrase: 9\n",
            "Correct sequence     : 1942 1866 fred a\n",
            "Predict sequence beam: 1942 1866 fred a\n",
            "Predict sequence arg : 1942 1866 fred a\n",
            "Score with Beam search: 1.0\n",
            "Score with arg max:     1.0\n",
            "--------------------------------------------------------------------------------------------------------------------------------------------------------------------------------------------------------\n",
            "10 / 50\n",
            "Index phrase: 10\n",
            "Correct sequence     : education he went to harvard college and became a lawyer\n",
            "Predict sequence beam: he went to harvard college and became a lawyer education\n",
            "Predict sequence arg : he went to harvard college and became a lawyer education\n",
            "Score with Beam search: 0.8214285714285714\n",
            "Score with arg max:     0.8214285714285714\n",
            "--------------------------------------------------------------------------------------------------------------------------------------------------------------------------------------------------------\n",
            "11 / 50\n",
            "Index phrase: 11\n",
            "Correct sequence     : the copyright notice is missing an owner year or copyright symbol for works before 1989\n",
            "Predict sequence beam: copyright is the symbol for copyright works before 1989 or notice an owner year\n",
            "Predict sequence arg : copyright is the symbol for copyright works missing or before 1989 year copyright owner works\n",
            "Score with Beam search: 0.20689655172413793\n",
            "Score with arg max:     0.13978494623655913\n",
            "--------------------------------------------------------------------------------------------------------------------------------------------------------------------------------------------------------\n",
            "12 / 50\n",
            "Index phrase: 12\n",
            "Correct sequence     : often an attempt is made to correct this definition by saying down is towards the center of the earth\n",
            "Predict sequence beam: this is often made by saying the correct definition of an attempt to earth towards the center is down\n",
            "Predict sequence arg : this is often made by saying down to the correct definition of an attempt is saying towards the earth\n",
            "Score with Beam search: 0.19801980198019803\n",
            "Score with arg max:     0.15841584158415842\n",
            "--------------------------------------------------------------------------------------------------------------------------------------------------------------------------------------------------------\n",
            "13 / 50\n",
            "Index phrase: 13\n",
            "Correct sequence     : 2nd ed edited by k\n",
            "Predict sequence beam: edited by 2nd ed k\n",
            "Predict sequence arg : edited by 2nd ed k\n",
            "Score with Beam search: 0.5555555555555556\n",
            "Score with arg max:     0.5555555555555556\n",
            "--------------------------------------------------------------------------------------------------------------------------------------------------------------------------------------------------------\n",
            "14 / 50\n",
            "Index phrase: 14\n",
            "Correct sequence     : it was no\n",
            "Predict sequence beam: it was no\n",
            "Predict sequence arg : it was no\n",
            "Score with Beam search: 1.0\n",
            "Score with arg max:     1.0\n",
            "--------------------------------------------------------------------------------------------------------------------------------------------------------------------------------------------------------\n",
            "15 / 50\n",
            "Index phrase: 15\n",
            "Correct sequence     : at first there was very close relationship between japan and the usa\n",
            "Predict sequence beam: at first there was very close relationship between japan and the usa\n",
            "Predict sequence arg : there was very close relationship between japan and at the first usa\n",
            "Score with Beam search: 1.0\n",
            "Score with arg max:     0.7647058823529411\n",
            "--------------------------------------------------------------------------------------------------------------------------------------------------------------------------------------------------------\n",
            "16 / 50\n",
            "Index phrase: 16\n",
            "Correct sequence     : this means the ants work together so well that they are like little parts of one big animal\n",
            "Predict sequence beam: this means that they work together so big parts of the animal are little like one ants\n",
            "Predict sequence arg : this means that they work together so big parts of the animal are little like one ants\n",
            "Score with Beam search: 0.1978021978021978\n",
            "Score with arg max:     0.1978021978021978\n",
            "--------------------------------------------------------------------------------------------------------------------------------------------------------------------------------------------------------\n",
            "17 / 50\n",
            "Index phrase: 17\n",
            "Correct sequence     : there he found work at times but a lot of the time he was very poor\n",
            "Predict sequence beam: he found a lot of work there but at the time he was very poor times\n",
            "Predict sequence arg : he found a lot of work there but he was very poor times at the time\n",
            "Score with Beam search: 0.3880597014925373\n",
            "Score with arg max:     0.2537313432835821\n",
            "--------------------------------------------------------------------------------------------------------------------------------------------------------------------------------------------------------\n",
            "18 / 50\n",
            "Index phrase: 18\n",
            "Correct sequence     : it keeps its eyes shut when swimming using only its other senses such as hearing touch and changes in the electrical field\n",
            "Predict sequence beam: it keeps other senses such as hearing when using the electrical field and its only touch changes in its senses\n",
            "Predict sequence arg : it keeps the other senses such as hearing when using only touch its electrical field and its senses in hearing changes\n",
            "Score with Beam search: 0.2540983606557377\n",
            "Score with arg max:     0.2459016393442623\n",
            "--------------------------------------------------------------------------------------------------------------------------------------------------------------------------------------------------------\n",
            "19 / 50\n",
            "Index phrase: 19\n",
            "Correct sequence     : see death and state funeral of nelson mandela\n",
            "Predict sequence beam: see death and state funeral of nelson mandela\n",
            "Predict sequence arg : see death and state funeral of nelson mandela\n",
            "Score with Beam search: 1.0\n",
            "Score with arg max:     1.0\n",
            "--------------------------------------------------------------------------------------------------------------------------------------------------------------------------------------------------------\n",
            "20 / 50\n",
            "Index phrase: 20\n",
            "Correct sequence     : the african national congress c\n",
            "Predict sequence beam: the african national congress c\n",
            "Predict sequence arg : the african national congress c\n",
            "Score with Beam search: 1.0\n",
            "Score with arg max:     1.0\n",
            "--------------------------------------------------------------------------------------------------------------------------------------------------------------------------------------------------------\n",
            "21 / 50\n",
            "Index phrase: 21\n",
            "Correct sequence     : he published a description of this cell in 1865\n",
            "Predict sequence beam: he published a description of this cell in 1865\n",
            "Predict sequence arg : he published a description of this cell in 1865\n",
            "Score with Beam search: 1.0\n",
            "Score with arg max:     1.0\n",
            "--------------------------------------------------------------------------------------------------------------------------------------------------------------------------------------------------------\n",
            "22 / 50\n",
            "Index phrase: 22\n",
            "Correct sequence     : out of these 9 scores the highest and lowest score of each element or program component are ignored and the average will be taken\n",
            "Predict sequence beam: these are the highest component of each element program and the lowest scores will be taken out and 9 of each element or scores\n",
            "Predict sequence arg : these are the highest component of each element and the lowest score scores will be taken out of average and 9 program or scores\n",
            "Score with Beam search: 0.15503875968992248\n",
            "Score with arg max:     0.13178294573643412\n",
            "--------------------------------------------------------------------------------------------------------------------------------------------------------------------------------------------------------\n",
            "23 / 50\n",
            "Index phrase: 23\n",
            "Correct sequence     : problems and today recently the rangers have been a poor team missing the playoffs many years in a row\n",
            "Predict sequence beam: today the rangers have been a poor team in the playoffs a row and many years have recently been missing problems\n",
            "Predict sequence arg : today the rangers have been a poor team in the playoffs a row and many problems in missing years\n",
            "Score with Beam search: 0.32142857142857145\n",
            "Score with arg max:     0.35294117647058826\n",
            "--------------------------------------------------------------------------------------------------------------------------------------------------------------------------------------------------------\n",
            "24 / 50\n",
            "Index phrase: 24\n",
            "Correct sequence     : this means that financial capital has a stable value and can be traded in most places and with most people\n",
            "Predict sequence beam: this means that most people can be traded with financial capital and has a stable value and in most places\n",
            "Predict sequence arg : this means that most people can be traded with financial capital and has a stable value and in most places\n",
            "Score with Beam search: 0.22641509433962265\n",
            "Score with arg max:     0.22641509433962265\n",
            "--------------------------------------------------------------------------------------------------------------------------------------------------------------------------------------------------------\n",
            "25 / 50\n",
            "Index phrase: 25\n",
            "Correct sequence     : standard oil company new jersey\n",
            "Predict sequence beam: standard oil company new jersey\n",
            "Predict sequence arg : standard oil company new jersey\n",
            "Score with Beam search: 1.0\n",
            "Score with arg max:     1.0\n",
            "--------------------------------------------------------------------------------------------------------------------------------------------------------------------------------------------------------\n",
            "26 / 50\n",
            "Index phrase: 26\n",
            "Correct sequence     : this means philosophy tries to understand the reasons or basis for things\n",
            "Predict sequence beam: this means philosophy tries to understand the basis for reasons or things\n",
            "Predict sequence arg : this means philosophy tries to understand the basis for reasons or things\n",
            "Score with Beam search: 0.6301369863013698\n",
            "Score with arg max:     0.6301369863013698\n",
            "--------------------------------------------------------------------------------------------------------------------------------------------------------------------------------------------------------\n",
            "27 / 50\n",
            "Index phrase: 27\n",
            "Correct sequence     : american actor d\n",
            "Predict sequence beam: american actor d\n",
            "Predict sequence arg : american actor d\n",
            "Score with Beam search: 1.0\n",
            "Score with arg max:     1.0\n",
            "--------------------------------------------------------------------------------------------------------------------------------------------------------------------------------------------------------\n",
            "28 / 50\n",
            "Index phrase: 28\n",
            "Correct sequence     : they are also good for the immune system and to bring down high levels of cholesterol\n",
            "Predict sequence beam: they are also good for high cholesterol levels and bring down to the immune system of\n",
            "Predict sequence arg : they are also good for high cholesterol levels of the immune system and bring down to\n",
            "Score with Beam search: 0.27058823529411763\n",
            "Score with arg max:     0.27058823529411763\n",
            "--------------------------------------------------------------------------------------------------------------------------------------------------------------------------------------------------------\n",
            "29 / 50\n",
            "Index phrase: 29\n",
            "Correct sequence     : they had five children\n",
            "Predict sequence beam: they had\n",
            "Predict sequence arg : they had five children\n",
            "Score with Beam search: 0.36363636363636365\n",
            "Score with arg max:     1.0\n",
            "--------------------------------------------------------------------------------------------------------------------------------------------------------------------------------------------------------\n",
            "30 / 50\n",
            "Index phrase: 30\n",
            "Correct sequence     : other websites image diagram anatomy of the male reproductive system\n",
            "Predict sequence beam: other websites diagram of the anatomy male reproductive system image\n",
            "Predict sequence arg : other websites diagram of the anatomy male image system male reproductive\n",
            "Score with Beam search: 0.36764705882352944\n",
            "Score with arg max:     0.2465753424657534\n",
            "--------------------------------------------------------------------------------------------------------------------------------------------------------------------------------------------------------\n",
            "31 / 50\n",
            "Index phrase: 31\n",
            "Correct sequence     : it is called the great man made river and is the largest water development scheme in the world\n",
            "Predict sequence beam: it is the largest man made in the world and is called the great development river scheme\n",
            "Predict sequence arg : it is the largest man made in the world and is called the great development river scheme\n",
            "Score with Beam search: 0.22340425531914893\n",
            "Score with arg max:     0.22340425531914893\n",
            "--------------------------------------------------------------------------------------------------------------------------------------------------------------------------------------------------------\n",
            "32 / 50\n",
            "Index phrase: 32\n",
            "Correct sequence     : such plants are called annual\n",
            "Predict sequence beam: such plants are called annual\n",
            "Predict sequence arg : such plants are called annual\n",
            "Score with Beam search: 1.0\n",
            "Score with arg max:     1.0\n",
            "--------------------------------------------------------------------------------------------------------------------------------------------------------------------------------------------------------\n",
            "33 / 50\n",
            "Index phrase: 33\n",
            "Correct sequence     : it was described in june 2013\n",
            "Predict sequence beam: it was described in june 2013\n",
            "Predict sequence arg : it was described in june 2013\n",
            "Score with Beam search: 1.0\n",
            "Score with arg max:     1.0\n",
            "--------------------------------------------------------------------------------------------------------------------------------------------------------------------------------------------------------\n",
            "34 / 50\n",
            "Index phrase: 34\n",
            "Correct sequence     : followers of judaism and christianity consider the bible sacred but they do not all agree about what belongs in the bible\n",
            "Predict sequence beam: all followers of the bible do not agree about sacred christianity but they consider what belongs in the bible\n",
            "Predict sequence arg : all followers of the bible do not agree about sacred christianity but they consider what belongs in the bible\n",
            "Score with Beam search: 0.21487603305785125\n",
            "Score with arg max:     0.21487603305785125\n",
            "--------------------------------------------------------------------------------------------------------------------------------------------------------------------------------------------------------\n",
            "35 / 50\n",
            "Index phrase: 35\n",
            "Correct sequence     : seoul is the center of politics economy culture transportation and education for south korea\n",
            "Predict sequence beam: politics seoul is the center for education economy of seoul south korea and transportation\n",
            "Predict sequence arg : politics seoul is the center of culture for transportation education and south korea\n",
            "Score with Beam search: 0.21739130434782608\n",
            "Score with arg max:     0.25\n",
            "--------------------------------------------------------------------------------------------------------------------------------------------------------------------------------------------------------\n",
            "36 / 50\n",
            "Index phrase: 36\n",
            "Correct sequence     : 1832 1922 – pope benedict xv b\n",
            "Predict sequence beam: 1832 1922 – pope benedict xv b\n",
            "Predict sequence arg : 1832 1922 – pope benedict xv b\n",
            "Score with Beam search: 1.0\n",
            "Score with arg max:     1.0\n",
            "--------------------------------------------------------------------------------------------------------------------------------------------------------------------------------------------------------\n",
            "37 / 50\n",
            "Index phrase: 37\n",
            "Correct sequence     : 1964 october 22 – eve curie french writer b\n",
            "Predict sequence beam: 1964 october 22 – eve curie french writer b\n",
            "Predict sequence arg : 1964 october 22 – eve curie french writer b\n",
            "Score with Beam search: 1.0\n",
            "Score with arg max:     1.0\n",
            "--------------------------------------------------------------------------------------------------------------------------------------------------------------------------------------------------------\n",
            "38 / 50\n",
            "Index phrase: 38\n",
            "Correct sequence     : 1713 1811 george william smith governor of virginia b\n",
            "Predict sequence beam: 1713 1811 george william smith governor of virginia b\n",
            "Predict sequence arg : 1713 1811 george william smith governor of virginia b\n",
            "Score with Beam search: 1.0\n",
            "Score with arg max:     1.0\n",
            "--------------------------------------------------------------------------------------------------------------------------------------------------------------------------------------------------------\n",
            "39 / 50\n",
            "Index phrase: 39\n",
            "Correct sequence     : until 1971 the competition was held in the united states and since 1972 every year in a new country\n",
            "Predict sequence beam: the united states was held every year in 1972 and since a new competition in the country until 1971\n",
            "Predict sequence arg : the united states was held every year in 1972 and since the new country in 1971 until a competition\n",
            "Score with Beam search: 0.18181818181818182\n",
            "Score with arg max:     0.18181818181818182\n",
            "--------------------------------------------------------------------------------------------------------------------------------------------------------------------------------------------------------\n",
            "40 / 50\n",
            "Index phrase: 40\n",
            "Correct sequence     : 1857 january 20 1924 was a psychiatrist who had a big role in canadian politics\n",
            "Predict sequence beam: politics in january 20 1857 20 1924 was a big canadian psychiatrist who had a role\n",
            "Predict sequence arg : politics january 20 1857 20 1924 was a big canadian psychiatrist who had a role in\n",
            "Score with Beam search: 0.2926829268292683\n",
            "Score with arg max:     0.2926829268292683\n",
            "--------------------------------------------------------------------------------------------------------------------------------------------------------------------------------------------------------\n",
            "41 / 50\n",
            "Index phrase: 41\n",
            "Correct sequence     : four and a half million of them live in the western united states and 1\n",
            "Predict sequence beam: 1 million and four of them live in the western half and a united states\n",
            "Predict sequence arg : four million live in the western half and a half of them live and 1\n",
            "Score with Beam search: 0.4084507042253521\n",
            "Score with arg max:     0.29577464788732394\n",
            "--------------------------------------------------------------------------------------------------------------------------------------------------------------------------------------------------------\n",
            "42 / 50\n",
            "Index phrase: 42\n",
            "Correct sequence     : despite this it took him over 20 years to develop a good mathematical proof\n",
            "Predict sequence beam: despite this it took over 20 years to develop a good mathematical proof\n",
            "Predict sequence arg : despite this it took over 20 years to develop a good mathematical proof\n",
            "Score with Beam search: 0.68\n",
            "Score with arg max:     0.68\n",
            "--------------------------------------------------------------------------------------------------------------------------------------------------------------------------------------------------------\n",
            "43 / 50\n",
            "Index phrase: 43\n",
            "Correct sequence     : robert was raised by his mother in alexandria virginia\n",
            "Predict sequence beam: his mother was raised by robert virginia in alexandria\n",
            "Predict sequence arg : his mother was raised by robert virginia in alexandria\n",
            "Score with Beam search: 0.2777777777777778\n",
            "Score with arg max:     0.2777777777777778\n",
            "--------------------------------------------------------------------------------------------------------------------------------------------------------------------------------------------------------\n",
            "44 / 50\n",
            "Index phrase: 44\n",
            "Correct sequence     : in some countries like the united states of america saturday is the seventh and final day of the week\n",
            "Predict sequence beam: in some countries like the united states of america saturday is the seventh day of the week and final\n",
            "Predict sequence arg : saturday is the seventh day of the united states of america and some countries like the week in final\n",
            "Score with Beam search: 0.7524752475247525\n",
            "Score with arg max:     0.297029702970297\n",
            "--------------------------------------------------------------------------------------------------------------------------------------------------------------------------------------------------------\n",
            "45 / 50\n",
            "Index phrase: 45\n",
            "Correct sequence     : was the pen name of a japanese author poet literary critic and journalist in meiji period of japan\n",
            "Predict sequence beam: in meiji period the pen name was a japanese poet author of literary critic and journalist of japan\n",
            "Predict sequence arg : in the meiji period a japanese poet author was the name of literary critic and literary poet of japan\n",
            "Score with Beam search: 0.32653061224489793\n",
            "Score with arg max:     0.2079207920792079\n",
            "--------------------------------------------------------------------------------------------------------------------------------------------------------------------------------------------------------\n",
            "46 / 50\n",
            "Index phrase: 46\n",
            "Correct sequence     : 2000 – hillary clinton becomes the first first lady of the united states to be elected to the united states senate\n",
            "Predict sequence beam: 2000 – hillary clinton becomes the first first lady to be elected to the united states senate of the united states\n",
            "Predict sequence arg : 2000 – hillary clinton becomes the first lady of the united states senate to be elected to the first lady\n",
            "Score with Beam search: 0.45614035087719296\n",
            "Score with arg max:     0.35964912280701755\n",
            "--------------------------------------------------------------------------------------------------------------------------------------------------------------------------------------------------------\n",
            "47 / 50\n",
            "Index phrase: 47\n",
            "Correct sequence     : but if the curve was to be cut into very very small pieces the curve at the point would look almost like a very short straight line\n",
            "Predict sequence beam: but if the curve was to be cut into very small pieces the curve at almost a very short point would look like the curve\n",
            "Predict sequence arg : but if the curve was to be cut into very small pieces the curve at almost a very short point would look like the curve\n",
            "Score with Beam search: 0.31297709923664124\n",
            "Score with arg max:     0.31297709923664124\n",
            "--------------------------------------------------------------------------------------------------------------------------------------------------------------------------------------------------------\n",
            "48 / 50\n",
            "Index phrase: 48\n",
            "Correct sequence     : such a function might be for example respiration\n",
            "Predict sequence beam: such a function might be for example respiration\n",
            "Predict sequence arg : for example a function might be such respiration\n",
            "Score with Beam search: 1.0\n",
            "Score with arg max:     0.4375\n",
            "--------------------------------------------------------------------------------------------------------------------------------------------------------------------------------------------------------\n",
            "49 / 50\n",
            "Index phrase: 49\n",
            "Correct sequence     : such units are typically invented when existing units can not describe something easily enough\n",
            "Predict sequence beam: when such units are invented existing units can not easily describe something such enough\n",
            "Predict sequence arg : when such units are invented existing units not enough can easily describe something such\n",
            "Score with Beam search: 0.2553191489361702\n",
            "Score with arg max:     0.2127659574468085\n",
            "========================================================================================================================================================================================================\n",
            "Final Score beam:  0.5793192358560276\n",
            "Final Score armax: 0.5502334739391664\n"
          ]
        }
      ]
    },
    {
      "cell_type": "markdown",
      "source": [
        "### Final Test  "
      ],
      "metadata": {
        "id": "2SHsxOwVZTMz"
      }
    },
    {
      "cell_type": "markdown",
      "source": [
        "A more general test case was chosen considering a set of 3000 sentences to be reordered to produce the required score.\n",
        "The test was carried out using both GreedySearch and BeamSearch so as to highlight the performance achieved by the model using both techniques. "
      ],
      "metadata": {
        "id": "EgK19NOaS56k"
      }
    },
    {
      "cell_type": "markdown",
      "source": [
        "#### Final results GreedySearch"
      ],
      "metadata": {
        "id": "KOF8YlbsQMUt"
      }
    },
    {
      "cell_type": "markdown",
      "source": [
        "The following is the result obtained by applying the GreedySearch"
      ],
      "metadata": {
        "id": "npczNrHzUP87"
      }
    },
    {
      "cell_type": "code",
      "source": [
        "# This function has been implemented in order to speed up the test\n",
        "def predictBatch(input_sequences):\n",
        "        batch_size = input_sequences.shape[0]\n",
        "\n",
        "        encoder_input = input_sequences\n",
        "        \n",
        "        decoded_indexes = [[tokenizer.word_index['<start>']] for _ in range(batch_size)]\n",
        "\n",
        "        for i in range(1, max_sequence_len):\n",
        "            decoder_input = tf.convert_to_tensor(decoded_indexes)\n",
        "\n",
        "            predictions = np.array(my_d_t([encoder_input, decoder_input], training=False))\n",
        "            predictions = predictions[:, -1, :]\n",
        "            sampled_token_index = tf.cast(tf.argmax(predictions, axis=-1), tf.int32)\n",
        "          \n",
        "            for ind in range(batch_size):\n",
        "              decoded_indexes[ind].append(int(sampled_token_index[ind]))             \n",
        "\n",
        "\n",
        "        return decoded_indexes"
      ],
      "metadata": {
        "id": "FV8BzMzMohyW"
      },
      "execution_count": 86,
      "outputs": []
    },
    {
      "cell_type": "code",
      "source": [
        "total_score = 0\n",
        "num_examples = 3000\n",
        "start_id = 0\n",
        "batch = 500\n",
        "\n",
        "\n",
        "possible_choice = [i for i in range(len(c_test))]\n",
        "predicted_sequences_tot = []\n",
        "\n",
        "for i in tqdm(range(start_id, (start_id+num_examples)//batch)):\n",
        "  begin = i*batch\n",
        "  end = (i+1)*batch\n",
        "\n",
        "  random_index = randomizer.choice(possible_choice)\n",
        "  possible_choice.remove(random_index)\n",
        "\n",
        "  predicted_sequences = predictBatch(c_test[begin:end])\n",
        "  predicted_sequences_tot += predicted_sequences\n",
        "\n",
        "\n",
        "for i in (range(start_id, start_id+num_examples)):\n",
        "    original_sentence = tokenizer.sequences_to_texts([x_test[i][1:-1]])[0].replace(' <pad>', '').replace('<start> ', '').replace(' <end>', '')\n",
        "    \n",
        "    prediction = predicted_sequences_tot[i]\n",
        "    if(eos in prediction):\n",
        "      end_token_index = prediction.index(eos)\n",
        "      prediction = prediction[:end_token_index+1]\n",
        "    \n",
        "    predicted_sentence = tokenizer.sequences_to_texts([prediction])\n",
        "    predicted_sentence = predicted_sentence[0].replace('<start> ', '').replace(' <end>', '')\n",
        "    total_score += score(predicted_sentence, original_sentence)\n",
        "\n",
        "arg_max_score = (total_score / num_examples) \n",
        "\n",
        "\n",
        "print('\\n======================================================================')\n",
        "print(\"|               FINAL SCORE:                     \", arg_max_score   ,\"|\")\n",
        "print('======================================================================')"
      ],
      "metadata": {
        "colab": {
          "base_uri": "https://localhost:8080/"
        },
        "id": "t6t6B50qbsFY",
        "outputId": "acdd0afb-4402-458a-d8c7-97a42ff95217"
      },
      "execution_count": 87,
      "outputs": [
        {
          "output_type": "stream",
          "name": "stderr",
          "text": [
            "100%|██████████| 6/6 [01:50<00:00, 18.49s/it]\n"
          ]
        },
        {
          "output_type": "stream",
          "name": "stdout",
          "text": [
            "\n",
            "======================================================================\n",
            "|               FINAL SCORE:                      0.5385042324427607 |\n",
            "======================================================================\n"
          ]
        }
      ]
    },
    {
      "cell_type": "markdown",
      "source": [
        "#### Final result BeamSearch"
      ],
      "metadata": {
        "id": "4W_m6DL7UxLE"
      }
    },
    {
      "cell_type": "markdown",
      "source": [
        "The following cell is designed to allow partial results to be saved ensuring that what is calculated is not lost due to runtime disconnects. the achieved score is then saved whenever 500 elements are processed up to a total of 3000 also going to exclude the possibility that some input phrase may be tested multiple times, and giving the possibility to restart from a checkpoint. "
      ],
      "metadata": {
        "id": "Ip9-MphUViBc"
      }
    },
    {
      "cell_type": "markdown",
      "source": [
        "The following is the result obtained by applying the BeamSearch"
      ],
      "metadata": {
        "id": "WFySfiVl8QZi"
      }
    },
    {
      "cell_type": "code",
      "source": [
        "final_test_case_nbr = 500\n",
        "\n",
        "possible_choice = [i for i in range(len(c_test))]\n",
        "final_mean_score = []\n",
        "\n",
        "\n",
        "for j in range(6):\n",
        "  mean_score = []\n",
        "  filename = f'/content/gdrive/MyDrive/Colab Notebooks/Deep Learning/Transformer/double_transformer/results/final_score_{j}.pkl'\n",
        "  if os.path.exists(filename):\n",
        "      with open(filename, \"rb\") as f:\n",
        "          loaded_object = pickle.read(f)\n",
        "      final_mean_score.append(loaded_object['partial tests'+ str(j)])\n",
        "      possible_choice = loaded_object['possiblechoice_step_'+ str(j)]\n",
        "  else:\n",
        "      for i in tqdm(range(final_test_case_nbr)):\n",
        "        random_index = randomizer.choice(possible_choice)\n",
        "        possible_choice.remove(random_index)\n",
        "\n",
        "        s = convert_sequence(y_test[random_index])[0]\n",
        "        p = convert_sequence(beam_search(c_test[random_index], VOCABOLARY_SIZE, BEAM_SIZE))[0]\n",
        "        \n",
        "        sco_beam = score(p, s)\n",
        "\n",
        "        mean_score.append(sco_beam)\n",
        "\n",
        "      with open(filename, 'wb') as f:\n",
        "        pickle.dump({\n",
        "            'partial tests'+ str(j): np.sum(mean_score),\n",
        "            'possiblechoice_step_'+ str(j): possible_choice\n",
        "        }, f)\n",
        "      final_mean_score.append(np.sum(mean_score))\n",
        "\n",
        "\n",
        "my_score_beam = np.sum(final_mean_score) / 3000\n",
        "\n",
        "\n",
        "print('\\n======================================================================')\n",
        "print(\"|               FINAL SCORE:                     \", my_score_beam , \"|\")\n",
        "print('======================================================================')\n"
      ],
      "metadata": {
        "colab": {
          "base_uri": "https://localhost:8080/"
        },
        "id": "nbkDN7RQZS6L",
        "outputId": "69a6df96-364a-44a6-8920-bf6bedaa9b42"
      },
      "execution_count": 85,
      "outputs": [
        {
          "output_type": "stream",
          "name": "stderr",
          "text": [
            "100%|██████████| 500/500 [2:02:04<00:00, 14.65s/it]\n",
            "100%|██████████| 500/500 [1:58:24<00:00, 14.21s/it]\n",
            "100%|██████████| 500/500 [2:03:13<00:00, 14.79s/it]\n",
            "100%|██████████| 500/500 [2:00:22<00:00, 14.44s/it]\n",
            "100%|██████████| 500/500 [2:01:20<00:00, 14.56s/it]\n",
            "100%|██████████| 500/500 [1:58:36<00:00, 14.23s/it]"
          ]
        },
        {
          "output_type": "stream",
          "name": "stdout",
          "text": [
            "\n",
            "======================================================================\n",
            "|               FINAL SCORE:                      0.5409169784702489 |\n",
            "======================================================================\n"
          ]
        },
        {
          "output_type": "stream",
          "name": "stderr",
          "text": [
            "\n"
          ]
        }
      ]
    },
    {
      "cell_type": "markdown",
      "source": [
        "## Conclusion"
      ],
      "metadata": {
        "id": "zJ237QT7zxGH"
      }
    },
    {
      "cell_type": "markdown",
      "source": [
        "In the initial test case involving a set of 50 sentences, a notable disparity of two scores was observed between the two techniques (BeamSearch: 0.5793192358560276 vs GreedySearch: 0.5502334739391664). This highlights the superior performance of BeamSearch compared to GreedySearch.\n",
        "\n",
        "The final test, as requested, was conducted on a set of 3000 sentences. It revealed that the BeamSearch technique performs better, albeit to a lesser extent. Consequently, I have chosen to utilize this technique alongside the model.\n",
        "\n",
        "\n",
        "\n",
        "**MY BEST SCORE**\n",
        "---\n",
        "\n",
        "**0.5409169784702489**.\n",
        "\n",
        "---\n",
        "\n"
      ],
      "metadata": {
        "id": "D4RD8J-CQVyx"
      }
    }
  ],
  "metadata": {
    "accelerator": "GPU",
    "colab": {
      "provenance": [],
      "machine_shape": "hm",
      "gpuType": "A100",
      "collapsed_sections": [
        "o2Obv3TddKSJ",
        "pGGTQ9wtdOpS",
        "TRlaQsAbiY0c",
        "pbB_GoF3eDlj",
        "rJQWIyXiebc-",
        "NOENwf5vessD",
        "CfB26Wr3faox",
        "q5ZLTtcvfkYr",
        "b9liRSJef39z",
        "uSpaMNSQgBpu",
        "vONLIIixd_fW",
        "gviJ5EydgeBB",
        "vmcwrpwNgqfd",
        "4BD9mLJDiT4B",
        "klW-jl3-wMjC",
        "3YMCHmUtjMxL",
        "_Izg8HNlkAlQ",
        "OXLGf6_kl8w4"
      ],
      "toc_visible": true
    },
    "kernelspec": {
      "display_name": "Python 3",
      "name": "python3"
    },
    "language_info": {
      "name": "python"
    },
    "widgets": {
      "application/vnd.jupyter.widget-state+json": {
        "8ec8110a85e64740bf52350382764346": {
          "model_module": "@jupyter-widgets/controls",
          "model_name": "HBoxModel",
          "model_module_version": "1.5.0",
          "state": {
            "_dom_classes": [],
            "_model_module": "@jupyter-widgets/controls",
            "_model_module_version": "1.5.0",
            "_model_name": "HBoxModel",
            "_view_count": null,
            "_view_module": "@jupyter-widgets/controls",
            "_view_module_version": "1.5.0",
            "_view_name": "HBoxView",
            "box_style": "",
            "children": [
              "IPY_MODEL_c1ca9866e2a44d7aaf83e647567ddf73",
              "IPY_MODEL_416fd5817636466890ef87c18bc85f68",
              "IPY_MODEL_4653b208012942589b058d9c72fe5320"
            ],
            "layout": "IPY_MODEL_399e8ef5b571430d80c2c6be0f6cf23b"
          }
        },
        "c1ca9866e2a44d7aaf83e647567ddf73": {
          "model_module": "@jupyter-widgets/controls",
          "model_name": "HTMLModel",
          "model_module_version": "1.5.0",
          "state": {
            "_dom_classes": [],
            "_model_module": "@jupyter-widgets/controls",
            "_model_module_version": "1.5.0",
            "_model_name": "HTMLModel",
            "_view_count": null,
            "_view_module": "@jupyter-widgets/controls",
            "_view_module_version": "1.5.0",
            "_view_name": "HTMLView",
            "description": "",
            "description_tooltip": null,
            "layout": "IPY_MODEL_0dfafc53e8c34eef893bf650d13cced8",
            "placeholder": "​",
            "style": "IPY_MODEL_39b440d801bf49b597ae75475bf1b476",
            "value": "Downloading builder script: 100%"
          }
        },
        "416fd5817636466890ef87c18bc85f68": {
          "model_module": "@jupyter-widgets/controls",
          "model_name": "FloatProgressModel",
          "model_module_version": "1.5.0",
          "state": {
            "_dom_classes": [],
            "_model_module": "@jupyter-widgets/controls",
            "_model_module_version": "1.5.0",
            "_model_name": "FloatProgressModel",
            "_view_count": null,
            "_view_module": "@jupyter-widgets/controls",
            "_view_module_version": "1.5.0",
            "_view_name": "ProgressView",
            "bar_style": "success",
            "description": "",
            "description_tooltip": null,
            "layout": "IPY_MODEL_c7353950f6f24747b9c65ec6e3c76f15",
            "max": 35871,
            "min": 0,
            "orientation": "horizontal",
            "style": "IPY_MODEL_2a2a3f7828f3471296840471e41ac33a",
            "value": 35871
          }
        },
        "4653b208012942589b058d9c72fe5320": {
          "model_module": "@jupyter-widgets/controls",
          "model_name": "HTMLModel",
          "model_module_version": "1.5.0",
          "state": {
            "_dom_classes": [],
            "_model_module": "@jupyter-widgets/controls",
            "_model_module_version": "1.5.0",
            "_model_name": "HTMLModel",
            "_view_count": null,
            "_view_module": "@jupyter-widgets/controls",
            "_view_module_version": "1.5.0",
            "_view_name": "HTMLView",
            "description": "",
            "description_tooltip": null,
            "layout": "IPY_MODEL_160c09e5bb304287be8815b4f22dd7b3",
            "placeholder": "​",
            "style": "IPY_MODEL_fc8be19784b042029933243ada04232c",
            "value": " 35.9k/35.9k [00:00&lt;00:00, 2.04MB/s]"
          }
        },
        "399e8ef5b571430d80c2c6be0f6cf23b": {
          "model_module": "@jupyter-widgets/base",
          "model_name": "LayoutModel",
          "model_module_version": "1.2.0",
          "state": {
            "_model_module": "@jupyter-widgets/base",
            "_model_module_version": "1.2.0",
            "_model_name": "LayoutModel",
            "_view_count": null,
            "_view_module": "@jupyter-widgets/base",
            "_view_module_version": "1.2.0",
            "_view_name": "LayoutView",
            "align_content": null,
            "align_items": null,
            "align_self": null,
            "border": null,
            "bottom": null,
            "display": null,
            "flex": null,
            "flex_flow": null,
            "grid_area": null,
            "grid_auto_columns": null,
            "grid_auto_flow": null,
            "grid_auto_rows": null,
            "grid_column": null,
            "grid_gap": null,
            "grid_row": null,
            "grid_template_areas": null,
            "grid_template_columns": null,
            "grid_template_rows": null,
            "height": null,
            "justify_content": null,
            "justify_items": null,
            "left": null,
            "margin": null,
            "max_height": null,
            "max_width": null,
            "min_height": null,
            "min_width": null,
            "object_fit": null,
            "object_position": null,
            "order": null,
            "overflow": null,
            "overflow_x": null,
            "overflow_y": null,
            "padding": null,
            "right": null,
            "top": null,
            "visibility": null,
            "width": null
          }
        },
        "0dfafc53e8c34eef893bf650d13cced8": {
          "model_module": "@jupyter-widgets/base",
          "model_name": "LayoutModel",
          "model_module_version": "1.2.0",
          "state": {
            "_model_module": "@jupyter-widgets/base",
            "_model_module_version": "1.2.0",
            "_model_name": "LayoutModel",
            "_view_count": null,
            "_view_module": "@jupyter-widgets/base",
            "_view_module_version": "1.2.0",
            "_view_name": "LayoutView",
            "align_content": null,
            "align_items": null,
            "align_self": null,
            "border": null,
            "bottom": null,
            "display": null,
            "flex": null,
            "flex_flow": null,
            "grid_area": null,
            "grid_auto_columns": null,
            "grid_auto_flow": null,
            "grid_auto_rows": null,
            "grid_column": null,
            "grid_gap": null,
            "grid_row": null,
            "grid_template_areas": null,
            "grid_template_columns": null,
            "grid_template_rows": null,
            "height": null,
            "justify_content": null,
            "justify_items": null,
            "left": null,
            "margin": null,
            "max_height": null,
            "max_width": null,
            "min_height": null,
            "min_width": null,
            "object_fit": null,
            "object_position": null,
            "order": null,
            "overflow": null,
            "overflow_x": null,
            "overflow_y": null,
            "padding": null,
            "right": null,
            "top": null,
            "visibility": null,
            "width": null
          }
        },
        "39b440d801bf49b597ae75475bf1b476": {
          "model_module": "@jupyter-widgets/controls",
          "model_name": "DescriptionStyleModel",
          "model_module_version": "1.5.0",
          "state": {
            "_model_module": "@jupyter-widgets/controls",
            "_model_module_version": "1.5.0",
            "_model_name": "DescriptionStyleModel",
            "_view_count": null,
            "_view_module": "@jupyter-widgets/base",
            "_view_module_version": "1.2.0",
            "_view_name": "StyleView",
            "description_width": ""
          }
        },
        "c7353950f6f24747b9c65ec6e3c76f15": {
          "model_module": "@jupyter-widgets/base",
          "model_name": "LayoutModel",
          "model_module_version": "1.2.0",
          "state": {
            "_model_module": "@jupyter-widgets/base",
            "_model_module_version": "1.2.0",
            "_model_name": "LayoutModel",
            "_view_count": null,
            "_view_module": "@jupyter-widgets/base",
            "_view_module_version": "1.2.0",
            "_view_name": "LayoutView",
            "align_content": null,
            "align_items": null,
            "align_self": null,
            "border": null,
            "bottom": null,
            "display": null,
            "flex": null,
            "flex_flow": null,
            "grid_area": null,
            "grid_auto_columns": null,
            "grid_auto_flow": null,
            "grid_auto_rows": null,
            "grid_column": null,
            "grid_gap": null,
            "grid_row": null,
            "grid_template_areas": null,
            "grid_template_columns": null,
            "grid_template_rows": null,
            "height": null,
            "justify_content": null,
            "justify_items": null,
            "left": null,
            "margin": null,
            "max_height": null,
            "max_width": null,
            "min_height": null,
            "min_width": null,
            "object_fit": null,
            "object_position": null,
            "order": null,
            "overflow": null,
            "overflow_x": null,
            "overflow_y": null,
            "padding": null,
            "right": null,
            "top": null,
            "visibility": null,
            "width": null
          }
        },
        "2a2a3f7828f3471296840471e41ac33a": {
          "model_module": "@jupyter-widgets/controls",
          "model_name": "ProgressStyleModel",
          "model_module_version": "1.5.0",
          "state": {
            "_model_module": "@jupyter-widgets/controls",
            "_model_module_version": "1.5.0",
            "_model_name": "ProgressStyleModel",
            "_view_count": null,
            "_view_module": "@jupyter-widgets/base",
            "_view_module_version": "1.2.0",
            "_view_name": "StyleView",
            "bar_color": null,
            "description_width": ""
          }
        },
        "160c09e5bb304287be8815b4f22dd7b3": {
          "model_module": "@jupyter-widgets/base",
          "model_name": "LayoutModel",
          "model_module_version": "1.2.0",
          "state": {
            "_model_module": "@jupyter-widgets/base",
            "_model_module_version": "1.2.0",
            "_model_name": "LayoutModel",
            "_view_count": null,
            "_view_module": "@jupyter-widgets/base",
            "_view_module_version": "1.2.0",
            "_view_name": "LayoutView",
            "align_content": null,
            "align_items": null,
            "align_self": null,
            "border": null,
            "bottom": null,
            "display": null,
            "flex": null,
            "flex_flow": null,
            "grid_area": null,
            "grid_auto_columns": null,
            "grid_auto_flow": null,
            "grid_auto_rows": null,
            "grid_column": null,
            "grid_gap": null,
            "grid_row": null,
            "grid_template_areas": null,
            "grid_template_columns": null,
            "grid_template_rows": null,
            "height": null,
            "justify_content": null,
            "justify_items": null,
            "left": null,
            "margin": null,
            "max_height": null,
            "max_width": null,
            "min_height": null,
            "min_width": null,
            "object_fit": null,
            "object_position": null,
            "order": null,
            "overflow": null,
            "overflow_x": null,
            "overflow_y": null,
            "padding": null,
            "right": null,
            "top": null,
            "visibility": null,
            "width": null
          }
        },
        "fc8be19784b042029933243ada04232c": {
          "model_module": "@jupyter-widgets/controls",
          "model_name": "DescriptionStyleModel",
          "model_module_version": "1.5.0",
          "state": {
            "_model_module": "@jupyter-widgets/controls",
            "_model_module_version": "1.5.0",
            "_model_name": "DescriptionStyleModel",
            "_view_count": null,
            "_view_module": "@jupyter-widgets/base",
            "_view_module_version": "1.2.0",
            "_view_name": "StyleView",
            "description_width": ""
          }
        },
        "c792a7a3c7bd4bbdbb4e4bb80e6926f9": {
          "model_module": "@jupyter-widgets/controls",
          "model_name": "HBoxModel",
          "model_module_version": "1.5.0",
          "state": {
            "_dom_classes": [],
            "_model_module": "@jupyter-widgets/controls",
            "_model_module_version": "1.5.0",
            "_model_name": "HBoxModel",
            "_view_count": null,
            "_view_module": "@jupyter-widgets/controls",
            "_view_module_version": "1.5.0",
            "_view_name": "HBoxView",
            "box_style": "",
            "children": [
              "IPY_MODEL_45754d6979e34851b0e6a8c08146b482",
              "IPY_MODEL_4905be1ac4c64212b6cd50bc666f3968",
              "IPY_MODEL_445c437b77674fec85a0a999096d5462"
            ],
            "layout": "IPY_MODEL_438fda23132044a1a20943b22edc5e9a"
          }
        },
        "45754d6979e34851b0e6a8c08146b482": {
          "model_module": "@jupyter-widgets/controls",
          "model_name": "HTMLModel",
          "model_module_version": "1.5.0",
          "state": {
            "_dom_classes": [],
            "_model_module": "@jupyter-widgets/controls",
            "_model_module_version": "1.5.0",
            "_model_name": "HTMLModel",
            "_view_count": null,
            "_view_module": "@jupyter-widgets/controls",
            "_view_module_version": "1.5.0",
            "_view_name": "HTMLView",
            "description": "",
            "description_tooltip": null,
            "layout": "IPY_MODEL_59c0a4d92f4f47529f858140740f204a",
            "placeholder": "​",
            "style": "IPY_MODEL_8f160cbb5f81440fa702f714f3e5a947",
            "value": "Downloading metadata: 100%"
          }
        },
        "4905be1ac4c64212b6cd50bc666f3968": {
          "model_module": "@jupyter-widgets/controls",
          "model_name": "FloatProgressModel",
          "model_module_version": "1.5.0",
          "state": {
            "_dom_classes": [],
            "_model_module": "@jupyter-widgets/controls",
            "_model_module_version": "1.5.0",
            "_model_name": "FloatProgressModel",
            "_view_count": null,
            "_view_module": "@jupyter-widgets/controls",
            "_view_module_version": "1.5.0",
            "_view_name": "ProgressView",
            "bar_style": "success",
            "description": "",
            "description_tooltip": null,
            "layout": "IPY_MODEL_8b96ac0e907f4b9686d8d6def915821d",
            "max": 30394,
            "min": 0,
            "orientation": "horizontal",
            "style": "IPY_MODEL_16e7c2df22524066aef8ea644c9b00c1",
            "value": 30394
          }
        },
        "445c437b77674fec85a0a999096d5462": {
          "model_module": "@jupyter-widgets/controls",
          "model_name": "HTMLModel",
          "model_module_version": "1.5.0",
          "state": {
            "_dom_classes": [],
            "_model_module": "@jupyter-widgets/controls",
            "_model_module_version": "1.5.0",
            "_model_name": "HTMLModel",
            "_view_count": null,
            "_view_module": "@jupyter-widgets/controls",
            "_view_module_version": "1.5.0",
            "_view_name": "HTMLView",
            "description": "",
            "description_tooltip": null,
            "layout": "IPY_MODEL_0bdc12ce0caa4ae880f0dd4a86058593",
            "placeholder": "​",
            "style": "IPY_MODEL_4c2b157c339c496ab1e43f143c26f495",
            "value": " 30.4k/30.4k [00:00&lt;00:00, 1.86MB/s]"
          }
        },
        "438fda23132044a1a20943b22edc5e9a": {
          "model_module": "@jupyter-widgets/base",
          "model_name": "LayoutModel",
          "model_module_version": "1.2.0",
          "state": {
            "_model_module": "@jupyter-widgets/base",
            "_model_module_version": "1.2.0",
            "_model_name": "LayoutModel",
            "_view_count": null,
            "_view_module": "@jupyter-widgets/base",
            "_view_module_version": "1.2.0",
            "_view_name": "LayoutView",
            "align_content": null,
            "align_items": null,
            "align_self": null,
            "border": null,
            "bottom": null,
            "display": null,
            "flex": null,
            "flex_flow": null,
            "grid_area": null,
            "grid_auto_columns": null,
            "grid_auto_flow": null,
            "grid_auto_rows": null,
            "grid_column": null,
            "grid_gap": null,
            "grid_row": null,
            "grid_template_areas": null,
            "grid_template_columns": null,
            "grid_template_rows": null,
            "height": null,
            "justify_content": null,
            "justify_items": null,
            "left": null,
            "margin": null,
            "max_height": null,
            "max_width": null,
            "min_height": null,
            "min_width": null,
            "object_fit": null,
            "object_position": null,
            "order": null,
            "overflow": null,
            "overflow_x": null,
            "overflow_y": null,
            "padding": null,
            "right": null,
            "top": null,
            "visibility": null,
            "width": null
          }
        },
        "59c0a4d92f4f47529f858140740f204a": {
          "model_module": "@jupyter-widgets/base",
          "model_name": "LayoutModel",
          "model_module_version": "1.2.0",
          "state": {
            "_model_module": "@jupyter-widgets/base",
            "_model_module_version": "1.2.0",
            "_model_name": "LayoutModel",
            "_view_count": null,
            "_view_module": "@jupyter-widgets/base",
            "_view_module_version": "1.2.0",
            "_view_name": "LayoutView",
            "align_content": null,
            "align_items": null,
            "align_self": null,
            "border": null,
            "bottom": null,
            "display": null,
            "flex": null,
            "flex_flow": null,
            "grid_area": null,
            "grid_auto_columns": null,
            "grid_auto_flow": null,
            "grid_auto_rows": null,
            "grid_column": null,
            "grid_gap": null,
            "grid_row": null,
            "grid_template_areas": null,
            "grid_template_columns": null,
            "grid_template_rows": null,
            "height": null,
            "justify_content": null,
            "justify_items": null,
            "left": null,
            "margin": null,
            "max_height": null,
            "max_width": null,
            "min_height": null,
            "min_width": null,
            "object_fit": null,
            "object_position": null,
            "order": null,
            "overflow": null,
            "overflow_x": null,
            "overflow_y": null,
            "padding": null,
            "right": null,
            "top": null,
            "visibility": null,
            "width": null
          }
        },
        "8f160cbb5f81440fa702f714f3e5a947": {
          "model_module": "@jupyter-widgets/controls",
          "model_name": "DescriptionStyleModel",
          "model_module_version": "1.5.0",
          "state": {
            "_model_module": "@jupyter-widgets/controls",
            "_model_module_version": "1.5.0",
            "_model_name": "DescriptionStyleModel",
            "_view_count": null,
            "_view_module": "@jupyter-widgets/base",
            "_view_module_version": "1.2.0",
            "_view_name": "StyleView",
            "description_width": ""
          }
        },
        "8b96ac0e907f4b9686d8d6def915821d": {
          "model_module": "@jupyter-widgets/base",
          "model_name": "LayoutModel",
          "model_module_version": "1.2.0",
          "state": {
            "_model_module": "@jupyter-widgets/base",
            "_model_module_version": "1.2.0",
            "_model_name": "LayoutModel",
            "_view_count": null,
            "_view_module": "@jupyter-widgets/base",
            "_view_module_version": "1.2.0",
            "_view_name": "LayoutView",
            "align_content": null,
            "align_items": null,
            "align_self": null,
            "border": null,
            "bottom": null,
            "display": null,
            "flex": null,
            "flex_flow": null,
            "grid_area": null,
            "grid_auto_columns": null,
            "grid_auto_flow": null,
            "grid_auto_rows": null,
            "grid_column": null,
            "grid_gap": null,
            "grid_row": null,
            "grid_template_areas": null,
            "grid_template_columns": null,
            "grid_template_rows": null,
            "height": null,
            "justify_content": null,
            "justify_items": null,
            "left": null,
            "margin": null,
            "max_height": null,
            "max_width": null,
            "min_height": null,
            "min_width": null,
            "object_fit": null,
            "object_position": null,
            "order": null,
            "overflow": null,
            "overflow_x": null,
            "overflow_y": null,
            "padding": null,
            "right": null,
            "top": null,
            "visibility": null,
            "width": null
          }
        },
        "16e7c2df22524066aef8ea644c9b00c1": {
          "model_module": "@jupyter-widgets/controls",
          "model_name": "ProgressStyleModel",
          "model_module_version": "1.5.0",
          "state": {
            "_model_module": "@jupyter-widgets/controls",
            "_model_module_version": "1.5.0",
            "_model_name": "ProgressStyleModel",
            "_view_count": null,
            "_view_module": "@jupyter-widgets/base",
            "_view_module_version": "1.2.0",
            "_view_name": "StyleView",
            "bar_color": null,
            "description_width": ""
          }
        },
        "0bdc12ce0caa4ae880f0dd4a86058593": {
          "model_module": "@jupyter-widgets/base",
          "model_name": "LayoutModel",
          "model_module_version": "1.2.0",
          "state": {
            "_model_module": "@jupyter-widgets/base",
            "_model_module_version": "1.2.0",
            "_model_name": "LayoutModel",
            "_view_count": null,
            "_view_module": "@jupyter-widgets/base",
            "_view_module_version": "1.2.0",
            "_view_name": "LayoutView",
            "align_content": null,
            "align_items": null,
            "align_self": null,
            "border": null,
            "bottom": null,
            "display": null,
            "flex": null,
            "flex_flow": null,
            "grid_area": null,
            "grid_auto_columns": null,
            "grid_auto_flow": null,
            "grid_auto_rows": null,
            "grid_column": null,
            "grid_gap": null,
            "grid_row": null,
            "grid_template_areas": null,
            "grid_template_columns": null,
            "grid_template_rows": null,
            "height": null,
            "justify_content": null,
            "justify_items": null,
            "left": null,
            "margin": null,
            "max_height": null,
            "max_width": null,
            "min_height": null,
            "min_width": null,
            "object_fit": null,
            "object_position": null,
            "order": null,
            "overflow": null,
            "overflow_x": null,
            "overflow_y": null,
            "padding": null,
            "right": null,
            "top": null,
            "visibility": null,
            "width": null
          }
        },
        "4c2b157c339c496ab1e43f143c26f495": {
          "model_module": "@jupyter-widgets/controls",
          "model_name": "DescriptionStyleModel",
          "model_module_version": "1.5.0",
          "state": {
            "_model_module": "@jupyter-widgets/controls",
            "_model_module_version": "1.5.0",
            "_model_name": "DescriptionStyleModel",
            "_view_count": null,
            "_view_module": "@jupyter-widgets/base",
            "_view_module_version": "1.2.0",
            "_view_name": "StyleView",
            "description_width": ""
          }
        },
        "008093d8a2ca4cb4bdcfb89c63a00220": {
          "model_module": "@jupyter-widgets/controls",
          "model_name": "HBoxModel",
          "model_module_version": "1.5.0",
          "state": {
            "_dom_classes": [],
            "_model_module": "@jupyter-widgets/controls",
            "_model_module_version": "1.5.0",
            "_model_name": "HBoxModel",
            "_view_count": null,
            "_view_module": "@jupyter-widgets/controls",
            "_view_module_version": "1.5.0",
            "_view_name": "HBoxView",
            "box_style": "",
            "children": [
              "IPY_MODEL_cb1428c06e1b4ae6885293f06689ad91",
              "IPY_MODEL_9bae2fdd6a1e43f5be7a7d91dfdbdb05",
              "IPY_MODEL_02243f5d61d245ca9c250673c5f8810d"
            ],
            "layout": "IPY_MODEL_a8d038a5a2684188b41d4ff12991ed2e"
          }
        },
        "cb1428c06e1b4ae6885293f06689ad91": {
          "model_module": "@jupyter-widgets/controls",
          "model_name": "HTMLModel",
          "model_module_version": "1.5.0",
          "state": {
            "_dom_classes": [],
            "_model_module": "@jupyter-widgets/controls",
            "_model_module_version": "1.5.0",
            "_model_name": "HTMLModel",
            "_view_count": null,
            "_view_module": "@jupyter-widgets/controls",
            "_view_module_version": "1.5.0",
            "_view_name": "HTMLView",
            "description": "",
            "description_tooltip": null,
            "layout": "IPY_MODEL_b4391ffeddaa4f26a75c0ded1bc97557",
            "placeholder": "​",
            "style": "IPY_MODEL_a2f626ff59cc4bc8b0667f87fdf47361",
            "value": "Downloading readme: 100%"
          }
        },
        "9bae2fdd6a1e43f5be7a7d91dfdbdb05": {
          "model_module": "@jupyter-widgets/controls",
          "model_name": "FloatProgressModel",
          "model_module_version": "1.5.0",
          "state": {
            "_dom_classes": [],
            "_model_module": "@jupyter-widgets/controls",
            "_model_module_version": "1.5.0",
            "_model_name": "FloatProgressModel",
            "_view_count": null,
            "_view_module": "@jupyter-widgets/controls",
            "_view_module_version": "1.5.0",
            "_view_name": "ProgressView",
            "bar_style": "success",
            "description": "",
            "description_tooltip": null,
            "layout": "IPY_MODEL_819ba38504ed4fab87241d101b67a072",
            "max": 16258,
            "min": 0,
            "orientation": "horizontal",
            "style": "IPY_MODEL_40c9de498d384a76881e5d756c18b570",
            "value": 16258
          }
        },
        "02243f5d61d245ca9c250673c5f8810d": {
          "model_module": "@jupyter-widgets/controls",
          "model_name": "HTMLModel",
          "model_module_version": "1.5.0",
          "state": {
            "_dom_classes": [],
            "_model_module": "@jupyter-widgets/controls",
            "_model_module_version": "1.5.0",
            "_model_name": "HTMLModel",
            "_view_count": null,
            "_view_module": "@jupyter-widgets/controls",
            "_view_module_version": "1.5.0",
            "_view_name": "HTMLView",
            "description": "",
            "description_tooltip": null,
            "layout": "IPY_MODEL_5f5b76361ccd4590a8f3e8933d6f04d8",
            "placeholder": "​",
            "style": "IPY_MODEL_e5adea08ae164c07a05baca09dbfaa24",
            "value": " 16.3k/16.3k [00:00&lt;00:00, 1.29MB/s]"
          }
        },
        "a8d038a5a2684188b41d4ff12991ed2e": {
          "model_module": "@jupyter-widgets/base",
          "model_name": "LayoutModel",
          "model_module_version": "1.2.0",
          "state": {
            "_model_module": "@jupyter-widgets/base",
            "_model_module_version": "1.2.0",
            "_model_name": "LayoutModel",
            "_view_count": null,
            "_view_module": "@jupyter-widgets/base",
            "_view_module_version": "1.2.0",
            "_view_name": "LayoutView",
            "align_content": null,
            "align_items": null,
            "align_self": null,
            "border": null,
            "bottom": null,
            "display": null,
            "flex": null,
            "flex_flow": null,
            "grid_area": null,
            "grid_auto_columns": null,
            "grid_auto_flow": null,
            "grid_auto_rows": null,
            "grid_column": null,
            "grid_gap": null,
            "grid_row": null,
            "grid_template_areas": null,
            "grid_template_columns": null,
            "grid_template_rows": null,
            "height": null,
            "justify_content": null,
            "justify_items": null,
            "left": null,
            "margin": null,
            "max_height": null,
            "max_width": null,
            "min_height": null,
            "min_width": null,
            "object_fit": null,
            "object_position": null,
            "order": null,
            "overflow": null,
            "overflow_x": null,
            "overflow_y": null,
            "padding": null,
            "right": null,
            "top": null,
            "visibility": null,
            "width": null
          }
        },
        "b4391ffeddaa4f26a75c0ded1bc97557": {
          "model_module": "@jupyter-widgets/base",
          "model_name": "LayoutModel",
          "model_module_version": "1.2.0",
          "state": {
            "_model_module": "@jupyter-widgets/base",
            "_model_module_version": "1.2.0",
            "_model_name": "LayoutModel",
            "_view_count": null,
            "_view_module": "@jupyter-widgets/base",
            "_view_module_version": "1.2.0",
            "_view_name": "LayoutView",
            "align_content": null,
            "align_items": null,
            "align_self": null,
            "border": null,
            "bottom": null,
            "display": null,
            "flex": null,
            "flex_flow": null,
            "grid_area": null,
            "grid_auto_columns": null,
            "grid_auto_flow": null,
            "grid_auto_rows": null,
            "grid_column": null,
            "grid_gap": null,
            "grid_row": null,
            "grid_template_areas": null,
            "grid_template_columns": null,
            "grid_template_rows": null,
            "height": null,
            "justify_content": null,
            "justify_items": null,
            "left": null,
            "margin": null,
            "max_height": null,
            "max_width": null,
            "min_height": null,
            "min_width": null,
            "object_fit": null,
            "object_position": null,
            "order": null,
            "overflow": null,
            "overflow_x": null,
            "overflow_y": null,
            "padding": null,
            "right": null,
            "top": null,
            "visibility": null,
            "width": null
          }
        },
        "a2f626ff59cc4bc8b0667f87fdf47361": {
          "model_module": "@jupyter-widgets/controls",
          "model_name": "DescriptionStyleModel",
          "model_module_version": "1.5.0",
          "state": {
            "_model_module": "@jupyter-widgets/controls",
            "_model_module_version": "1.5.0",
            "_model_name": "DescriptionStyleModel",
            "_view_count": null,
            "_view_module": "@jupyter-widgets/base",
            "_view_module_version": "1.2.0",
            "_view_name": "StyleView",
            "description_width": ""
          }
        },
        "819ba38504ed4fab87241d101b67a072": {
          "model_module": "@jupyter-widgets/base",
          "model_name": "LayoutModel",
          "model_module_version": "1.2.0",
          "state": {
            "_model_module": "@jupyter-widgets/base",
            "_model_module_version": "1.2.0",
            "_model_name": "LayoutModel",
            "_view_count": null,
            "_view_module": "@jupyter-widgets/base",
            "_view_module_version": "1.2.0",
            "_view_name": "LayoutView",
            "align_content": null,
            "align_items": null,
            "align_self": null,
            "border": null,
            "bottom": null,
            "display": null,
            "flex": null,
            "flex_flow": null,
            "grid_area": null,
            "grid_auto_columns": null,
            "grid_auto_flow": null,
            "grid_auto_rows": null,
            "grid_column": null,
            "grid_gap": null,
            "grid_row": null,
            "grid_template_areas": null,
            "grid_template_columns": null,
            "grid_template_rows": null,
            "height": null,
            "justify_content": null,
            "justify_items": null,
            "left": null,
            "margin": null,
            "max_height": null,
            "max_width": null,
            "min_height": null,
            "min_width": null,
            "object_fit": null,
            "object_position": null,
            "order": null,
            "overflow": null,
            "overflow_x": null,
            "overflow_y": null,
            "padding": null,
            "right": null,
            "top": null,
            "visibility": null,
            "width": null
          }
        },
        "40c9de498d384a76881e5d756c18b570": {
          "model_module": "@jupyter-widgets/controls",
          "model_name": "ProgressStyleModel",
          "model_module_version": "1.5.0",
          "state": {
            "_model_module": "@jupyter-widgets/controls",
            "_model_module_version": "1.5.0",
            "_model_name": "ProgressStyleModel",
            "_view_count": null,
            "_view_module": "@jupyter-widgets/base",
            "_view_module_version": "1.2.0",
            "_view_name": "StyleView",
            "bar_color": null,
            "description_width": ""
          }
        },
        "5f5b76361ccd4590a8f3e8933d6f04d8": {
          "model_module": "@jupyter-widgets/base",
          "model_name": "LayoutModel",
          "model_module_version": "1.2.0",
          "state": {
            "_model_module": "@jupyter-widgets/base",
            "_model_module_version": "1.2.0",
            "_model_name": "LayoutModel",
            "_view_count": null,
            "_view_module": "@jupyter-widgets/base",
            "_view_module_version": "1.2.0",
            "_view_name": "LayoutView",
            "align_content": null,
            "align_items": null,
            "align_self": null,
            "border": null,
            "bottom": null,
            "display": null,
            "flex": null,
            "flex_flow": null,
            "grid_area": null,
            "grid_auto_columns": null,
            "grid_auto_flow": null,
            "grid_auto_rows": null,
            "grid_column": null,
            "grid_gap": null,
            "grid_row": null,
            "grid_template_areas": null,
            "grid_template_columns": null,
            "grid_template_rows": null,
            "height": null,
            "justify_content": null,
            "justify_items": null,
            "left": null,
            "margin": null,
            "max_height": null,
            "max_width": null,
            "min_height": null,
            "min_width": null,
            "object_fit": null,
            "object_position": null,
            "order": null,
            "overflow": null,
            "overflow_x": null,
            "overflow_y": null,
            "padding": null,
            "right": null,
            "top": null,
            "visibility": null,
            "width": null
          }
        },
        "e5adea08ae164c07a05baca09dbfaa24": {
          "model_module": "@jupyter-widgets/controls",
          "model_name": "DescriptionStyleModel",
          "model_module_version": "1.5.0",
          "state": {
            "_model_module": "@jupyter-widgets/controls",
            "_model_module_version": "1.5.0",
            "_model_name": "DescriptionStyleModel",
            "_view_count": null,
            "_view_module": "@jupyter-widgets/base",
            "_view_module_version": "1.2.0",
            "_view_name": "StyleView",
            "description_width": ""
          }
        },
        "47d4bff634494a1e8264ae535705d6af": {
          "model_module": "@jupyter-widgets/controls",
          "model_name": "HBoxModel",
          "model_module_version": "1.5.0",
          "state": {
            "_dom_classes": [],
            "_model_module": "@jupyter-widgets/controls",
            "_model_module_version": "1.5.0",
            "_model_name": "HBoxModel",
            "_view_count": null,
            "_view_module": "@jupyter-widgets/controls",
            "_view_module_version": "1.5.0",
            "_view_name": "HBoxView",
            "box_style": "",
            "children": [
              "IPY_MODEL_39bbfb0de15441ff90aa752491984612",
              "IPY_MODEL_ea6b975022ea46b4ade37124c91ac4b8",
              "IPY_MODEL_3b46e417fec3436ab68e5f8766bfecff"
            ],
            "layout": "IPY_MODEL_8c2e7fff2ab84b0ca7825e36eafeeca9"
          }
        },
        "39bbfb0de15441ff90aa752491984612": {
          "model_module": "@jupyter-widgets/controls",
          "model_name": "HTMLModel",
          "model_module_version": "1.5.0",
          "state": {
            "_dom_classes": [],
            "_model_module": "@jupyter-widgets/controls",
            "_model_module_version": "1.5.0",
            "_model_name": "HTMLModel",
            "_view_count": null,
            "_view_module": "@jupyter-widgets/controls",
            "_view_module_version": "1.5.0",
            "_view_name": "HTMLView",
            "description": "",
            "description_tooltip": null,
            "layout": "IPY_MODEL_cc499af6385e485e844b445f70b075ef",
            "placeholder": "​",
            "style": "IPY_MODEL_07a0b6ed0a16401b8b86a9f4d96a355d",
            "value": "Downloading: 100%"
          }
        },
        "ea6b975022ea46b4ade37124c91ac4b8": {
          "model_module": "@jupyter-widgets/controls",
          "model_name": "FloatProgressModel",
          "model_module_version": "1.5.0",
          "state": {
            "_dom_classes": [],
            "_model_module": "@jupyter-widgets/controls",
            "_model_module_version": "1.5.0",
            "_model_name": "FloatProgressModel",
            "_view_count": null,
            "_view_module": "@jupyter-widgets/controls",
            "_view_module_version": "1.5.0",
            "_view_name": "ProgressView",
            "bar_style": "success",
            "description": "",
            "description_tooltip": null,
            "layout": "IPY_MODEL_8618bcfb56124d17b2b47ad4e00279c9",
            "max": 1660,
            "min": 0,
            "orientation": "horizontal",
            "style": "IPY_MODEL_9f5c282034fc4f3a9ea0fa6c4a4b4d5a",
            "value": 1660
          }
        },
        "3b46e417fec3436ab68e5f8766bfecff": {
          "model_module": "@jupyter-widgets/controls",
          "model_name": "HTMLModel",
          "model_module_version": "1.5.0",
          "state": {
            "_dom_classes": [],
            "_model_module": "@jupyter-widgets/controls",
            "_model_module_version": "1.5.0",
            "_model_name": "HTMLModel",
            "_view_count": null,
            "_view_module": "@jupyter-widgets/controls",
            "_view_module_version": "1.5.0",
            "_view_name": "HTMLView",
            "description": "",
            "description_tooltip": null,
            "layout": "IPY_MODEL_fec11180f4234433895d4c22dcde8ef1",
            "placeholder": "​",
            "style": "IPY_MODEL_8403e652c24e46429f91695e40f95af5",
            "value": " 1.66k/1.66k [00:00&lt;00:00, 133kB/s]"
          }
        },
        "8c2e7fff2ab84b0ca7825e36eafeeca9": {
          "model_module": "@jupyter-widgets/base",
          "model_name": "LayoutModel",
          "model_module_version": "1.2.0",
          "state": {
            "_model_module": "@jupyter-widgets/base",
            "_model_module_version": "1.2.0",
            "_model_name": "LayoutModel",
            "_view_count": null,
            "_view_module": "@jupyter-widgets/base",
            "_view_module_version": "1.2.0",
            "_view_name": "LayoutView",
            "align_content": null,
            "align_items": null,
            "align_self": null,
            "border": null,
            "bottom": null,
            "display": null,
            "flex": null,
            "flex_flow": null,
            "grid_area": null,
            "grid_auto_columns": null,
            "grid_auto_flow": null,
            "grid_auto_rows": null,
            "grid_column": null,
            "grid_gap": null,
            "grid_row": null,
            "grid_template_areas": null,
            "grid_template_columns": null,
            "grid_template_rows": null,
            "height": null,
            "justify_content": null,
            "justify_items": null,
            "left": null,
            "margin": null,
            "max_height": null,
            "max_width": null,
            "min_height": null,
            "min_width": null,
            "object_fit": null,
            "object_position": null,
            "order": null,
            "overflow": null,
            "overflow_x": null,
            "overflow_y": null,
            "padding": null,
            "right": null,
            "top": null,
            "visibility": null,
            "width": null
          }
        },
        "cc499af6385e485e844b445f70b075ef": {
          "model_module": "@jupyter-widgets/base",
          "model_name": "LayoutModel",
          "model_module_version": "1.2.0",
          "state": {
            "_model_module": "@jupyter-widgets/base",
            "_model_module_version": "1.2.0",
            "_model_name": "LayoutModel",
            "_view_count": null,
            "_view_module": "@jupyter-widgets/base",
            "_view_module_version": "1.2.0",
            "_view_name": "LayoutView",
            "align_content": null,
            "align_items": null,
            "align_self": null,
            "border": null,
            "bottom": null,
            "display": null,
            "flex": null,
            "flex_flow": null,
            "grid_area": null,
            "grid_auto_columns": null,
            "grid_auto_flow": null,
            "grid_auto_rows": null,
            "grid_column": null,
            "grid_gap": null,
            "grid_row": null,
            "grid_template_areas": null,
            "grid_template_columns": null,
            "grid_template_rows": null,
            "height": null,
            "justify_content": null,
            "justify_items": null,
            "left": null,
            "margin": null,
            "max_height": null,
            "max_width": null,
            "min_height": null,
            "min_width": null,
            "object_fit": null,
            "object_position": null,
            "order": null,
            "overflow": null,
            "overflow_x": null,
            "overflow_y": null,
            "padding": null,
            "right": null,
            "top": null,
            "visibility": null,
            "width": null
          }
        },
        "07a0b6ed0a16401b8b86a9f4d96a355d": {
          "model_module": "@jupyter-widgets/controls",
          "model_name": "DescriptionStyleModel",
          "model_module_version": "1.5.0",
          "state": {
            "_model_module": "@jupyter-widgets/controls",
            "_model_module_version": "1.5.0",
            "_model_name": "DescriptionStyleModel",
            "_view_count": null,
            "_view_module": "@jupyter-widgets/base",
            "_view_module_version": "1.2.0",
            "_view_name": "StyleView",
            "description_width": ""
          }
        },
        "8618bcfb56124d17b2b47ad4e00279c9": {
          "model_module": "@jupyter-widgets/base",
          "model_name": "LayoutModel",
          "model_module_version": "1.2.0",
          "state": {
            "_model_module": "@jupyter-widgets/base",
            "_model_module_version": "1.2.0",
            "_model_name": "LayoutModel",
            "_view_count": null,
            "_view_module": "@jupyter-widgets/base",
            "_view_module_version": "1.2.0",
            "_view_name": "LayoutView",
            "align_content": null,
            "align_items": null,
            "align_self": null,
            "border": null,
            "bottom": null,
            "display": null,
            "flex": null,
            "flex_flow": null,
            "grid_area": null,
            "grid_auto_columns": null,
            "grid_auto_flow": null,
            "grid_auto_rows": null,
            "grid_column": null,
            "grid_gap": null,
            "grid_row": null,
            "grid_template_areas": null,
            "grid_template_columns": null,
            "grid_template_rows": null,
            "height": null,
            "justify_content": null,
            "justify_items": null,
            "left": null,
            "margin": null,
            "max_height": null,
            "max_width": null,
            "min_height": null,
            "min_width": null,
            "object_fit": null,
            "object_position": null,
            "order": null,
            "overflow": null,
            "overflow_x": null,
            "overflow_y": null,
            "padding": null,
            "right": null,
            "top": null,
            "visibility": null,
            "width": null
          }
        },
        "9f5c282034fc4f3a9ea0fa6c4a4b4d5a": {
          "model_module": "@jupyter-widgets/controls",
          "model_name": "ProgressStyleModel",
          "model_module_version": "1.5.0",
          "state": {
            "_model_module": "@jupyter-widgets/controls",
            "_model_module_version": "1.5.0",
            "_model_name": "ProgressStyleModel",
            "_view_count": null,
            "_view_module": "@jupyter-widgets/base",
            "_view_module_version": "1.2.0",
            "_view_name": "StyleView",
            "bar_color": null,
            "description_width": ""
          }
        },
        "fec11180f4234433895d4c22dcde8ef1": {
          "model_module": "@jupyter-widgets/base",
          "model_name": "LayoutModel",
          "model_module_version": "1.2.0",
          "state": {
            "_model_module": "@jupyter-widgets/base",
            "_model_module_version": "1.2.0",
            "_model_name": "LayoutModel",
            "_view_count": null,
            "_view_module": "@jupyter-widgets/base",
            "_view_module_version": "1.2.0",
            "_view_name": "LayoutView",
            "align_content": null,
            "align_items": null,
            "align_self": null,
            "border": null,
            "bottom": null,
            "display": null,
            "flex": null,
            "flex_flow": null,
            "grid_area": null,
            "grid_auto_columns": null,
            "grid_auto_flow": null,
            "grid_auto_rows": null,
            "grid_column": null,
            "grid_gap": null,
            "grid_row": null,
            "grid_template_areas": null,
            "grid_template_columns": null,
            "grid_template_rows": null,
            "height": null,
            "justify_content": null,
            "justify_items": null,
            "left": null,
            "margin": null,
            "max_height": null,
            "max_width": null,
            "min_height": null,
            "min_width": null,
            "object_fit": null,
            "object_position": null,
            "order": null,
            "overflow": null,
            "overflow_x": null,
            "overflow_y": null,
            "padding": null,
            "right": null,
            "top": null,
            "visibility": null,
            "width": null
          }
        },
        "8403e652c24e46429f91695e40f95af5": {
          "model_module": "@jupyter-widgets/controls",
          "model_name": "DescriptionStyleModel",
          "model_module_version": "1.5.0",
          "state": {
            "_model_module": "@jupyter-widgets/controls",
            "_model_module_version": "1.5.0",
            "_model_name": "DescriptionStyleModel",
            "_view_count": null,
            "_view_module": "@jupyter-widgets/base",
            "_view_module_version": "1.2.0",
            "_view_name": "StyleView",
            "description_width": ""
          }
        },
        "9078c263aef94895bf305805904c45e2": {
          "model_module": "@jupyter-widgets/controls",
          "model_name": "HBoxModel",
          "model_module_version": "1.5.0",
          "state": {
            "_dom_classes": [],
            "_model_module": "@jupyter-widgets/controls",
            "_model_module_version": "1.5.0",
            "_model_name": "HBoxModel",
            "_view_count": null,
            "_view_module": "@jupyter-widgets/controls",
            "_view_module_version": "1.5.0",
            "_view_name": "HBoxView",
            "box_style": "",
            "children": [
              "IPY_MODEL_8e3b2fc68660420f80fd47ae34a5b652",
              "IPY_MODEL_61f205d709c344d5ac8577b9bc10dbca",
              "IPY_MODEL_cdcbe2369ffc4efb81c29d65aefcf750"
            ],
            "layout": "IPY_MODEL_c3efd31f50cc4e2b947a233c4c384481"
          }
        },
        "8e3b2fc68660420f80fd47ae34a5b652": {
          "model_module": "@jupyter-widgets/controls",
          "model_name": "HTMLModel",
          "model_module_version": "1.5.0",
          "state": {
            "_dom_classes": [],
            "_model_module": "@jupyter-widgets/controls",
            "_model_module_version": "1.5.0",
            "_model_name": "HTMLModel",
            "_view_count": null,
            "_view_module": "@jupyter-widgets/controls",
            "_view_module_version": "1.5.0",
            "_view_name": "HTMLView",
            "description": "",
            "description_tooltip": null,
            "layout": "IPY_MODEL_b49c246e6d2944369211c87943cac330",
            "placeholder": "​",
            "style": "IPY_MODEL_7a0da45539834b1f9044bd5f80e32134",
            "value": "Downloading: 100%"
          }
        },
        "61f205d709c344d5ac8577b9bc10dbca": {
          "model_module": "@jupyter-widgets/controls",
          "model_name": "FloatProgressModel",
          "model_module_version": "1.5.0",
          "state": {
            "_dom_classes": [],
            "_model_module": "@jupyter-widgets/controls",
            "_model_module_version": "1.5.0",
            "_model_name": "FloatProgressModel",
            "_view_count": null,
            "_view_module": "@jupyter-widgets/controls",
            "_view_module_version": "1.5.0",
            "_view_name": "ProgressView",
            "bar_style": "success",
            "description": "",
            "description_tooltip": null,
            "layout": "IPY_MODEL_44a3b2cb7ec5471f9aab308cce9287bd",
            "max": 235072360,
            "min": 0,
            "orientation": "horizontal",
            "style": "IPY_MODEL_c717d0126cd2476d953e3330cf9c5796",
            "value": 235072360
          }
        },
        "cdcbe2369ffc4efb81c29d65aefcf750": {
          "model_module": "@jupyter-widgets/controls",
          "model_name": "HTMLModel",
          "model_module_version": "1.5.0",
          "state": {
            "_dom_classes": [],
            "_model_module": "@jupyter-widgets/controls",
            "_model_module_version": "1.5.0",
            "_model_name": "HTMLModel",
            "_view_count": null,
            "_view_module": "@jupyter-widgets/controls",
            "_view_module_version": "1.5.0",
            "_view_name": "HTMLView",
            "description": "",
            "description_tooltip": null,
            "layout": "IPY_MODEL_468c634fab084d39997d24b66776c542",
            "placeholder": "​",
            "style": "IPY_MODEL_1679a606ed9e439da0d6dcd36e79c17d",
            "value": " 235M/235M [00:06&lt;00:00, 39.3MB/s]"
          }
        },
        "c3efd31f50cc4e2b947a233c4c384481": {
          "model_module": "@jupyter-widgets/base",
          "model_name": "LayoutModel",
          "model_module_version": "1.2.0",
          "state": {
            "_model_module": "@jupyter-widgets/base",
            "_model_module_version": "1.2.0",
            "_model_name": "LayoutModel",
            "_view_count": null,
            "_view_module": "@jupyter-widgets/base",
            "_view_module_version": "1.2.0",
            "_view_name": "LayoutView",
            "align_content": null,
            "align_items": null,
            "align_self": null,
            "border": null,
            "bottom": null,
            "display": null,
            "flex": null,
            "flex_flow": null,
            "grid_area": null,
            "grid_auto_columns": null,
            "grid_auto_flow": null,
            "grid_auto_rows": null,
            "grid_column": null,
            "grid_gap": null,
            "grid_row": null,
            "grid_template_areas": null,
            "grid_template_columns": null,
            "grid_template_rows": null,
            "height": null,
            "justify_content": null,
            "justify_items": null,
            "left": null,
            "margin": null,
            "max_height": null,
            "max_width": null,
            "min_height": null,
            "min_width": null,
            "object_fit": null,
            "object_position": null,
            "order": null,
            "overflow": null,
            "overflow_x": null,
            "overflow_y": null,
            "padding": null,
            "right": null,
            "top": null,
            "visibility": null,
            "width": null
          }
        },
        "b49c246e6d2944369211c87943cac330": {
          "model_module": "@jupyter-widgets/base",
          "model_name": "LayoutModel",
          "model_module_version": "1.2.0",
          "state": {
            "_model_module": "@jupyter-widgets/base",
            "_model_module_version": "1.2.0",
            "_model_name": "LayoutModel",
            "_view_count": null,
            "_view_module": "@jupyter-widgets/base",
            "_view_module_version": "1.2.0",
            "_view_name": "LayoutView",
            "align_content": null,
            "align_items": null,
            "align_self": null,
            "border": null,
            "bottom": null,
            "display": null,
            "flex": null,
            "flex_flow": null,
            "grid_area": null,
            "grid_auto_columns": null,
            "grid_auto_flow": null,
            "grid_auto_rows": null,
            "grid_column": null,
            "grid_gap": null,
            "grid_row": null,
            "grid_template_areas": null,
            "grid_template_columns": null,
            "grid_template_rows": null,
            "height": null,
            "justify_content": null,
            "justify_items": null,
            "left": null,
            "margin": null,
            "max_height": null,
            "max_width": null,
            "min_height": null,
            "min_width": null,
            "object_fit": null,
            "object_position": null,
            "order": null,
            "overflow": null,
            "overflow_x": null,
            "overflow_y": null,
            "padding": null,
            "right": null,
            "top": null,
            "visibility": null,
            "width": null
          }
        },
        "7a0da45539834b1f9044bd5f80e32134": {
          "model_module": "@jupyter-widgets/controls",
          "model_name": "DescriptionStyleModel",
          "model_module_version": "1.5.0",
          "state": {
            "_model_module": "@jupyter-widgets/controls",
            "_model_module_version": "1.5.0",
            "_model_name": "DescriptionStyleModel",
            "_view_count": null,
            "_view_module": "@jupyter-widgets/base",
            "_view_module_version": "1.2.0",
            "_view_name": "StyleView",
            "description_width": ""
          }
        },
        "44a3b2cb7ec5471f9aab308cce9287bd": {
          "model_module": "@jupyter-widgets/base",
          "model_name": "LayoutModel",
          "model_module_version": "1.2.0",
          "state": {
            "_model_module": "@jupyter-widgets/base",
            "_model_module_version": "1.2.0",
            "_model_name": "LayoutModel",
            "_view_count": null,
            "_view_module": "@jupyter-widgets/base",
            "_view_module_version": "1.2.0",
            "_view_name": "LayoutView",
            "align_content": null,
            "align_items": null,
            "align_self": null,
            "border": null,
            "bottom": null,
            "display": null,
            "flex": null,
            "flex_flow": null,
            "grid_area": null,
            "grid_auto_columns": null,
            "grid_auto_flow": null,
            "grid_auto_rows": null,
            "grid_column": null,
            "grid_gap": null,
            "grid_row": null,
            "grid_template_areas": null,
            "grid_template_columns": null,
            "grid_template_rows": null,
            "height": null,
            "justify_content": null,
            "justify_items": null,
            "left": null,
            "margin": null,
            "max_height": null,
            "max_width": null,
            "min_height": null,
            "min_width": null,
            "object_fit": null,
            "object_position": null,
            "order": null,
            "overflow": null,
            "overflow_x": null,
            "overflow_y": null,
            "padding": null,
            "right": null,
            "top": null,
            "visibility": null,
            "width": null
          }
        },
        "c717d0126cd2476d953e3330cf9c5796": {
          "model_module": "@jupyter-widgets/controls",
          "model_name": "ProgressStyleModel",
          "model_module_version": "1.5.0",
          "state": {
            "_model_module": "@jupyter-widgets/controls",
            "_model_module_version": "1.5.0",
            "_model_name": "ProgressStyleModel",
            "_view_count": null,
            "_view_module": "@jupyter-widgets/base",
            "_view_module_version": "1.2.0",
            "_view_name": "StyleView",
            "bar_color": null,
            "description_width": ""
          }
        },
        "468c634fab084d39997d24b66776c542": {
          "model_module": "@jupyter-widgets/base",
          "model_name": "LayoutModel",
          "model_module_version": "1.2.0",
          "state": {
            "_model_module": "@jupyter-widgets/base",
            "_model_module_version": "1.2.0",
            "_model_name": "LayoutModel",
            "_view_count": null,
            "_view_module": "@jupyter-widgets/base",
            "_view_module_version": "1.2.0",
            "_view_name": "LayoutView",
            "align_content": null,
            "align_items": null,
            "align_self": null,
            "border": null,
            "bottom": null,
            "display": null,
            "flex": null,
            "flex_flow": null,
            "grid_area": null,
            "grid_auto_columns": null,
            "grid_auto_flow": null,
            "grid_auto_rows": null,
            "grid_column": null,
            "grid_gap": null,
            "grid_row": null,
            "grid_template_areas": null,
            "grid_template_columns": null,
            "grid_template_rows": null,
            "height": null,
            "justify_content": null,
            "justify_items": null,
            "left": null,
            "margin": null,
            "max_height": null,
            "max_width": null,
            "min_height": null,
            "min_width": null,
            "object_fit": null,
            "object_position": null,
            "order": null,
            "overflow": null,
            "overflow_x": null,
            "overflow_y": null,
            "padding": null,
            "right": null,
            "top": null,
            "visibility": null,
            "width": null
          }
        },
        "1679a606ed9e439da0d6dcd36e79c17d": {
          "model_module": "@jupyter-widgets/controls",
          "model_name": "DescriptionStyleModel",
          "model_module_version": "1.5.0",
          "state": {
            "_model_module": "@jupyter-widgets/controls",
            "_model_module_version": "1.5.0",
            "_model_name": "DescriptionStyleModel",
            "_view_count": null,
            "_view_module": "@jupyter-widgets/base",
            "_view_module_version": "1.2.0",
            "_view_name": "StyleView",
            "description_width": ""
          }
        },
        "e8ae32688c3442cb85855d0b4d377da2": {
          "model_module": "@jupyter-widgets/controls",
          "model_name": "HBoxModel",
          "model_module_version": "1.5.0",
          "state": {
            "_dom_classes": [],
            "_model_module": "@jupyter-widgets/controls",
            "_model_module_version": "1.5.0",
            "_model_name": "HBoxModel",
            "_view_count": null,
            "_view_module": "@jupyter-widgets/controls",
            "_view_module_version": "1.5.0",
            "_view_name": "HBoxView",
            "box_style": "",
            "children": [
              "IPY_MODEL_dba890458b414da49381f2abc448040b",
              "IPY_MODEL_b02ebfabe98a4a029e6c68a530449993",
              "IPY_MODEL_a21fe62f6ed64a1f8b3ccd1d42b58cca"
            ],
            "layout": "IPY_MODEL_ab11494703ec4d6295ac7ed2f7431aca"
          }
        },
        "dba890458b414da49381f2abc448040b": {
          "model_module": "@jupyter-widgets/controls",
          "model_name": "HTMLModel",
          "model_module_version": "1.5.0",
          "state": {
            "_dom_classes": [],
            "_model_module": "@jupyter-widgets/controls",
            "_model_module_version": "1.5.0",
            "_model_name": "HTMLModel",
            "_view_count": null,
            "_view_module": "@jupyter-widgets/controls",
            "_view_module_version": "1.5.0",
            "_view_name": "HTMLView",
            "description": "",
            "description_tooltip": null,
            "layout": "IPY_MODEL_b0342aeb8ee94002ab77bd238ecb9564",
            "placeholder": "​",
            "style": "IPY_MODEL_955eb3b981af4f8e9c06a37e03433750",
            "value": "100%"
          }
        },
        "b02ebfabe98a4a029e6c68a530449993": {
          "model_module": "@jupyter-widgets/controls",
          "model_name": "FloatProgressModel",
          "model_module_version": "1.5.0",
          "state": {
            "_dom_classes": [],
            "_model_module": "@jupyter-widgets/controls",
            "_model_module_version": "1.5.0",
            "_model_name": "FloatProgressModel",
            "_view_count": null,
            "_view_module": "@jupyter-widgets/controls",
            "_view_module_version": "1.5.0",
            "_view_name": "ProgressView",
            "bar_style": "success",
            "description": "",
            "description_tooltip": null,
            "layout": "IPY_MODEL_b57a14dc5d7a4e08bd7e413a69a321b8",
            "max": 1,
            "min": 0,
            "orientation": "horizontal",
            "style": "IPY_MODEL_3a8a558acf7d4b049a448e5f69bd3133",
            "value": 1
          }
        },
        "a21fe62f6ed64a1f8b3ccd1d42b58cca": {
          "model_module": "@jupyter-widgets/controls",
          "model_name": "HTMLModel",
          "model_module_version": "1.5.0",
          "state": {
            "_dom_classes": [],
            "_model_module": "@jupyter-widgets/controls",
            "_model_module_version": "1.5.0",
            "_model_name": "HTMLModel",
            "_view_count": null,
            "_view_module": "@jupyter-widgets/controls",
            "_view_module_version": "1.5.0",
            "_view_name": "HTMLView",
            "description": "",
            "description_tooltip": null,
            "layout": "IPY_MODEL_e685f9dec1c84253943295ca5c9d2beb",
            "placeholder": "​",
            "style": "IPY_MODEL_093269ffceb54140be02605e4d716151",
            "value": " 1/1 [00:00&lt;00:00, 29.71it/s]"
          }
        },
        "ab11494703ec4d6295ac7ed2f7431aca": {
          "model_module": "@jupyter-widgets/base",
          "model_name": "LayoutModel",
          "model_module_version": "1.2.0",
          "state": {
            "_model_module": "@jupyter-widgets/base",
            "_model_module_version": "1.2.0",
            "_model_name": "LayoutModel",
            "_view_count": null,
            "_view_module": "@jupyter-widgets/base",
            "_view_module_version": "1.2.0",
            "_view_name": "LayoutView",
            "align_content": null,
            "align_items": null,
            "align_self": null,
            "border": null,
            "bottom": null,
            "display": null,
            "flex": null,
            "flex_flow": null,
            "grid_area": null,
            "grid_auto_columns": null,
            "grid_auto_flow": null,
            "grid_auto_rows": null,
            "grid_column": null,
            "grid_gap": null,
            "grid_row": null,
            "grid_template_areas": null,
            "grid_template_columns": null,
            "grid_template_rows": null,
            "height": null,
            "justify_content": null,
            "justify_items": null,
            "left": null,
            "margin": null,
            "max_height": null,
            "max_width": null,
            "min_height": null,
            "min_width": null,
            "object_fit": null,
            "object_position": null,
            "order": null,
            "overflow": null,
            "overflow_x": null,
            "overflow_y": null,
            "padding": null,
            "right": null,
            "top": null,
            "visibility": null,
            "width": null
          }
        },
        "b0342aeb8ee94002ab77bd238ecb9564": {
          "model_module": "@jupyter-widgets/base",
          "model_name": "LayoutModel",
          "model_module_version": "1.2.0",
          "state": {
            "_model_module": "@jupyter-widgets/base",
            "_model_module_version": "1.2.0",
            "_model_name": "LayoutModel",
            "_view_count": null,
            "_view_module": "@jupyter-widgets/base",
            "_view_module_version": "1.2.0",
            "_view_name": "LayoutView",
            "align_content": null,
            "align_items": null,
            "align_self": null,
            "border": null,
            "bottom": null,
            "display": null,
            "flex": null,
            "flex_flow": null,
            "grid_area": null,
            "grid_auto_columns": null,
            "grid_auto_flow": null,
            "grid_auto_rows": null,
            "grid_column": null,
            "grid_gap": null,
            "grid_row": null,
            "grid_template_areas": null,
            "grid_template_columns": null,
            "grid_template_rows": null,
            "height": null,
            "justify_content": null,
            "justify_items": null,
            "left": null,
            "margin": null,
            "max_height": null,
            "max_width": null,
            "min_height": null,
            "min_width": null,
            "object_fit": null,
            "object_position": null,
            "order": null,
            "overflow": null,
            "overflow_x": null,
            "overflow_y": null,
            "padding": null,
            "right": null,
            "top": null,
            "visibility": null,
            "width": null
          }
        },
        "955eb3b981af4f8e9c06a37e03433750": {
          "model_module": "@jupyter-widgets/controls",
          "model_name": "DescriptionStyleModel",
          "model_module_version": "1.5.0",
          "state": {
            "_model_module": "@jupyter-widgets/controls",
            "_model_module_version": "1.5.0",
            "_model_name": "DescriptionStyleModel",
            "_view_count": null,
            "_view_module": "@jupyter-widgets/base",
            "_view_module_version": "1.2.0",
            "_view_name": "StyleView",
            "description_width": ""
          }
        },
        "b57a14dc5d7a4e08bd7e413a69a321b8": {
          "model_module": "@jupyter-widgets/base",
          "model_name": "LayoutModel",
          "model_module_version": "1.2.0",
          "state": {
            "_model_module": "@jupyter-widgets/base",
            "_model_module_version": "1.2.0",
            "_model_name": "LayoutModel",
            "_view_count": null,
            "_view_module": "@jupyter-widgets/base",
            "_view_module_version": "1.2.0",
            "_view_name": "LayoutView",
            "align_content": null,
            "align_items": null,
            "align_self": null,
            "border": null,
            "bottom": null,
            "display": null,
            "flex": null,
            "flex_flow": null,
            "grid_area": null,
            "grid_auto_columns": null,
            "grid_auto_flow": null,
            "grid_auto_rows": null,
            "grid_column": null,
            "grid_gap": null,
            "grid_row": null,
            "grid_template_areas": null,
            "grid_template_columns": null,
            "grid_template_rows": null,
            "height": null,
            "justify_content": null,
            "justify_items": null,
            "left": null,
            "margin": null,
            "max_height": null,
            "max_width": null,
            "min_height": null,
            "min_width": null,
            "object_fit": null,
            "object_position": null,
            "order": null,
            "overflow": null,
            "overflow_x": null,
            "overflow_y": null,
            "padding": null,
            "right": null,
            "top": null,
            "visibility": null,
            "width": null
          }
        },
        "3a8a558acf7d4b049a448e5f69bd3133": {
          "model_module": "@jupyter-widgets/controls",
          "model_name": "ProgressStyleModel",
          "model_module_version": "1.5.0",
          "state": {
            "_model_module": "@jupyter-widgets/controls",
            "_model_module_version": "1.5.0",
            "_model_name": "ProgressStyleModel",
            "_view_count": null,
            "_view_module": "@jupyter-widgets/base",
            "_view_module_version": "1.2.0",
            "_view_name": "StyleView",
            "bar_color": null,
            "description_width": ""
          }
        },
        "e685f9dec1c84253943295ca5c9d2beb": {
          "model_module": "@jupyter-widgets/base",
          "model_name": "LayoutModel",
          "model_module_version": "1.2.0",
          "state": {
            "_model_module": "@jupyter-widgets/base",
            "_model_module_version": "1.2.0",
            "_model_name": "LayoutModel",
            "_view_count": null,
            "_view_module": "@jupyter-widgets/base",
            "_view_module_version": "1.2.0",
            "_view_name": "LayoutView",
            "align_content": null,
            "align_items": null,
            "align_self": null,
            "border": null,
            "bottom": null,
            "display": null,
            "flex": null,
            "flex_flow": null,
            "grid_area": null,
            "grid_auto_columns": null,
            "grid_auto_flow": null,
            "grid_auto_rows": null,
            "grid_column": null,
            "grid_gap": null,
            "grid_row": null,
            "grid_template_areas": null,
            "grid_template_columns": null,
            "grid_template_rows": null,
            "height": null,
            "justify_content": null,
            "justify_items": null,
            "left": null,
            "margin": null,
            "max_height": null,
            "max_width": null,
            "min_height": null,
            "min_width": null,
            "object_fit": null,
            "object_position": null,
            "order": null,
            "overflow": null,
            "overflow_x": null,
            "overflow_y": null,
            "padding": null,
            "right": null,
            "top": null,
            "visibility": null,
            "width": null
          }
        },
        "093269ffceb54140be02605e4d716151": {
          "model_module": "@jupyter-widgets/controls",
          "model_name": "DescriptionStyleModel",
          "model_module_version": "1.5.0",
          "state": {
            "_model_module": "@jupyter-widgets/controls",
            "_model_module_version": "1.5.0",
            "_model_name": "DescriptionStyleModel",
            "_view_count": null,
            "_view_module": "@jupyter-widgets/base",
            "_view_module_version": "1.2.0",
            "_view_name": "StyleView",
            "description_width": ""
          }
        }
      }
    }
  },
  "nbformat": 4,
  "nbformat_minor": 0
}